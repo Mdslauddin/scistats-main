{
 "cells": [
  {
   "cell_type": "code",
   "execution_count": null,
   "id": "7cc8fe75",
   "metadata": {},
   "outputs": [],
   "source": [
    "from math import log,exp\n",
    "import statistics\n",
    "def gmean(x):\n",
    "    a = np.log(x)\n",
    "    return exp(sta.mean(a))"
   ]
  },
  {
   "cell_type": "code",
   "execution_count": null,
   "id": "082b6bb7",
   "metadata": {},
   "outputs": [],
   "source": [
    "import numpy as np\n",
    "\n",
    "#define custom function\n",
    "def g_mean(x):\n",
    "    a = np.log(x)\n",
    "    return np.exp(a.mean())\n",
    "\n",
    "#calculate geometric mean \n",
    "\n",
    "# g_mean([value1, value2, value3, ...])"
   ]
  },
  {
   "cell_type": "code",
   "execution_count": null,
   "id": "59e423e1",
   "metadata": {},
   "outputs": [],
   "source": [
    "def hmeans(x):\n",
    "    sums = 0\n",
    "    for els in x:\n",
    "        sums += 1 / ele \n",
    "        res = len(x)/sums \n",
    "        return res "
   ]
  },
  {
   "cell_type": "code",
   "execution_count": null,
   "id": "705818b9",
   "metadata": {},
   "outputs": [],
   "source": [
    "\n",
    " def my_mean(sample):\n",
    "...     return sum(sample) / len(sample)\n",
    "my_mean([4, 8, 6, 5, 3, 2, 8, 9, 2, 5])\n",
    "def mean(x,counts):\n",
    "    return np.sum(x*counts) / np.sum(counts)"
   ]
  },
  {
   "cell_type": "code",
   "execution_count": null,
   "id": "1b764880",
   "metadata": {},
   "outputs": [],
   "source": [
    "def my_median(sample):\n",
    "    \"\"\"\n",
    "    my_median([3, 5, 1, 4, 2, 6])\n",
    "    \n",
    "    my_median([3, 5, 1, 4, 2])\n",
    "    \n",
    "    \"\"\"\n",
    "...     n = len(sample)\n",
    "...     index = n // 2\n",
    "...     # Sample with an odd number of observations\n",
    "...     if n % 2:\n",
    "...         return sorted(sample)[index]\n",
    "...     # Sample with an even number of observations\n",
    "...     return sum(sorted(sample)[index - 1:index + 1]) / 2"
   ]
  },
  {
   "cell_type": "code",
   "execution_count": null,
   "id": "43d7fcc0",
   "metadata": {},
   "outputs": [],
   "source": [
    "from collections import Counter\n",
    "\n",
    "def my_mode(sample):\n",
    "    \"\"\"\n",
    "     my_mode([\"male\", \"male\", \"female\", \"male\"])\n",
    "    my_mode([\"few\", \"few\", \"many\", \"some\", \"many\"])\n",
    "['few', 'many']\n",
    "my_mode([4, 1, 2, 2, 3, 5])\n",
    "    \n",
    "    \"\"\"\n",
    "    c = Counter(sample)\n",
    "    return [k for k, v in c.items() if v == c.most_common(1)[0][1]]"
   ]
  },
  {
   "cell_type": "code",
   "execution_count": null,
   "id": "8b3f5f98",
   "metadata": {},
   "outputs": [],
   "source": [
    "def nmoment(x, counts, c, n):\n",
    "    return sum(counts*(x-c)**n) / np.sum(counts)"
   ]
  },
  {
   "cell_type": "code",
   "execution_count": null,
   "id": "27a784f0",
   "metadata": {},
   "outputs": [],
   "source": [
    "\n",
    "from math import sqrt,pi,exp,erf\n",
    "\n",
    "def pdf(x):\n",
    "    return 1/sqrt(2*pi) * exp(-x**2/2)\n",
    "\n",
    "def cdf(x):\n",
    "    return (1 + erf(x/sqrt(2))) / 2\n",
    "\n",
    "def skew(x,e=0,w=1,a=0):\n",
    "    t = (x-e) / w\n",
    "    return 2 / w * pdf(t) * cdf(a*t)\n",
    "    # You can of course use the scipy.stats.norm versions\n",
    "    # return 2 * norm.pdf(t) * norm.cdf(a*t)"
   ]
  },
  {
   "cell_type": "code",
   "execution_count": null,
   "id": "43c91011",
   "metadata": {},
   "outputs": [],
   "source": []
  },
  {
   "cell_type": "code",
   "execution_count": null,
   "id": "31f74982",
   "metadata": {},
   "outputs": [],
   "source": []
  },
  {
   "cell_type": "code",
   "execution_count": null,
   "id": "13176b48",
   "metadata": {},
   "outputs": [],
   "source": []
  },
  {
   "cell_type": "code",
   "execution_count": null,
   "id": "ce7dd281",
   "metadata": {},
   "outputs": [],
   "source": []
  },
  {
   "cell_type": "code",
   "execution_count": null,
   "id": "72880e69",
   "metadata": {},
   "outputs": [],
   "source": []
  },
  {
   "cell_type": "code",
   "execution_count": null,
   "id": "5934be7b",
   "metadata": {},
   "outputs": [],
   "source": []
  },
  {
   "cell_type": "code",
   "execution_count": null,
   "id": "1f389feb",
   "metadata": {},
   "outputs": [],
   "source": []
  },
  {
   "cell_type": "code",
   "execution_count": null,
   "id": "c3ee4e91",
   "metadata": {},
   "outputs": [],
   "source": []
  },
  {
   "cell_type": "code",
   "execution_count": 9,
   "id": "093fccd9",
   "metadata": {},
   "outputs": [],
   "source": [
    "def mean(data,*,dtype=float):\n",
    "    \"\"\"\n",
    "    mean([1,2,4,5,6,7])\n",
    "    4.0\n",
    "    \"\"\"\n",
    "    return dtype(sum(data)/len(data))"
   ]
  },
  {
   "cell_type": "code",
   "execution_count": 10,
   "id": "c9746d25",
   "metadata": {},
   "outputs": [
    {
     "data": {
      "text/plain": [
       "4.0"
      ]
     },
     "execution_count": 10,
     "metadata": {},
     "output_type": "execute_result"
    }
   ],
   "source": [
    "mean([1,2,3,4,5,6,7])"
   ]
  },
  {
   "cell_type": "code",
   "execution_count": 11,
   "id": "c5db934f",
   "metadata": {},
   "outputs": [],
   "source": [
    "def median(data,*,dtype=None):\n",
    "        s: list[int | float] = sorted(data)\n",
    "        if len(s) % 2 == 0:\n",
    "            return float((s[int(len(s) / 2) - 1] + s[int(len(s) / 2)]) / 2)\n",
    "        else:\n",
    "            return float(s[int(len(s) / 2)])"
   ]
  },
  {
   "cell_type": "code",
   "execution_count": null,
   "id": "be0f8570",
   "metadata": {},
   "outputs": [],
   "source": [
    "def factorial(n):\n",
    "    return 1 if(n==1 or n==0) else n*factorial(n-1)"
   ]
  },
  {
   "cell_type": "code",
   "execution_count": 12,
   "id": "80d99bcd",
   "metadata": {},
   "outputs": [],
   "source": [
    "def permutations(n,m):\n",
    "    if(n >= m):\n",
    "        minus = (n-m)\n",
    "        n = factorial(n)\n",
    "        m = factorial(minus)\n",
    "        \n",
    "        return (n/m)"
   ]
  },
  {
   "cell_type": "code",
   "execution_count": 13,
   "id": "9b3d0693",
   "metadata": {},
   "outputs": [],
   "source": [
    "def combination(n,m):\n",
    "    if (n >= m):\n",
    "        minus = (n-m)\n",
    "        n = factorial(n)\n",
    "        m = factorial(m)* factorial(minus)\n",
    "        \n",
    "        return ((n/m))"
   ]
  },
  {
   "cell_type": "code",
   "execution_count": 14,
   "id": "2aed4312",
   "metadata": {},
   "outputs": [],
   "source": [
    "def ranges(x):\n",
    "    return float(max(x)-min(x))"
   ]
  },
  {
   "cell_type": "code",
   "execution_count": null,
   "id": "47793c59",
   "metadata": {},
   "outputs": [],
   "source": [
    "def std(x):\n",
    "    x = sum(x)\n",
    "    return float(sqrt(x))"
   ]
  },
  {
   "cell_type": "code",
   "execution_count": null,
   "id": "6812303a",
   "metadata": {},
   "outputs": [],
   "source": [
    "@property\n",
    "def variance(self) -> float:\n",
    "    mean: float = self.mean\n",
    "    variance_sum: int = 0\n",
    "    for d in self.numerical_data:\n",
    "        variance_sum += (d - mean) ** 2\n",
    "    return float(variance_sum / len(self.numerical_data))"
   ]
  },
  {
   "cell_type": "code",
   "execution_count": null,
   "id": "42e7c9ba",
   "metadata": {},
   "outputs": [],
   "source": [
    "def combination(n,m):\n",
    "    if (n >= m):\n",
    "        minus = (n-m)\n",
    "        n = factorial(n)\n",
    "        m = factorial(m)* factorial(minus)\n",
    "        \n",
    "        return ((n/m))"
   ]
  },
  {
   "cell_type": "code",
   "execution_count": null,
   "id": "911eeef9",
   "metadata": {},
   "outputs": [],
   "source": [
    "def percentile(sorted_list, percent, key=lambda x: x):\n",
    "    \"\"\"Find the percentile of a sorted list of values.\n",
    "\n",
    "    Arguments\n",
    "    ---------\n",
    "    sorted_list : list\n",
    "        A sorted (ascending) list of values.\n",
    "    percent : float\n",
    "        A float value from 0.0 to 1.0.\n",
    "    key : function, optional\n",
    "        An optional function to compute a value from each element of N.\n",
    "\n",
    "    Returns\n",
    "    -------\n",
    "    float\n",
    "        The desired percentile of the value list.\n",
    "\n",
    "    Examples\n",
    "    --------\n",
    "    >>> sorted_list = [4,6,8,9,11]\n",
    "    >>> percentile(sorted_list, 0.4)\n",
    "    7.0\n",
    "    >>> percentile(sorted_list, 0.44)\n",
    "    8.0\n",
    "    >>> percentile(sorted_list, 0.6)\n",
    "    8.5\n",
    "    >>> percentile(sorted_list, 0.99)\n",
    "    11.0\n",
    "    >>> percentile(sorted_list, 1)\n",
    "    11.0\n",
    "    >>> percentile(sorted_list, 0)\n",
    "    4.0\n",
    "    \"\"\"\n",
    "    if not sorted_list:\n",
    "        return None\n",
    "    if percent == 1:\n",
    "        return float(sorted_list[-1])\n",
    "    if percent == 0:\n",
    "        return float(sorted_list[0])\n",
    "    n = len(sorted_list)\n",
    "    i = percent * n\n",
    "    if ceil(i) == i:\n",
    "        i = int(i)\n",
    "        return (sorted_list[i-1] + sorted_list[i]) / 2\n",
    "    return float(sorted_list[ceil(i)-1])\n",
    "\n",
    "\n"
   ]
  },
  {
   "cell_type": "code",
   "execution_count": null,
   "id": "deb6f3e3",
   "metadata": {},
   "outputs": [],
   "source": [
    "def permutations(n,m):\n",
    "    if(n >= m):\n",
    "        minus = (n-m)\n",
    "        n = factorial(n)\n",
    "        m = factorial(minus)\n",
    "        \n",
    "        return (n/m)"
   ]
  },
  {
   "cell_type": "code",
   "execution_count": null,
   "id": "164dd73c",
   "metadata": {},
   "outputs": [],
   "source": []
  }
 ],
 "metadata": {
  "kernelspec": {
   "display_name": "Python 3 (ipykernel)",
   "language": "python",
   "name": "python3"
  },
  "language_info": {
   "codemirror_mode": {
    "name": "ipython",
    "version": 3
   },
   "file_extension": ".py",
   "mimetype": "text/x-python",
   "name": "python",
   "nbconvert_exporter": "python",
   "pygments_lexer": "ipython3",
   "version": "3.9.12"
  }
 },
 "nbformat": 4,
 "nbformat_minor": 5
}
