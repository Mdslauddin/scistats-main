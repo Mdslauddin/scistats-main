{
 "cells": [
  {
   "cell_type": "code",
   "execution_count": 1,
   "id": "38a7c838",
   "metadata": {},
   "outputs": [],
   "source": [
    "def factorial(n):\n",
    "    return 1 if(n==1 or n==0) else n*factorial(n-1)"
   ]
  },
  {
   "cell_type": "code",
   "execution_count": null,
   "id": "7a8b2e0a",
   "metadata": {},
   "outputs": [],
   "source": [
    "factorial(0)"
   ]
  },
  {
   "cell_type": "code",
   "execution_count": null,
   "id": "4b15b4e1",
   "metadata": {},
   "outputs": [],
   "source": [
    "factorial(1)"
   ]
  },
  {
   "cell_type": "code",
   "execution_count": null,
   "id": "a93d0c9d",
   "metadata": {},
   "outputs": [],
   "source": [
    "factorial(5)"
   ]
  },
  {
   "cell_type": "code",
   "execution_count": null,
   "id": "8d262c2d",
   "metadata": {},
   "outputs": [],
   "source": [
    "n=5\n",
    "factorial(n)"
   ]
  },
  {
   "cell_type": "code",
   "execution_count": null,
   "id": "0b07569e",
   "metadata": {},
   "outputs": [],
   "source": []
  },
  {
   "cell_type": "code",
   "execution_count": null,
   "id": "d3991057",
   "metadata": {},
   "outputs": [],
   "source": []
  },
  {
   "cell_type": "code",
   "execution_count": 4,
   "id": "fc6020a3",
   "metadata": {},
   "outputs": [],
   "source": [
    "def permutations(n,m):\n",
    "    if(n >= m):\n",
    "        minus = (n-m)\n",
    "        n = factorial(n)\n",
    "        m = factorial(minus)\n",
    "        \n",
    "        return (n/m)"
   ]
  },
  {
   "cell_type": "code",
   "execution_count": 5,
   "id": "cdbdd7f8",
   "metadata": {},
   "outputs": [
    {
     "data": {
      "text/plain": [
       "120.0"
      ]
     },
     "execution_count": 5,
     "metadata": {},
     "output_type": "execute_result"
    }
   ],
   "source": [
    "permutations(5,4)"
   ]
  },
  {
   "cell_type": "code",
   "execution_count": 6,
   "id": "ef4bd41c",
   "metadata": {},
   "outputs": [],
   "source": [
    "def combination(n,m):\n",
    "    if (n >= m):\n",
    "        minus = (n-m)\n",
    "        n = factorial(n)\n",
    "        m = factorial(m)* factorial(minus)\n",
    "        \n",
    "        return ((n/m))"
   ]
  },
  {
   "cell_type": "code",
   "execution_count": 7,
   "id": "4c787a91",
   "metadata": {},
   "outputs": [
    {
     "data": {
      "text/plain": [
       "5.0"
      ]
     },
     "execution_count": 7,
     "metadata": {},
     "output_type": "execute_result"
    }
   ],
   "source": [
    "combination(5,4)"
   ]
  },
  {
   "cell_type": "code",
   "execution_count": null,
   "id": "efa9d5fa",
   "metadata": {},
   "outputs": [],
   "source": []
  },
  {
   "cell_type": "code",
   "execution_count": null,
   "id": "eee62dc0",
   "metadata": {},
   "outputs": [],
   "source": []
  },
  {
   "cell_type": "code",
   "execution_count": null,
   "id": "4671d465",
   "metadata": {},
   "outputs": [],
   "source": []
  },
  {
   "cell_type": "code",
   "execution_count": null,
   "id": "7b6c4315",
   "metadata": {},
   "outputs": [],
   "source": []
  },
  {
   "cell_type": "code",
   "execution_count": null,
   "id": "d68df18d",
   "metadata": {},
   "outputs": [],
   "source": [
    "import numpy as np\n"
   ]
  },
  {
   "cell_type": "code",
   "execution_count": null,
   "id": "de66ccc5",
   "metadata": {},
   "outputs": [],
   "source": [
    "np.random.permutation(4)"
   ]
  },
  {
   "cell_type": "code",
   "execution_count": null,
   "id": "b4ad56c8",
   "metadata": {},
   "outputs": [],
   "source": [
    "from itertools import permutations"
   ]
  },
  {
   "cell_type": "code",
   "execution_count": null,
   "id": "c80a703e",
   "metadata": {},
   "outputs": [],
   "source": [
    "permutations([5,4])"
   ]
  },
  {
   "cell_type": "code",
   "execution_count": null,
   "id": "296d3805",
   "metadata": {},
   "outputs": [],
   "source": []
  }
 ],
 "metadata": {
  "kernelspec": {
   "display_name": "Python 3 (ipykernel)",
   "language": "python",
   "name": "python3"
  },
  "language_info": {
   "codemirror_mode": {
    "name": "ipython",
    "version": 3
   },
   "file_extension": ".py",
   "mimetype": "text/x-python",
   "name": "python",
   "nbconvert_exporter": "python",
   "pygments_lexer": "ipython3",
   "version": "3.9.12"
  }
 },
 "nbformat": 4,
 "nbformat_minor": 5
}
