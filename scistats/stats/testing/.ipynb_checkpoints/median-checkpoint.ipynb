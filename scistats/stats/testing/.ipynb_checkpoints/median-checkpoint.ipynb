{
 "cells": [
  {
   "cell_type": "code",
   "execution_count": 1,
   "id": "49c80863",
   "metadata": {},
   "outputs": [],
   "source": [
    "def median(data,*,dtype=None):\n",
    "        s: list[int | float] = sorted(data)\n",
    "        if len(s) % 2 == 0:\n",
    "            return float((s[int(len(s) / 2) - 1] + s[int(len(s) / 2)]) / 2)\n",
    "        else:\n",
    "            return float(s[int(len(s) / 2)])\n"
   ]
  },
  {
   "cell_type": "code",
   "execution_count": 2,
   "id": "454c10a3",
   "metadata": {},
   "outputs": [
    {
     "data": {
      "text/plain": [
       "3.0"
      ]
     },
     "execution_count": 2,
     "metadata": {},
     "output_type": "execute_result"
    }
   ],
   "source": [
    "median([1,2,3,4,5])"
   ]
  },
  {
   "cell_type": "code",
   "execution_count": 5,
   "id": "6dffa58e",
   "metadata": {},
   "outputs": [
    {
     "data": {
      "text/plain": [
       "100.0"
      ]
     },
     "execution_count": 5,
     "metadata": {},
     "output_type": "execute_result"
    }
   ],
   "source": [
    "import numpy as np \n",
    "np.median(100)"
   ]
  },
  {
   "cell_type": "code",
   "execution_count": null,
   "id": "384b98a5",
   "metadata": {},
   "outputs": [],
   "source": []
  }
 ],
 "metadata": {
  "kernelspec": {
   "display_name": "Python 3 (ipykernel)",
   "language": "python",
   "name": "python3"
  },
  "language_info": {
   "codemirror_mode": {
    "name": "ipython",
    "version": 3
   },
   "file_extension": ".py",
   "mimetype": "text/x-python",
   "name": "python",
   "nbconvert_exporter": "python",
   "pygments_lexer": "ipython3",
   "version": "3.9.12"
  }
 },
 "nbformat": 4,
 "nbformat_minor": 5
}
