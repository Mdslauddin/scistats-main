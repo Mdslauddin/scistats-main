{
 "cells": [
  {
   "cell_type": "markdown",
   "id": "c0282216",
   "metadata": {},
   "source": [
    "`Mean`\n",
    "`Median`\n",
    "`Mode`\n",
    "`Range`\n",
    "`variance`\n",
    "`standard variance`\n",
    "\n"
   ]
  },
  {
   "cell_type": "code",
   "execution_count": null,
   "id": "e00a27c6",
   "metadata": {},
   "outputs": [],
   "source": [
    "@property\n",
    "def mean(self) -> float:\n",
    "    \n",
    "    return float(sum(self.numerical_data) / len(self.numerical_data))"
   ]
  },
  {
   "cell_type": "code",
   "execution_count": null,
   "id": "4d03b704",
   "metadata": {},
   "outputs": [],
   "source": [
    "mean(1.2,3.4)"
   ]
  },
  {
   "cell_type": "markdown",
   "id": "00d35efb",
   "metadata": {},
   "source": [
    "Type:        property\n",
    "String form: <property object at 0x000001C189B36EA0>\n",
    "Docstring:   <no docstring>"
   ]
  },
  {
   "cell_type": "code",
   "execution_count": null,
   "id": "5c5e03ea",
   "metadata": {},
   "outputs": [],
   "source": [
    "def mean(data,*,dtype=None):\n",
    "    return sum(data)/len(data)"
   ]
  },
  {
   "cell_type": "code",
   "execution_count": null,
   "id": "bc290358",
   "metadata": {},
   "outputs": [],
   "source": [
    "mean([1,2,4,5,6,7] , dtype=int)"
   ]
  },
  {
   "cell_type": "code",
   "execution_count": null,
   "id": "e5404058",
   "metadata": {},
   "outputs": [],
   "source": [
    "import numpy as np "
   ]
  },
  {
   "cell_type": "code",
   "execution_count": null,
   "id": "6c04c288",
   "metadata": {},
   "outputs": [],
   "source": [
    "lst =[1,2,4,5,6,7]\n",
    "np.mean(lst)"
   ]
  },
  {
   "cell_type": "code",
   "execution_count": null,
   "id": "bdb7c4f8",
   "metadata": {},
   "outputs": [],
   "source": [
    "          "
   ]
  },
  {
   "cell_type": "code",
   "execution_count": null,
   "id": "45f5932e",
   "metadata": {},
   "outputs": [],
   "source": [
    "lst =([1,2,3])\n",
    "np.median(lst)"
   ]
  },
  {
   "cell_type": "code",
   "execution_count": null,
   "id": "59afd046",
   "metadata": {},
   "outputs": [],
   "source": []
  },
  {
   "cell_type": "code",
   "execution_count": null,
   "id": "5174361d",
   "metadata": {},
   "outputs": [],
   "source": [
    "median([1,2,3])"
   ]
  },
  {
   "cell_type": "code",
   "execution_count": null,
   "id": "ae94a036",
   "metadata": {},
   "outputs": [],
   "source": [
    " @property\n",
    "def mode(self) -> list[int | float]:\n",
    "    mode: list[int | float] = []\n",
    "    max_count: int = 0\n",
    "    levels: int = -1\n",
    "    element: int | float = self.numerical_data[0]\n",
    "    counter: int = 1\n",
    "    for i in range(1, len(self.numerical_data)):\n",
    "        if self.numerical_data[i] == element:\n",
    "            counter += 1\n",
    "        else:\n",
    "            if counter == max_count:\n",
    "                mode.append(element)\n",
    "            elif counter > max_count:\n",
    "                max_count = counter\n",
    "                mode = [element] \n",
    "                levels += 1\n",
    "                element = self.numerical_data[i]\n",
    "                counter = 1\n",
    "        if counter == max_count:\n",
    "            mode.append(element)\n",
    "        elif counter > max_count:\n",
    "            max_count = counter\n",
    "            mode = [element] \n",
    "            levels += 1\n",
    "        return mode if levels != 0 else []"
   ]
  },
  {
   "cell_type": "raw",
   "id": "61e8246a",
   "metadata": {},
   "source": [
    "==================  =============================================\n",
    "Function            Description\n",
    "==================  =============================================\n",
    "mean                Arithmetic mean (average) of data.\n",
    "median              Median (middle value) of data.\n",
    "median_low          Low median of data.\n",
    "median_high         High median of data.\n",
    "median_grouped      Median, or 50th percentile, of grouped data.\n",
    "mode                Mode (most common value) of data.\n",
    "==================  ============================================="
   ]
  },
  {
   "cell_type": "code",
   "execution_count": null,
   "id": "3a06076c",
   "metadata": {},
   "outputs": [],
   "source": [
    "import collections\n",
    "import math\n",
    "\n",
    "from fractions import Fraction\n",
    "from decimal import Decimal\n"
   ]
  },
  {
   "cell_type": "code",
   "execution_count": null,
   "id": "6acd37dc",
   "metadata": {},
   "outputs": [],
   "source": [
    "def _check_type(T, allowed):\n",
    "    if T not in allowed:\n",
    "        if len(allowed) == 1:\n",
    "            allowed.add(T)\n",
    "        else:\n",
    "            types = u', '.join([t.__name__ for t in allowed] + [T.__name__])\n",
    "            raise TypeError(u\"unsupported mixed types: %s\" % types)\n",
    "\n"
   ]
  },
  {
   "cell_type": "code",
   "execution_count": null,
   "id": "4953ddd4",
   "metadata": {},
   "outputs": [],
   "source": [
    "def _sum(data, start=0):\n",
    "    u\"\"\"_sum(data [, start]) -> value\n",
    "\n",
    "    Return a high-precision sum of the given numeric data. If optional\n",
    "    argument ``start`` is given, it is added to the total. If ``data`` is\n",
    "    empty, ``start`` (defaulting to 0) is returned.\n",
    "\n",
    "\n",
    "    Examples\n",
    "    --------\n",
    "\n",
    "    >>> _sum([3, 2.25, 4.5, -0.5, 1.0], 0.75)\n",
    "    11.0\n",
    "\n",
    "    Some sources of round-off error will be avoided:\n",
    "\n",
    "    >>> _sum([1e50, 1, -1e50] * 1000)  # Built-in sum returns zero.\n",
    "    1000.0\n",
    "\n",
    "    Fractions and Decimals are also supported:\n",
    "\n",
    "    >>> from fractions import Fraction as F\n",
    "    >>> _sum([F(2, 3), F(7, 5), F(1, 4), F(5, 6)])\n",
    "    Fraction(63, 20)\n",
    "\n",
    "    >>> from decimal import Decimal as D\n",
    "    >>> data = [D(\"0.1375\"), D(\"0.2108\"), D(\"0.3061\"), D(\"0.0419\")]\n",
    "    >>> _sum(data)\n",
    "    Decimal('0.6963')\n",
    "\n",
    "    Mixed types are currently treated as an error, except that int is\n",
    "    allowed.\n",
    "    \"\"\"\n",
    "    # We fail as soon as we reach a value that is not an int or the type of\n",
    "    # the first value which is not an int. E.g. _sum([int, int, float, int])\n",
    "    # is okay, but sum([int, int, float, Fraction]) is not.\n",
    "    allowed_types = set([int, type(start)])\n",
    "    n, d = _exact_ratio(start)\n",
    "    partials = {d: n}  # map {denominator: sum of numerators}\n",
    "    # Micro-optimizations.\n",
    "    exact_ratio = _exact_ratio\n",
    "    partials_get = partials.get\n",
    "    # Add numerators for each denominator.\n",
    "    for x in data:\n",
    "        _check_type(type(x), allowed_types)\n",
    "        n, d = exact_ratio(x)\n",
    "        partials[d] = partials_get(d, 0) + n\n",
    "    # Find the expected result type. If allowed_types has only one item, it\n",
    "    # will be int; if it has two, use the one which isn't int.\n",
    "    assert len(allowed_types) in (1, 2)\n",
    "    if len(allowed_types) == 1:\n",
    "        assert allowed_types.pop() is int\n",
    "        T = int\n",
    "    else:\n",
    "        T = (allowed_types - set([int])).pop()\n",
    "    if None in partials:\n",
    "        assert issubclass(T, (float, Decimal))\n",
    "        assert not math.isfinite(partials[None])\n",
    "        return T(partials[None])\n",
    "    total = Fraction()\n",
    "    for d, n in sorted(partials.items()):\n",
    "        total += Fraction(n, d)\n",
    "    if issubclass(T, int):\n",
    "        assert total.denominator == 1\n",
    "        return T(total.numerator)\n",
    "    if issubclass(T, Decimal):\n",
    "        return T(total.numerator)/total.denominator\n",
    "    return T(total)\n"
   ]
  },
  {
   "cell_type": "code",
   "execution_count": null,
   "id": "97cfbcc2",
   "metadata": {},
   "outputs": [],
   "source": [
    "def _exact_ratio(x):\n",
    "    u\"\"\"Convert Real number x exactly to (numerator, denominator) pair.\n",
    "\n",
    "    >>> _exact_ratio(0.25)\n",
    "    (1, 4)\n",
    "\n",
    "    x is expected to be an int, Fraction, Decimal or float.\n",
    "    \"\"\"\n",
    "    try:\n",
    "        try:\n",
    "            # int, Fraction\n",
    "            return (x.numerator, x.denominator)\n",
    "        except AttributeError:\n",
    "            # float\n",
    "            try:\n",
    "                return x.as_integer_ratio()\n",
    "            except AttributeError:\n",
    "                # Decimal\n",
    "                try:\n",
    "                    return _decimal_to_ratio(x)\n",
    "                except AttributeError:\n",
    "                    msg = u\"can't convert type '{}' to numerator/denominator\"\n",
    "                    raise TypeError(msg.format(type(x).__name__))\n",
    "    except (OverflowError, ValueError):\n",
    "        # INF or NAN\n",
    "        if __debug__:\n",
    "            # Decimal signalling NANs cannot be converted to float :-(\n",
    "            if isinstance(x, Decimal):\n",
    "                assert not x.is_finite()\n",
    "            else:\n",
    "                assert not math.isfinite(x)\n",
    "        return (x, None)"
   ]
  },
  {
   "cell_type": "code",
   "execution_count": null,
   "id": "8796f38c",
   "metadata": {},
   "outputs": [],
   "source": [
    "def mean(data):\n",
    "    u\"\"\"Return the sample arithmetic mean of data.\n",
    "\n",
    "    >>> mean([1, 2, 3, 4, 4])\n",
    "    2.8\n",
    "\n",
    "    >>> from fractions import Fraction as F\n",
    "    >>> mean([F(3, 7), F(1, 21), F(5, 3), F(1, 3)])\n",
    "    Fraction(13, 21)\n",
    "\n",
    "    >>> from decimal import Decimal as D\n",
    "    >>> mean([D(\"0.5\"), D(\"0.75\"), D(\"0.625\"), D(\"0.375\")])\n",
    "    Decimal('0.5625')\n",
    "\n",
    "    If ``data`` is empty, StatisticsError will be raised.\n",
    "    \"\"\"\n",
    "    if iter(data) is data:\n",
    "        data = list(data)\n",
    "    n = len(data)\n",
    "    if n < 1:\n",
    "        raise StatisticsError(u'mean requires at least one data point')\n",
    "    return _sum(data)/n"
   ]
  },
  {
   "cell_type": "code",
   "execution_count": null,
   "id": "f9798bdd",
   "metadata": {
    "scrolled": true
   },
   "outputs": [],
   "source": []
  },
  {
   "cell_type": "code",
   "execution_count": null,
   "id": "74e01edb",
   "metadata": {},
   "outputs": [],
   "source": [
    "def median_low(data):\n",
    "    u\"\"\"Return the low median of numeric data.\n",
    "\n",
    "    When the number of data points is odd, the middle value is returned.\n",
    "    When it is even, the smaller of the two middle values is returned.\n",
    "\n",
    "    >>> median_low([1, 3, 5])\n",
    "    3\n",
    "    >>> median_low([1, 3, 5, 7])\n",
    "    3\n",
    "\n",
    "    \"\"\"\n",
    "    data = sorted(data)\n",
    "    n = len(data)\n",
    "    if n == 0:\n",
    "        raise StatisticsError(u\"no median for empty data\")\n",
    "    if n%2 == 1:\n",
    "        return data[n//2]\n",
    "    else:\n",
    "        return data[n//2 - 1]"
   ]
  },
  {
   "cell_type": "code",
   "execution_count": null,
   "id": "439b341b",
   "metadata": {},
   "outputs": [],
   "source": [
    "median_low([1, 3, 5])"
   ]
  },
  {
   "cell_type": "code",
   "execution_count": null,
   "id": "7273bb46",
   "metadata": {},
   "outputs": [],
   "source": [
    "def median_high(data):\n",
    "    u\"\"\"Return the high median of data.\n",
    "\n",
    "    When the number of data points is odd, the middle value is returned.\n",
    "    When it is even, the larger of the two middle values is returned.\n",
    "\n",
    "    >>> median_high([1, 3, 5])\n",
    "    3\n",
    "    >>> median_high([1, 3, 5, 7])\n",
    "    5\n",
    "\n",
    "    \"\"\"\n",
    "    data = sorted(data)\n",
    "    n = len(data)\n",
    "    if n == 0:\n",
    "        raise StatisticsError(u\"no median for empty data\")\n",
    "    return data[n//2]\n"
   ]
  },
  {
   "cell_type": "code",
   "execution_count": null,
   "id": "bb19e72b",
   "metadata": {},
   "outputs": [],
   "source": [
    "median_high([3,4,5])"
   ]
  },
  {
   "cell_type": "code",
   "execution_count": null,
   "id": "9e69e115",
   "metadata": {},
   "outputs": [],
   "source": []
  },
  {
   "cell_type": "code",
   "execution_count": 3,
   "id": "b3f27d91",
   "metadata": {},
   "outputs": [],
   "source": [
    "\n",
    "\n",
    "def median_grouped(data, interval=1):\n",
    "    u\"\"\"\"Return the 50th percentile (median) of grouped continuous data.\n",
    "\n",
    "    >>> median_grouped([1, 2, 2, 3, 4, 4, 4, 4, 4, 5])\n",
    "    3.7\n",
    "    >>> median_grouped([52, 52, 53, 54])\n",
    "    52.5\n",
    "\n",
    "    This calculates the median as the 50th percentile, and should be\n",
    "    used when your data is continuous and grouped. In the above example,\n",
    "    the values 1, 2, 3, etc. actually represent the midpoint of classes\n",
    "    0.5-1.5, 1.5-2.5, 2.5-3.5, etc. The middle value falls somewhere in\n",
    "    class 3.5-4.5, and interpolation is used to estimate it.\n",
    "\n",
    "    Optional argument ``interval`` represents the class interval, and\n",
    "    defaults to 1. Changing the class interval naturally will change the\n",
    "    interpolated 50th percentile value:\n",
    "\n",
    "    >>> median_grouped([1, 3, 3, 5, 7], interval=1)\n",
    "    3.25\n",
    "    >>> median_grouped([1, 3, 3, 5, 7], interval=2)\n",
    "    3.5\n",
    "\n",
    "    This function does not check whether the data points are at least\n",
    "    ``interval`` apart.\n",
    "    \"\"\"\n",
    "    data = sorted(data)\n",
    "    n = len(data)\n",
    "    if n == 0:\n",
    "        raise StatisticsError(u\"no median for empty data\")\n",
    "    elif n == 1:\n",
    "        return data[0]\n",
    "    # Find the value at the midpoint. Remember this corresponds to the\n",
    "    # centre of the class interval.\n",
    "    x = data[n//2]\n",
    "    for obj in (x, interval):\n",
    "        if isinstance(obj, (str)):\n",
    "            raise TypeError(u'expected number but got %r' % obj)\n",
    "    try:\n",
    "        L = x - interval/2  # The lower limit of the median interval.\n",
    "    except TypeError:\n",
    "        # Mixed type. For now we just coerce to float.\n",
    "        L = float(x) - float(interval)/2\n",
    "    cf = data.index(x)  # Number of values below the median interval.\n",
    "    # FIXME The following line could be more efficient for big lists.\n",
    "    f = data.count(x)  # Number of data points in the median interval.\n",
    "    return L + interval*(n/2 - cf)/f"
   ]
  },
  {
   "cell_type": "code",
   "execution_count": null,
   "id": "85e9cde5",
   "metadata": {},
   "outputs": [],
   "source": []
  },
  {
   "cell_type": "code",
   "execution_count": 8,
   "id": "34e4fed4",
   "metadata": {},
   "outputs": [
    {
     "data": {
      "text/plain": [
       "3.9"
      ]
     },
     "execution_count": 8,
     "metadata": {},
     "output_type": "execute_result"
    }
   ],
   "source": [
    "median_grouped([1, 2, 2, 3, 4, 4, 4, 4, 4, 5,6,7])"
   ]
  },
  {
   "cell_type": "code",
   "execution_count": null,
   "id": "b08f170c",
   "metadata": {},
   "outputs": [],
   "source": [
    "!pip install unicode"
   ]
  },
  {
   "cell_type": "code",
   "execution_count": 5,
   "id": "793bf6da",
   "metadata": {},
   "outputs": [],
   "source": [
    "import statistics"
   ]
  },
  {
   "cell_type": "code",
   "execution_count": 7,
   "id": "673559b5",
   "metadata": {},
   "outputs": [
    {
     "data": {
      "text/plain": [
       "3.9"
      ]
     },
     "execution_count": 7,
     "metadata": {},
     "output_type": "execute_result"
    }
   ],
   "source": [
    "statistics.median_grouped([1, 2, 2, 3, 4, 4, 4, 4, 4, 5,6,7])"
   ]
  },
  {
   "cell_type": "raw",
   "id": "faed15a6",
   "metadata": {},
   "source": [
    "Calculating variability or spread\n",
    "---------------------------------\n",
    "\n",
    "==================  =============================================\n",
    "Function            Description\n",
    "==================  =============================================\n",
    "pvariance           Population variance of data.\n",
    "variance            Sample variance of data.\n",
    "pstdev              Population standard deviation of data.\n",
    "stdev               Sample standard deviation of data.\n",
    "==================  ============================================="
   ]
  },
  {
   "cell_type": "code",
   "execution_count": null,
   "id": "c97b282e",
   "metadata": {},
   "outputs": [],
   "source": []
  },
  {
   "cell_type": "code",
   "execution_count": null,
   "id": "d3d9aff5",
   "metadata": {},
   "outputs": [],
   "source": []
  },
  {
   "cell_type": "code",
   "execution_count": null,
   "id": "82df60c4",
   "metadata": {},
   "outputs": [],
   "source": []
  },
  {
   "cell_type": "code",
   "execution_count": null,
   "id": "5694cce6",
   "metadata": {},
   "outputs": [],
   "source": []
  },
  {
   "cell_type": "code",
   "execution_count": null,
   "id": "e16b9c9a",
   "metadata": {},
   "outputs": [],
   "source": []
  },
  {
   "cell_type": "code",
   "execution_count": null,
   "id": "fcc94f3f",
   "metadata": {},
   "outputs": [],
   "source": []
  },
  {
   "cell_type": "code",
   "execution_count": null,
   "id": "986a7a87",
   "metadata": {},
   "outputs": [],
   "source": []
  },
  {
   "cell_type": "code",
   "execution_count": null,
   "id": "fdc4c382",
   "metadata": {},
   "outputs": [],
   "source": []
  },
  {
   "cell_type": "code",
   "execution_count": null,
   "id": "0b1c68fc",
   "metadata": {},
   "outputs": [],
   "source": []
  },
  {
   "cell_type": "code",
   "execution_count": null,
   "id": "b0762965",
   "metadata": {},
   "outputs": [],
   "source": []
  },
  {
   "cell_type": "code",
   "execution_count": null,
   "id": "ce281a4d",
   "metadata": {},
   "outputs": [],
   "source": []
  },
  {
   "cell_type": "code",
   "execution_count": null,
   "id": "bd54c351",
   "metadata": {},
   "outputs": [],
   "source": []
  },
  {
   "cell_type": "code",
   "execution_count": null,
   "id": "787e89ab",
   "metadata": {},
   "outputs": [],
   "source": []
  },
  {
   "cell_type": "code",
   "execution_count": null,
   "id": "6408380e",
   "metadata": {},
   "outputs": [],
   "source": []
  },
  {
   "cell_type": "code",
   "execution_count": null,
   "id": "04ce7449",
   "metadata": {},
   "outputs": [],
   "source": []
  },
  {
   "cell_type": "code",
   "execution_count": null,
   "id": "d25dfc6b",
   "metadata": {},
   "outputs": [],
   "source": []
  },
  {
   "cell_type": "code",
   "execution_count": null,
   "id": "b279ead3",
   "metadata": {},
   "outputs": [],
   "source": []
  },
  {
   "cell_type": "code",
   "execution_count": null,
   "id": "68a8eab3",
   "metadata": {},
   "outputs": [],
   "source": []
  },
  {
   "cell_type": "code",
   "execution_count": null,
   "id": "98be8987",
   "metadata": {},
   "outputs": [],
   "source": []
  },
  {
   "cell_type": "code",
   "execution_count": null,
   "id": "f41cfc96",
   "metadata": {},
   "outputs": [],
   "source": []
  },
  {
   "cell_type": "code",
   "execution_count": null,
   "id": "8b4e108a",
   "metadata": {},
   "outputs": [],
   "source": []
  },
  {
   "cell_type": "code",
   "execution_count": null,
   "id": "d3b7bf48",
   "metadata": {},
   "outputs": [],
   "source": []
  },
  {
   "cell_type": "code",
   "execution_count": null,
   "id": "e30a4773",
   "metadata": {},
   "outputs": [],
   "source": []
  },
  {
   "cell_type": "code",
   "execution_count": null,
   "id": "b1fcb1bc",
   "metadata": {},
   "outputs": [],
   "source": []
  },
  {
   "cell_type": "code",
   "execution_count": null,
   "id": "68ab506b",
   "metadata": {},
   "outputs": [],
   "source": []
  },
  {
   "cell_type": "code",
   "execution_count": null,
   "id": "b0e2a390",
   "metadata": {},
   "outputs": [],
   "source": []
  },
  {
   "cell_type": "code",
   "execution_count": null,
   "id": "4abb8bac",
   "metadata": {},
   "outputs": [],
   "source": []
  },
  {
   "cell_type": "code",
   "execution_count": null,
   "id": "061b2541",
   "metadata": {},
   "outputs": [],
   "source": []
  },
  {
   "cell_type": "code",
   "execution_count": null,
   "id": "19e843dd",
   "metadata": {},
   "outputs": [],
   "source": []
  },
  {
   "cell_type": "code",
   "execution_count": null,
   "id": "0ffee0c7",
   "metadata": {},
   "outputs": [],
   "source": []
  },
  {
   "cell_type": "code",
   "execution_count": null,
   "id": "f504f55e",
   "metadata": {},
   "outputs": [],
   "source": []
  },
  {
   "cell_type": "code",
   "execution_count": null,
   "id": "e90e9d6d",
   "metadata": {},
   "outputs": [],
   "source": []
  },
  {
   "cell_type": "code",
   "execution_count": null,
   "id": "aad1ec83",
   "metadata": {},
   "outputs": [],
   "source": []
  },
  {
   "cell_type": "code",
   "execution_count": null,
   "id": "e74d7414",
   "metadata": {},
   "outputs": [],
   "source": []
  },
  {
   "cell_type": "code",
   "execution_count": null,
   "id": "0be4aad9",
   "metadata": {},
   "outputs": [],
   "source": []
  },
  {
   "cell_type": "code",
   "execution_count": null,
   "id": "673e681e",
   "metadata": {},
   "outputs": [],
   "source": []
  },
  {
   "cell_type": "code",
   "execution_count": null,
   "id": "71c58346",
   "metadata": {},
   "outputs": [],
   "source": []
  },
  {
   "cell_type": "code",
   "execution_count": null,
   "id": "15e61be3",
   "metadata": {},
   "outputs": [],
   "source": []
  },
  {
   "cell_type": "code",
   "execution_count": null,
   "id": "5ab476c1",
   "metadata": {},
   "outputs": [],
   "source": []
  },
  {
   "cell_type": "code",
   "execution_count": null,
   "id": "d14235b0",
   "metadata": {},
   "outputs": [],
   "source": []
  },
  {
   "cell_type": "code",
   "execution_count": null,
   "id": "9eaaaccc",
   "metadata": {},
   "outputs": [],
   "source": []
  },
  {
   "cell_type": "code",
   "execution_count": null,
   "id": "3dba9f63",
   "metadata": {},
   "outputs": [],
   "source": []
  },
  {
   "cell_type": "code",
   "execution_count": null,
   "id": "54e97805",
   "metadata": {},
   "outputs": [],
   "source": []
  },
  {
   "cell_type": "code",
   "execution_count": null,
   "id": "3b91920a",
   "metadata": {},
   "outputs": [],
   "source": []
  },
  {
   "cell_type": "code",
   "execution_count": null,
   "id": "a98623cc",
   "metadata": {},
   "outputs": [],
   "source": []
  },
  {
   "cell_type": "code",
   "execution_count": null,
   "id": "d898528b",
   "metadata": {},
   "outputs": [],
   "source": []
  },
  {
   "cell_type": "code",
   "execution_count": null,
   "id": "7f5c1a82",
   "metadata": {},
   "outputs": [],
   "source": []
  },
  {
   "cell_type": "code",
   "execution_count": null,
   "id": "b531da8b",
   "metadata": {},
   "outputs": [],
   "source": []
  },
  {
   "cell_type": "code",
   "execution_count": null,
   "id": "5c7ea9b9",
   "metadata": {},
   "outputs": [],
   "source": []
  },
  {
   "cell_type": "code",
   "execution_count": null,
   "id": "0c3dc450",
   "metadata": {},
   "outputs": [],
   "source": []
  },
  {
   "cell_type": "code",
   "execution_count": null,
   "id": "541e7b38",
   "metadata": {},
   "outputs": [],
   "source": []
  },
  {
   "cell_type": "code",
   "execution_count": null,
   "id": "db2d3f64",
   "metadata": {},
   "outputs": [],
   "source": []
  },
  {
   "cell_type": "code",
   "execution_count": null,
   "id": "aa2789d2",
   "metadata": {},
   "outputs": [],
   "source": []
  },
  {
   "cell_type": "code",
   "execution_count": null,
   "id": "293270c5",
   "metadata": {},
   "outputs": [],
   "source": []
  },
  {
   "cell_type": "code",
   "execution_count": null,
   "id": "73ebb1ff",
   "metadata": {},
   "outputs": [],
   "source": []
  },
  {
   "cell_type": "code",
   "execution_count": null,
   "id": "af3fb781",
   "metadata": {},
   "outputs": [],
   "source": []
  },
  {
   "cell_type": "code",
   "execution_count": null,
   "id": "232d0865",
   "metadata": {},
   "outputs": [],
   "source": []
  },
  {
   "cell_type": "code",
   "execution_count": null,
   "id": "2647ca34",
   "metadata": {},
   "outputs": [],
   "source": []
  },
  {
   "cell_type": "code",
   "execution_count": null,
   "id": "42b60fb0",
   "metadata": {},
   "outputs": [],
   "source": []
  },
  {
   "cell_type": "code",
   "execution_count": null,
   "id": "b9142b9b",
   "metadata": {},
   "outputs": [],
   "source": []
  },
  {
   "cell_type": "code",
   "execution_count": null,
   "id": "5df8e0b9",
   "metadata": {},
   "outputs": [],
   "source": []
  },
  {
   "cell_type": "code",
   "execution_count": null,
   "id": "053c5adf",
   "metadata": {},
   "outputs": [],
   "source": []
  },
  {
   "cell_type": "code",
   "execution_count": null,
   "id": "c9a17498",
   "metadata": {},
   "outputs": [],
   "source": []
  },
  {
   "cell_type": "code",
   "execution_count": null,
   "id": "be849a48",
   "metadata": {},
   "outputs": [],
   "source": []
  },
  {
   "cell_type": "code",
   "execution_count": null,
   "id": "3289acca",
   "metadata": {},
   "outputs": [],
   "source": []
  },
  {
   "cell_type": "code",
   "execution_count": null,
   "id": "0ead6791",
   "metadata": {},
   "outputs": [],
   "source": []
  },
  {
   "cell_type": "code",
   "execution_count": null,
   "id": "3b9ff5f8",
   "metadata": {},
   "outputs": [],
   "source": []
  },
  {
   "cell_type": "code",
   "execution_count": null,
   "id": "ae8dee3d",
   "metadata": {},
   "outputs": [],
   "source": []
  },
  {
   "cell_type": "code",
   "execution_count": null,
   "id": "5f65f7bc",
   "metadata": {},
   "outputs": [],
   "source": []
  },
  {
   "cell_type": "code",
   "execution_count": null,
   "id": "af447bfc",
   "metadata": {},
   "outputs": [],
   "source": []
  },
  {
   "cell_type": "code",
   "execution_count": null,
   "id": "159fc643",
   "metadata": {},
   "outputs": [],
   "source": []
  },
  {
   "cell_type": "code",
   "execution_count": null,
   "id": "4b0b7bec",
   "metadata": {},
   "outputs": [],
   "source": []
  },
  {
   "cell_type": "code",
   "execution_count": null,
   "id": "0ed825dd",
   "metadata": {},
   "outputs": [],
   "source": []
  },
  {
   "cell_type": "code",
   "execution_count": null,
   "id": "07393687",
   "metadata": {},
   "outputs": [],
   "source": []
  },
  {
   "cell_type": "code",
   "execution_count": null,
   "id": "132c20c8",
   "metadata": {},
   "outputs": [],
   "source": []
  },
  {
   "cell_type": "code",
   "execution_count": null,
   "id": "a3c0e517",
   "metadata": {},
   "outputs": [],
   "source": []
  },
  {
   "cell_type": "code",
   "execution_count": null,
   "id": "46876be8",
   "metadata": {},
   "outputs": [],
   "source": []
  },
  {
   "cell_type": "code",
   "execution_count": null,
   "id": "15cdde6e",
   "metadata": {},
   "outputs": [],
   "source": []
  },
  {
   "cell_type": "code",
   "execution_count": null,
   "id": "73f79c58",
   "metadata": {},
   "outputs": [],
   "source": []
  },
  {
   "cell_type": "code",
   "execution_count": null,
   "id": "39d8e8be",
   "metadata": {},
   "outputs": [],
   "source": []
  },
  {
   "cell_type": "code",
   "execution_count": null,
   "id": "dee76081",
   "metadata": {},
   "outputs": [],
   "source": []
  },
  {
   "cell_type": "code",
   "execution_count": null,
   "id": "9716ae61",
   "metadata": {},
   "outputs": [],
   "source": []
  },
  {
   "cell_type": "code",
   "execution_count": null,
   "id": "7bd7bf24",
   "metadata": {},
   "outputs": [],
   "source": []
  },
  {
   "cell_type": "code",
   "execution_count": null,
   "id": "1307f465",
   "metadata": {},
   "outputs": [],
   "source": []
  },
  {
   "cell_type": "code",
   "execution_count": null,
   "id": "0b5c4fb5",
   "metadata": {},
   "outputs": [],
   "source": []
  },
  {
   "cell_type": "code",
   "execution_count": null,
   "id": "c9e1ef1f",
   "metadata": {},
   "outputs": [],
   "source": []
  },
  {
   "cell_type": "code",
   "execution_count": null,
   "id": "f5e288db",
   "metadata": {},
   "outputs": [],
   "source": []
  }
 ],
 "metadata": {
  "kernelspec": {
   "display_name": "Python 3 (ipykernel)",
   "language": "python",
   "name": "python3"
  },
  "language_info": {
   "codemirror_mode": {
    "name": "ipython",
    "version": 3
   },
   "file_extension": ".py",
   "mimetype": "text/x-python",
   "name": "python",
   "nbconvert_exporter": "python",
   "pygments_lexer": "ipython3",
   "version": "3.9.12"
  }
 },
 "nbformat": 4,
 "nbformat_minor": 5
}
