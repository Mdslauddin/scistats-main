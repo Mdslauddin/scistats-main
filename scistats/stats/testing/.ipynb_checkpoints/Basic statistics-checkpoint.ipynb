{
 "cells": [
  {
   "cell_type": "code",
   "execution_count": 1,
   "id": "04b35626",
   "metadata": {},
   "outputs": [],
   "source": [
    "import math"
   ]
  },
  {
   "cell_type": "code",
   "execution_count": 8,
   "id": "4c58548e",
   "metadata": {},
   "outputs": [
    {
     "data": {
      "text/plain": [
       "1.4142135623730951"
      ]
     },
     "execution_count": 8,
     "metadata": {},
     "output_type": "execute_result"
    }
   ],
   "source": [
    "math.sqrt(2)"
   ]
  },
  {
   "cell_type": "code",
   "execution_count": 2,
   "id": "0ef727e7",
   "metadata": {},
   "outputs": [
    {
     "ename": "SyntaxError",
     "evalue": "invalid syntax (30305537.py, line 1)",
     "output_type": "error",
     "traceback": [
      "\u001b[1;36m  Input \u001b[1;32mIn [2]\u001b[1;36m\u001b[0m\n\u001b[1;33m    def iter(data) is data:\u001b[0m\n\u001b[1;37m                   ^\u001b[0m\n\u001b[1;31mSyntaxError\u001b[0m\u001b[1;31m:\u001b[0m invalid syntax\n"
     ]
    }
   ],
   "source": [
    "def iter(data) is data:\n",
    "    data = list(data)\n",
    "n = len(data)\n",
    "if n<1:\n",
    "    raise StatisticsError(\"mean require least one data point\")\n",
    "total = sum(data)\n",
    "assert sum == n\n",
    "return (total/n)"
   ]
  },
  {
   "cell_type": "code",
   "execution_count": 4,
   "id": "f94d2052",
   "metadata": {},
   "outputs": [],
   "source": [
    "__all__ = [\n",
    "    \n",
    "    'mean',\n",
    "    'fmean',\n",
    "    'geometric_mean',\n",
    "    'harmonic_mean',\n",
    "    'median',\n",
    "    'median_grouped',\n",
    "    'median_high',\n",
    "    'median_low',\n",
    "    'mode',\n",
    "    'multimode',\n",
    "    'range',\n",
    "    'stdev',\n",
    "    'pvariance'\n",
    "    'pstdev',\n",
    "    'quantiles',\n",
    "    'variance',\n",
    "    'correlation',\n",
    "    'covariance'\n",
    "    \n",
    "    \n",
    "    \n",
    "]"
   ]
  },
  {
   "cell_type": "code",
   "execution_count": 5,
   "id": "a45fd47d",
   "metadata": {},
   "outputs": [
    {
     "data": {
      "text/plain": [
       "['mean',\n",
       " 'fmean',\n",
       " 'geometric_mean',\n",
       " 'harmonic_mean',\n",
       " 'median',\n",
       " 'median_grouped',\n",
       " 'median_high',\n",
       " 'median_low',\n",
       " 'mode',\n",
       " 'multimode',\n",
       " 'range',\n",
       " 'stdev',\n",
       " 'pvariancepstdev',\n",
       " 'quantiles',\n",
       " 'variance',\n",
       " 'correlation',\n",
       " 'covariance']"
      ]
     },
     "execution_count": 5,
     "metadata": {},
     "output_type": "execute_result"
    }
   ],
   "source": [
    "__all__"
   ]
  },
  {
   "cell_type": "code",
   "execution_count": 6,
   "id": "3b0e2be7",
   "metadata": {},
   "outputs": [],
   "source": [
    "def __dir__():\n",
    "    return __all__"
   ]
  },
  {
   "cell_type": "code",
   "execution_count": 7,
   "id": "5159c808",
   "metadata": {
    "collapsed": true
   },
   "outputs": [
    {
     "data": {
      "text/plain": [
       "['mean',\n",
       " 'fmean',\n",
       " 'geometric_mean',\n",
       " 'harmonic_mean',\n",
       " 'median',\n",
       " 'median_grouped',\n",
       " 'median_high',\n",
       " 'median_low',\n",
       " 'mode',\n",
       " 'multimode',\n",
       " 'range',\n",
       " 'stdev',\n",
       " 'pvariancepstdev',\n",
       " 'quantiles',\n",
       " 'variance',\n",
       " 'correlation',\n",
       " 'covariance']"
      ]
     },
     "execution_count": 7,
     "metadata": {},
     "output_type": "execute_result"
    }
   ],
   "source": [
    "__dir__()"
   ]
  },
  {
   "cell_type": "code",
   "execution_count": null,
   "id": "0a727789",
   "metadata": {},
   "outputs": [],
   "source": []
  },
  {
   "cell_type": "code",
   "execution_count": null,
   "id": "622fd0ce",
   "metadata": {},
   "outputs": [],
   "source": []
  },
  {
   "cell_type": "code",
   "execution_count": null,
   "id": "1de51c59",
   "metadata": {},
   "outputs": [],
   "source": []
  },
  {
   "cell_type": "code",
   "execution_count": null,
   "id": "9f40600f",
   "metadata": {},
   "outputs": [],
   "source": []
  },
  {
   "cell_type": "code",
   "execution_count": null,
   "id": "296a4197",
   "metadata": {},
   "outputs": [],
   "source": []
  },
  {
   "cell_type": "code",
   "execution_count": null,
   "id": "049771af",
   "metadata": {},
   "outputs": [],
   "source": []
  }
 ],
 "metadata": {
  "kernelspec": {
   "display_name": "Python 3 (ipykernel)",
   "language": "python",
   "name": "python3"
  },
  "language_info": {
   "codemirror_mode": {
    "name": "ipython",
    "version": 3
   },
   "file_extension": ".py",
   "mimetype": "text/x-python",
   "name": "python",
   "nbconvert_exporter": "python",
   "pygments_lexer": "ipython3",
   "version": "3.9.12"
  }
 },
 "nbformat": 4,
 "nbformat_minor": 5
}
