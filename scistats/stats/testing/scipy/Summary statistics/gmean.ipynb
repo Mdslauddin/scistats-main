{
 "cells": [
  {
   "cell_type": "code",
   "execution_count": 1,
   "id": "ced3e5c6",
   "metadata": {},
   "outputs": [
    {
     "data": {
      "text/plain": [
       "2.0"
      ]
     },
     "execution_count": 1,
     "metadata": {},
     "output_type": "execute_result"
    }
   ],
   "source": [
    "from scipy.stats import gmean\n",
    "gmean([1, 4])"
   ]
  },
  {
   "cell_type": "code",
   "execution_count": 2,
   "id": "158a1036",
   "metadata": {},
   "outputs": [
    {
     "data": {
      "text/plain": [
       "3.3800151591412964"
      ]
     },
     "execution_count": 2,
     "metadata": {},
     "output_type": "execute_result"
    }
   ],
   "source": [
    "gmean([1, 2, 3, 4, 5, 6, 7])"
   ]
  },
  {
   "cell_type": "code",
   "execution_count": 3,
   "id": "08009e29",
   "metadata": {},
   "outputs": [
    {
     "data": {
      "text/plain": [
       "2.80668351922014"
      ]
     },
     "execution_count": 3,
     "metadata": {},
     "output_type": "execute_result"
    }
   ],
   "source": [
    "gmean([1, 4, 7], weights=[3, 1, 3])"
   ]
  },
  {
   "cell_type": "code",
   "execution_count": 4,
   "id": "31cdf26e",
   "metadata": {},
   "outputs": [
    {
     "data": {
      "text/plain": [
       "5"
      ]
     },
     "execution_count": 4,
     "metadata": {},
     "output_type": "execute_result"
    }
   ],
   "source": [
    "sum([1,4])"
   ]
  },
  {
   "cell_type": "code",
   "execution_count": 6,
   "id": "703b63e4",
   "metadata": {},
   "outputs": [],
   "source": [
    "import numpy as np\n",
    "\n",
    "#define custom function\n",
    "def g_mean(x):\n",
    "    a = np.log(x)\n",
    "    return np.exp(a.mean())\n",
    "\n",
    "#calculate geometric mean \n",
    "#g_mean([value1, value2, value3, ...])"
   ]
  },
  {
   "cell_type": "code",
   "execution_count": 7,
   "id": "573a10b5",
   "metadata": {},
   "outputs": [
    {
     "data": {
      "text/plain": [
       "2.0"
      ]
     },
     "execution_count": 7,
     "metadata": {},
     "output_type": "execute_result"
    }
   ],
   "source": [
    "g_mean([1,4])"
   ]
  },
  {
   "cell_type": "code",
   "execution_count": 8,
   "id": "d41969c6",
   "metadata": {},
   "outputs": [],
   "source": [
    "# https://www.geeksforgeeks.org/scipy-stats-gmean-function-python/"
   ]
  },
  {
   "cell_type": "code",
   "execution_count": 9,
   "id": "05214568",
   "metadata": {},
   "outputs": [],
   "source": [
    "# https://www.statology.org/geometric-mean-python/"
   ]
  },
  {
   "cell_type": "code",
   "execution_count": null,
   "id": "a649c5d1",
   "metadata": {},
   "outputs": [],
   "source": []
  }
 ],
 "metadata": {
  "kernelspec": {
   "display_name": "Python 3 (ipykernel)",
   "language": "python",
   "name": "python3"
  },
  "language_info": {
   "codemirror_mode": {
    "name": "ipython",
    "version": 3
   },
   "file_extension": ".py",
   "mimetype": "text/x-python",
   "name": "python",
   "nbconvert_exporter": "python",
   "pygments_lexer": "ipython3",
   "version": "3.9.12"
  }
 },
 "nbformat": 4,
 "nbformat_minor": 5
}
