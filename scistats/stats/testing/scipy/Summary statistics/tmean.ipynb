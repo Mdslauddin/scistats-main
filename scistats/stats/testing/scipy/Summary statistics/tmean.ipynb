{
 "cells": [
  {
   "cell_type": "code",
   "execution_count": 3,
   "id": "b385c0cd",
   "metadata": {
    "scrolled": true
   },
   "outputs": [
    {
     "data": {
      "text/plain": [
       "9.5"
      ]
     },
     "execution_count": 3,
     "metadata": {},
     "output_type": "execute_result"
    }
   ],
   "source": [
    "from scipy import stats\n",
    "import numpy as np \n",
    "x = np.arange(20)\n",
    "stats.tmean(x)"
   ]
  },
  {
   "cell_type": "code",
   "execution_count": null,
   "id": "0790403f",
   "metadata": {},
   "outputs": [],
   "source": [
    "x"
   ]
  },
  {
   "cell_type": "code",
   "execution_count": null,
   "id": "fbf9d214",
   "metadata": {},
   "outputs": [],
   "source": [
    "np.sum(x) /20"
   ]
  },
  {
   "cell_type": "code",
   "execution_count": null,
   "id": "134c2c6e",
   "metadata": {},
   "outputs": [],
   "source": [
    "stats.tmean(x, (3,17))"
   ]
  },
  {
   "cell_type": "code",
   "execution_count": 10,
   "id": "2ec6b119",
   "metadata": {},
   "outputs": [],
   "source": [
    "def Tmean(lst):\n",
    "    s= sorted(lst)\n",
    "    k= 0.1*len(lst)\n",
    "    trimmed_mean= (1/(len(lst)-(2*k)))* sum([len(x)]) -k  #sum(len(lst)-k)\n",
    "    print(trimmed_mean)"
   ]
  },
  {
   "cell_type": "code",
   "execution_count": 11,
   "id": "8fd524ad",
   "metadata": {
    "scrolled": true
   },
   "outputs": [
    {
     "name": "stdout",
     "output_type": "stream",
     "text": [
      "-0.75\n"
     ]
    }
   ],
   "source": [
    "Tmean(x)"
   ]
  },
  {
   "cell_type": "code",
   "execution_count": null,
   "id": "5d2d0813",
   "metadata": {},
   "outputs": [],
   "source": [
    "sum([len(x)])"
   ]
  },
  {
   "cell_type": "code",
   "execution_count": null,
   "id": "ae0dac6a",
   "metadata": {},
   "outputs": [],
   "source": [
    "sum(len(x))"
   ]
  },
  {
   "cell_type": "code",
   "execution_count": null,
   "id": "8fc66008",
   "metadata": {
    "scrolled": true
   },
   "outputs": [],
   "source": [
    "len(x)"
   ]
  },
  {
   "cell_type": "code",
   "execution_count": null,
   "id": "378540ef",
   "metadata": {},
   "outputs": [],
   "source": [
    "0.1*20"
   ]
  },
  {
   "cell_type": "code",
   "execution_count": null,
   "id": "22f012ad",
   "metadata": {},
   "outputs": [],
   "source": [
    "def tmean(lst, alpha):\n",
    "    s = sorted(lst)\n",
    "    # Caclculate number of elements to trim from the beginning and end\n",
    "    a = round(alpha * len(lst)\n",
    "    # Check if alpha can actually remove any elements and if not return straight mean\n",
    "    if (a == 0):\n",
    "        return sum(lst) / len(lst)\n",
    "    # Remove trimmed elements from the list\n",
    "    trimmed_list = s[a:-a]\n",
    "    # Check if there is a list left after trimming\n",
    "    if len(trimmed_list) == 0:\n",
    "        return\n",
    "    # Calculate average on the new list\n",
    "    trimmed_ave = sum(trimmed_list)/len(trimmed_list)\n",
    "    print(trimmed_ave)\n",
    "    return trimmed_ave"
   ]
  },
  {
   "cell_type": "code",
   "execution_count": null,
   "id": "60b52ce8",
   "metadata": {},
   "outputs": [],
   "source": []
  }
 ],
 "metadata": {
  "kernelspec": {
   "display_name": "Python 3 (ipykernel)",
   "language": "python",
   "name": "python3"
  },
  "language_info": {
   "codemirror_mode": {
    "name": "ipython",
    "version": 3
   },
   "file_extension": ".py",
   "mimetype": "text/x-python",
   "name": "python",
   "nbconvert_exporter": "python",
   "pygments_lexer": "ipython3",
   "version": "3.9.12"
  }
 },
 "nbformat": 4,
 "nbformat_minor": 5
}
