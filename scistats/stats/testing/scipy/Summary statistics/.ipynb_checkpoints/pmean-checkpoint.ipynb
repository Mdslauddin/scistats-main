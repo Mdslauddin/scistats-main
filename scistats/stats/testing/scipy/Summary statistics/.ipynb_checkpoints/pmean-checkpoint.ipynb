{
 "cells": [
  {
   "cell_type": "code",
   "execution_count": null,
   "id": "352b5847",
   "metadata": {},
   "outputs": [],
   "source": [
    "import scipy.stats as ss# pmean, hmean, gmean\n",
    "ss.pmean([1, 4], 1.3)"
   ]
  },
  {
   "cell_type": "code",
   "execution_count": null,
   "id": "5ca4cf85",
   "metadata": {},
   "outputs": [],
   "source": [
    "pmean([1, 2, 3, 4, 5, 6, 7], 1.3)"
   ]
  },
  {
   "cell_type": "code",
   "execution_count": null,
   "id": "39c7680c",
   "metadata": {},
   "outputs": [],
   "source": [
    "pmean([1, 4, 7], -2, weights=[3, 1, 3])"
   ]
  },
  {
   "cell_type": "code",
   "execution_count": null,
   "id": "1cd158c8",
   "metadata": {},
   "outputs": [],
   "source": [
    "pmean([1, 4, 7], -1, weights=[3, 1, 3])\n",
    "hmean([1, 4, 7], weights=[3, 1, 3])"
   ]
  },
  {
   "cell_type": "code",
   "execution_count": null,
   "id": "9339a162",
   "metadata": {},
   "outputs": [],
   "source": [
    "pmean([1, 4, 7], 0, weights=[3, 1, 3])\n",
    "gmean([1, 4, 7], weights=[3, 1, 3])"
   ]
  },
  {
   "cell_type": "code",
   "execution_count": null,
   "id": "f36a8cdc",
   "metadata": {},
   "outputs": [],
   "source": [
    "# https://en.wikipedia.org/wiki/Generalized_mean"
   ]
  },
  {
   "cell_type": "code",
   "execution_count": null,
   "id": "7a4592ff",
   "metadata": {},
   "outputs": [],
   "source": [
    "import scipy.stats as ss"
   ]
  },
  {
   "cell_type": "code",
   "execution_count": 2,
   "id": "b2fcd1c6",
   "metadata": {},
   "outputs": [],
   "source": [
    "from scipy.stats.stats import*"
   ]
  },
  {
   "cell_type": "code",
   "execution_count": 3,
   "id": "badb3a2e",
   "metadata": {},
   "outputs": [
    {
     "ename": "ImportError",
     "evalue": "cannot import name 'pmean' from 'scipy.stats' (D:\\Anaconda\\lib\\site-packages\\scipy\\stats\\__init__.py)",
     "output_type": "error",
     "traceback": [
      "\u001b[1;31m---------------------------------------------------------------------------\u001b[0m",
      "\u001b[1;31mImportError\u001b[0m                               Traceback (most recent call last)",
      "Input \u001b[1;32mIn [3]\u001b[0m, in \u001b[0;36m<cell line: 1>\u001b[1;34m()\u001b[0m\n\u001b[1;32m----> 1\u001b[0m \u001b[38;5;28;01mfrom\u001b[39;00m \u001b[38;5;21;01mscipy\u001b[39;00m\u001b[38;5;21;01m.\u001b[39;00m\u001b[38;5;21;01mstats\u001b[39;00m \u001b[38;5;28;01mimport\u001b[39;00m pmean\n",
      "\u001b[1;31mImportError\u001b[0m: cannot import name 'pmean' from 'scipy.stats' (D:\\Anaconda\\lib\\site-packages\\scipy\\stats\\__init__.py)"
     ]
    }
   ],
   "source": [
    "from scipy.stats import pmean"
   ]
  },
  {
   "cell_type": "code",
   "execution_count": null,
   "id": "b196b2b8",
   "metadata": {},
   "outputs": [],
   "source": []
  }
 ],
 "metadata": {
  "kernelspec": {
   "display_name": "Python 3 (ipykernel)",
   "language": "python",
   "name": "python3"
  },
  "language_info": {
   "codemirror_mode": {
    "name": "ipython",
    "version": 3
   },
   "file_extension": ".py",
   "mimetype": "text/x-python",
   "name": "python",
   "nbconvert_exporter": "python",
   "pygments_lexer": "ipython3",
   "version": "3.9.12"
  }
 },
 "nbformat": 4,
 "nbformat_minor": 5
}
