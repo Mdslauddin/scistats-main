{
 "cells": [
  {
   "cell_type": "code",
   "execution_count": null,
   "id": "a524259d",
   "metadata": {},
   "outputs": [],
   "source": [
    "from scipy.stats import skew\n",
    "skew([1, 2, 3, 4, 5])"
   ]
  },
  {
   "cell_type": "code",
   "execution_count": null,
   "id": "c242d777",
   "metadata": {},
   "outputs": [],
   "source": [
    "skew([2, 8, 0, 4, 1, 9, 9, 0])"
   ]
  },
  {
   "cell_type": "code",
   "execution_count": null,
   "id": "93f2e5e9",
   "metadata": {},
   "outputs": [],
   "source": [
    "# https://www.turing.com/kb/calculating-skewness-and-kurtosis-in-python"
   ]
  },
  {
   "cell_type": "code",
   "execution_count": null,
   "id": "400c7dae",
   "metadata": {},
   "outputs": [],
   "source": [
    "import numpy as np"
   ]
  },
  {
   "cell_type": "code",
   "execution_count": null,
   "id": "12e51855",
   "metadata": {},
   "outputs": [],
   "source": [
    "from scipy.stats import mode\n",
    "import numpy as np\n",
    "def skews(x):\n",
    "    x =np.mean(x) - mode(x)\n",
    "    print(x)\n",
    "    std = np.std(x)\n",
    "    print(std)\n",
    "    x = std/x\n",
    "    return x"
   ]
  },
  {
   "cell_type": "code",
   "execution_count": null,
   "id": "7f476b03",
   "metadata": {},
   "outputs": [],
   "source": [
    "skews([1,2,3,4,5])"
   ]
  },
  {
   "cell_type": "code",
   "execution_count": null,
   "id": "1bc8e8ef",
   "metadata": {},
   "outputs": [],
   "source": [
    "std"
   ]
  },
  {
   "cell_type": "code",
   "execution_count": null,
   "id": "d0cbf81d",
   "metadata": {},
   "outputs": [],
   "source": [
    "from scipy.stats import mode"
   ]
  },
  {
   "cell_type": "code",
   "execution_count": 5,
   "id": "e54cfeda",
   "metadata": {},
   "outputs": [],
   "source": [
    "from scipy.stats import mode\n",
    "import numpy as np\n",
    "import statistics\n",
    "def skews(x):\n",
    "    x =statistics.mean(x) - statistics.mode(x)\n",
    "    std = np.std(x)\n",
    "    #x = std/x\n",
    "    return std"
   ]
  },
  {
   "cell_type": "code",
   "execution_count": 7,
   "id": "bfbb5f14",
   "metadata": {},
   "outputs": [
    {
     "data": {
      "text/plain": [
       "0.0"
      ]
     },
     "execution_count": 7,
     "metadata": {},
     "output_type": "execute_result"
    }
   ],
   "source": [
    "skews([2, 8, 0, 4, 1, 9, 9, 0,])"
   ]
  },
  {
   "cell_type": "code",
   "execution_count": 3,
   "id": "dbf30ef9",
   "metadata": {},
   "outputs": [
    {
     "data": {
      "text/plain": [
       "0.2650554122698573"
      ]
     },
     "execution_count": 3,
     "metadata": {},
     "output_type": "execute_result"
    }
   ],
   "source": [
    "from scipy.stats import skew\n",
    "skew([2, 8, 0, 4, 1, 9, 9, 0])"
   ]
  },
  {
   "cell_type": "code",
   "execution_count": null,
   "id": "f3ff0667",
   "metadata": {},
   "outputs": [],
   "source": [
    "import statistics"
   ]
  },
  {
   "cell_type": "code",
   "execution_count": null,
   "id": "36610322",
   "metadata": {},
   "outputs": [],
   "source": [
    "statistics.mea"
   ]
  }
 ],
 "metadata": {
  "kernelspec": {
   "display_name": "Python 3 (ipykernel)",
   "language": "python",
   "name": "python3"
  },
  "language_info": {
   "codemirror_mode": {
    "name": "ipython",
    "version": 3
   },
   "file_extension": ".py",
   "mimetype": "text/x-python",
   "name": "python",
   "nbconvert_exporter": "python",
   "pygments_lexer": "ipython3",
   "version": "3.9.12"
  }
 },
 "nbformat": 4,
 "nbformat_minor": 5
}
