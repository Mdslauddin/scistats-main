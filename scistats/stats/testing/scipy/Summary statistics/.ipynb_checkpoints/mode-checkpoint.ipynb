{
 "cells": [
  {
   "cell_type": "code",
   "execution_count": 2,
   "id": "4855a741",
   "metadata": {},
   "outputs": [
    {
     "data": {
      "text/plain": [
       "ModeResult(mode=array([[3, 1, 0, 0]]), count=array([[1, 1, 1, 1]]))"
      ]
     },
     "execution_count": 2,
     "metadata": {},
     "output_type": "execute_result"
    }
   ],
   "source": [
    "import numpy as np \n",
    "a = np.array([[6, 8, 3, 0],\n",
    "              [3, 2, 1, 7],\n",
    "              [8, 1, 8, 4],\n",
    "              [5, 3, 0, 5],\n",
    "              [4, 7, 5, 9]])\n",
    "from scipy import stats\n",
    "stats.mode(a)"
   ]
  },
  {
   "cell_type": "code",
   "execution_count": null,
   "id": "12b12934",
   "metadata": {},
   "outputs": [],
   "source": []
  }
 ],
 "metadata": {
  "kernelspec": {
   "display_name": "Python 3 (ipykernel)",
   "language": "python",
   "name": "python3"
  },
  "language_info": {
   "codemirror_mode": {
    "name": "ipython",
    "version": 3
   },
   "file_extension": ".py",
   "mimetype": "text/x-python",
   "name": "python",
   "nbconvert_exporter": "python",
   "pygments_lexer": "ipython3",
   "version": "3.9.12"
  }
 },
 "nbformat": 4,
 "nbformat_minor": 5
}
