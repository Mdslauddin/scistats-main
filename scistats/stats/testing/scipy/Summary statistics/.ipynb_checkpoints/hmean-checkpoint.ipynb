{
 "cells": [
  {
   "cell_type": "code",
   "execution_count": 18,
   "id": "87a01758",
   "metadata": {},
   "outputs": [
    {
     "data": {
      "text/plain": [
       "2.4742268041237114"
      ]
     },
     "execution_count": 18,
     "metadata": {},
     "output_type": "execute_result"
    }
   ],
   "source": [
    "from scipy.stats import hmean\n",
    "hmean([1, 4,5,6])"
   ]
  },
  {
   "cell_type": "code",
   "execution_count": 16,
   "id": "d6b4a0fd",
   "metadata": {},
   "outputs": [],
   "source": [
    "def hmeans(x):\n",
    "    \"\"\"\n",
    "    Calculate the harmonic mean \n",
    "    \"\"\"\n",
    "    sums = 0\n",
    "    for els in x:\n",
    "        sums += 1 / els \n",
    "        res = len(x)/sums \n",
    "    return res "
   ]
  },
  {
   "cell_type": "code",
   "execution_count": 19,
   "id": "0b880706",
   "metadata": {},
   "outputs": [
    {
     "data": {
      "text/plain": [
       "2.4742268041237114"
      ]
     },
     "execution_count": 19,
     "metadata": {},
     "output_type": "execute_result"
    }
   ],
   "source": [
    "hmeans([1,4,5,6])"
   ]
  },
  {
   "cell_type": "code",
   "execution_count": 2,
   "id": "53ec7f6a",
   "metadata": {},
   "outputs": [
    {
     "ename": "TypeError",
     "evalue": "hmean() got an unexpected keyword argument 'weights'",
     "output_type": "error",
     "traceback": [
      "\u001b[1;31m---------------------------------------------------------------------------\u001b[0m",
      "\u001b[1;31mTypeError\u001b[0m                                 Traceback (most recent call last)",
      "Input \u001b[1;32mIn [2]\u001b[0m, in \u001b[0;36m<cell line: 1>\u001b[1;34m()\u001b[0m\n\u001b[1;32m----> 1\u001b[0m \u001b[43mhmean\u001b[49m\u001b[43m(\u001b[49m\u001b[43m[\u001b[49m\u001b[38;5;241;43m1\u001b[39;49m\u001b[43m,\u001b[49m\u001b[43m \u001b[49m\u001b[38;5;241;43m4\u001b[39;49m\u001b[43m,\u001b[49m\u001b[43m \u001b[49m\u001b[38;5;241;43m7\u001b[39;49m\u001b[43m]\u001b[49m\u001b[43m,\u001b[49m\u001b[43m \u001b[49m\u001b[43mweights\u001b[49m\u001b[38;5;241;43m=\u001b[39;49m\u001b[43m[\u001b[49m\u001b[38;5;241;43m3\u001b[39;49m\u001b[43m,\u001b[49m\u001b[43m \u001b[49m\u001b[38;5;241;43m1\u001b[39;49m\u001b[43m,\u001b[49m\u001b[43m \u001b[49m\u001b[38;5;241;43m3\u001b[39;49m\u001b[43m]\u001b[49m\u001b[43m)\u001b[49m\n",
      "\u001b[1;31mTypeError\u001b[0m: hmean() got an unexpected keyword argument 'weights'"
     ]
    }
   ],
   "source": [
    "hmean([1, 4, 7], weights=[3, 1, 3])"
   ]
  },
  {
   "cell_type": "code",
   "execution_count": 3,
   "id": "72c3ad8a",
   "metadata": {},
   "outputs": [],
   "source": [
    "# https://en.wikipedia.org/wiki/Harmonic_mean#Weighted_harmonic_mean"
   ]
  },
  {
   "cell_type": "code",
   "execution_count": 6,
   "id": "fb0b9088",
   "metadata": {},
   "outputs": [],
   "source": [
    "def hmeans(*args):\n",
    "    return (len(args) / sum(1. / val for val in args))"
   ]
  },
  {
   "cell_type": "code",
   "execution_count": 7,
   "id": "5f4226a9",
   "metadata": {},
   "outputs": [
    {
     "ename": "TypeError",
     "evalue": "'function' object is not subscriptable",
     "output_type": "error",
     "traceback": [
      "\u001b[1;31m---------------------------------------------------------------------------\u001b[0m",
      "\u001b[1;31mTypeError\u001b[0m                                 Traceback (most recent call last)",
      "Input \u001b[1;32mIn [7]\u001b[0m, in \u001b[0;36m<cell line: 1>\u001b[1;34m()\u001b[0m\n\u001b[1;32m----> 1\u001b[0m \u001b[43mhmeans\u001b[49m\u001b[43m[\u001b[49m\u001b[38;5;241;43m1\u001b[39;49m\u001b[43m,\u001b[49m\u001b[38;5;241;43m4\u001b[39;49m\u001b[43m]\u001b[49m\n",
      "\u001b[1;31mTypeError\u001b[0m: 'function' object is not subscriptable"
     ]
    }
   ],
   "source": [
    "hmeans[1,4]"
   ]
  },
  {
   "cell_type": "code",
   "execution_count": null,
   "id": "5c33d468",
   "metadata": {},
   "outputs": [],
   "source": []
  }
 ],
 "metadata": {
  "kernelspec": {
   "display_name": "Python 3 (ipykernel)",
   "language": "python",
   "name": "python3"
  },
  "language_info": {
   "codemirror_mode": {
    "name": "ipython",
    "version": 3
   },
   "file_extension": ".py",
   "mimetype": "text/x-python",
   "name": "python",
   "nbconvert_exporter": "python",
   "pygments_lexer": "ipython3",
   "version": "3.9.12"
  }
 },
 "nbformat": 4,
 "nbformat_minor": 5
}
