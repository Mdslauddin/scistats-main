{
 "cells": [
  {
   "cell_type": "code",
   "execution_count": 1,
   "id": "c53fa8cf",
   "metadata": {},
   "outputs": [
    {
     "data": {
      "text/plain": [
       "0.0"
      ]
     },
     "execution_count": 1,
     "metadata": {},
     "output_type": "execute_result"
    }
   ],
   "source": [
    "from scipy.stats import moment\n",
    "moment([1, 2, 3, 4, 5], moment=1)"
   ]
  },
  {
   "cell_type": "code",
   "execution_count": 5,
   "id": "3c8c3d6d",
   "metadata": {},
   "outputs": [
    {
     "data": {
      "text/plain": [
       "2.0"
      ]
     },
     "execution_count": 5,
     "metadata": {},
     "output_type": "execute_result"
    }
   ],
   "source": [
    "moment([1, 2, 3, 4, 5], moment=2)"
   ]
  },
  {
   "cell_type": "code",
   "execution_count": 6,
   "id": "42243941",
   "metadata": {},
   "outputs": [],
   "source": [
    "# https://eli.thegreenplace.net/2009/03/21/efficient-integer-exponentiation-algorithms"
   ]
  },
  {
   "cell_type": "code",
   "execution_count": 9,
   "id": "5f890e6e",
   "metadata": {},
   "outputs": [],
   "source": [
    "import numpy as np\n",
    "def mean(x,counts):\n",
    "    return np.sum(x*counts) / np.sum(counts)"
   ]
  },
  {
   "cell_type": "code",
   "execution_count": 15,
   "id": "f32d4067",
   "metadata": {},
   "outputs": [
    {
     "data": {
      "text/plain": [
       "15.0"
      ]
     },
     "execution_count": 15,
     "metadata": {},
     "output_type": "execute_result"
    }
   ],
   "source": [
    "mean([1,2,3,4,5],1)"
   ]
  },
  {
   "cell_type": "code",
   "execution_count": 16,
   "id": "55cffad7",
   "metadata": {},
   "outputs": [],
   "source": [
    "def nmoment(x, counts, c, n):\n",
    "    return np.sum(counts*(x-c)**n) / np.sum(counts)"
   ]
  },
  {
   "cell_type": "code",
   "execution_count": 19,
   "id": "825cefa5",
   "metadata": {},
   "outputs": [
    {
     "ename": "TypeError",
     "evalue": "unsupported operand type(s) for -: 'list' and 'int'",
     "output_type": "error",
     "traceback": [
      "\u001b[1;31m---------------------------------------------------------------------------\u001b[0m",
      "\u001b[1;31mTypeError\u001b[0m                                 Traceback (most recent call last)",
      "Input \u001b[1;32mIn [19]\u001b[0m, in \u001b[0;36m<cell line: 1>\u001b[1;34m()\u001b[0m\n\u001b[1;32m----> 1\u001b[0m \u001b[43mnmoment\u001b[49m\u001b[43m(\u001b[49m\u001b[43m[\u001b[49m\u001b[38;5;241;43m1\u001b[39;49m\u001b[43m,\u001b[49m\u001b[38;5;241;43m2\u001b[39;49m\u001b[43m,\u001b[49m\u001b[38;5;241;43m3\u001b[39;49m\u001b[43m,\u001b[49m\u001b[38;5;241;43m4\u001b[39;49m\u001b[43m,\u001b[49m\u001b[38;5;241;43m5\u001b[39;49m\u001b[43m]\u001b[49m\u001b[43m,\u001b[49m\u001b[38;5;241;43m1\u001b[39;49m\u001b[43m,\u001b[49m\u001b[38;5;241;43m3\u001b[39;49m\u001b[43m,\u001b[49m\u001b[38;5;241;43m3\u001b[39;49m\u001b[43m)\u001b[49m\n",
      "Input \u001b[1;32mIn [16]\u001b[0m, in \u001b[0;36mnmoment\u001b[1;34m(x, counts, c, n)\u001b[0m\n\u001b[0;32m      1\u001b[0m \u001b[38;5;28;01mdef\u001b[39;00m \u001b[38;5;21mnmoment\u001b[39m(x, counts, c, n):\n\u001b[1;32m----> 2\u001b[0m     \u001b[38;5;28;01mreturn\u001b[39;00m np\u001b[38;5;241m.\u001b[39msum(counts\u001b[38;5;241m*\u001b[39m(\u001b[43mx\u001b[49m\u001b[38;5;241;43m-\u001b[39;49m\u001b[43mc\u001b[49m)\u001b[38;5;241m*\u001b[39m\u001b[38;5;241m*\u001b[39mn) \u001b[38;5;241m/\u001b[39m np\u001b[38;5;241m.\u001b[39msum(counts)\n",
      "\u001b[1;31mTypeError\u001b[0m: unsupported operand type(s) for -: 'list' and 'int'"
     ]
    }
   ],
   "source": []
  },
  {
   "cell_type": "code",
   "execution_count": null,
   "id": "c5c841a4",
   "metadata": {},
   "outputs": [],
   "source": []
  }
 ],
 "metadata": {
  "kernelspec": {
   "display_name": "Python 3 (ipykernel)",
   "language": "python",
   "name": "python3"
  },
  "language_info": {
   "codemirror_mode": {
    "name": "ipython",
    "version": 3
   },
   "file_extension": ".py",
   "mimetype": "text/x-python",
   "name": "python",
   "nbconvert_exporter": "python",
   "pygments_lexer": "ipython3",
   "version": "3.9.12"
  }
 },
 "nbformat": 4,
 "nbformat_minor": 5
}
