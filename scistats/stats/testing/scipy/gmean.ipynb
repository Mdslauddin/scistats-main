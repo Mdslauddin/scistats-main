{
 "cells": [
  {
   "cell_type": "markdown",
   "id": "0d60978a",
   "metadata": {},
   "source": [
    "# Calculate Geometric Mean Using NumPy"
   ]
  },
  {
   "cell_type": "code",
   "execution_count": 8,
   "id": "9699841f",
   "metadata": {},
   "outputs": [],
   "source": [
    "from math import log,exp\n",
    "import statistics\n",
    "def gmean(x):\n",
    "    a = np.log(x)\n",
    "    return exp(sta.mean(a))\n"
   ]
  },
  {
   "cell_type": "code",
   "execution_count": 9,
   "id": "06b8e7cb",
   "metadata": {},
   "outputs": [
    {
     "ename": "NameError",
     "evalue": "name 'sta' is not defined",
     "output_type": "error",
     "traceback": [
      "\u001b[1;31m---------------------------------------------------------------------------\u001b[0m",
      "\u001b[1;31mNameError\u001b[0m                                 Traceback (most recent call last)",
      "Input \u001b[1;32mIn [9]\u001b[0m, in \u001b[0;36m<cell line: 1>\u001b[1;34m()\u001b[0m\n\u001b[1;32m----> 1\u001b[0m \u001b[43mgmean\u001b[49m\u001b[43m(\u001b[49m\u001b[43m[\u001b[49m\u001b[38;5;241;43m2\u001b[39;49m\u001b[43m,\u001b[49m\u001b[38;5;241;43m3\u001b[39;49m\u001b[43m]\u001b[49m\u001b[43m)\u001b[49m\n",
      "Input \u001b[1;32mIn [8]\u001b[0m, in \u001b[0;36mgmean\u001b[1;34m(x)\u001b[0m\n\u001b[0;32m      3\u001b[0m \u001b[38;5;28;01mdef\u001b[39;00m \u001b[38;5;21mgmean\u001b[39m(x):\n\u001b[0;32m      4\u001b[0m     a \u001b[38;5;241m=\u001b[39m np\u001b[38;5;241m.\u001b[39mlog(x)\n\u001b[1;32m----> 5\u001b[0m     \u001b[38;5;28;01mreturn\u001b[39;00m exp(\u001b[43msta\u001b[49m\u001b[38;5;241m.\u001b[39mmean(a))\n",
      "\u001b[1;31mNameError\u001b[0m: name 'sta' is not defined"
     ]
    }
   ],
   "source": [
    "gmean([2,3])"
   ]
  },
  {
   "cell_type": "code",
   "execution_count": 1,
   "id": "168105d9",
   "metadata": {},
   "outputs": [],
   "source": [
    "import numpy as np\n",
    "\n",
    "#define custom function\n",
    "def g_mean(x):\n",
    "    a = np.log(x)\n",
    "    return np.exp(a.mean())\n",
    "\n",
    "#calculate geometric mean \n",
    "\n",
    "# g_mean([value1, value2, value3, ...])"
   ]
  },
  {
   "cell_type": "code",
   "execution_count": 2,
   "id": "6d3c6913",
   "metadata": {},
   "outputs": [
    {
     "data": {
      "text/plain": [
       "3.9148676411688634"
      ]
     },
     "execution_count": 2,
     "metadata": {},
     "output_type": "execute_result"
    }
   ],
   "source": [
    "g_mean([3,4,5])"
   ]
  },
  {
   "cell_type": "markdown",
   "id": "b04fb53c",
   "metadata": {},
   "source": [
    "# Calculate Geometric Mean Using SciPy"
   ]
  },
  {
   "cell_type": "code",
   "execution_count": 3,
   "id": "02373b68",
   "metadata": {},
   "outputs": [],
   "source": [
    "from scipy.stats import gmean\n",
    "\n",
    "#calculate geometric mean\n",
    "# gmean([value1, value2, value3, ...])"
   ]
  },
  {
   "cell_type": "code",
   "execution_count": 4,
   "id": "cb78164d",
   "metadata": {},
   "outputs": [
    {
     "data": {
      "text/plain": [
       "3.9148676411688634"
      ]
     },
     "execution_count": 4,
     "metadata": {},
     "output_type": "execute_result"
    }
   ],
   "source": [
    "gmean([3,4,5])"
   ]
  },
  {
   "cell_type": "markdown",
   "id": "8974eed0",
   "metadata": {},
   "source": [
    "# How to Handle Zeros"
   ]
  },
  {
   "cell_type": "code",
   "execution_count": 5,
   "id": "cd239289",
   "metadata": {},
   "outputs": [
    {
     "name": "stdout",
     "output_type": "stream",
     "text": [
      "[1, 6, 6, 8, 9]\n"
     ]
    },
    {
     "data": {
      "text/plain": [
       "[1, 6, 6, 8, 9]"
      ]
     },
     "execution_count": 5,
     "metadata": {},
     "output_type": "execute_result"
    }
   ],
   "source": [
    "#create array with some zeros\n",
    "x = [1, 0, 0, 6, 6, 0, 8, 9]\n",
    "\n",
    "#remove zeros from array \n",
    "x_new = [i for i in x if i != 0]\n",
    "\n",
    "#view updated array\n",
    "print(x_new)\n",
    "\n",
    "[1, 6, 6, 8, 9]"
   ]
  },
  {
   "cell_type": "code",
   "execution_count": 6,
   "id": "5eaa4fd5",
   "metadata": {},
   "outputs": [
    {
     "name": "stdout",
     "output_type": "stream",
     "text": [
      "3.764351\n"
     ]
    }
   ],
   "source": [
    "# Python Program to calculate the\n",
    "# geometric mean of the given\n",
    "# array elements.\n",
    "import math\n",
    "\n",
    "# function to calculate geometric\n",
    "# mean and return float value.\n",
    "def geometricMean(arr, n) :\n",
    "\t\n",
    "\t# declare product variable and\n",
    "\t# initialize it to 1.\n",
    "\tproduct = 1\n",
    "\t\n",
    "\t# Compute the product of all the\n",
    "\t# elements in the array.\n",
    "\tfor i in range(0,n) :\n",
    "\t\tproduct = product * arr[i]\n",
    "\n",
    "\t# compute geometric mean through\n",
    "\t# formula pow(product, 1/n) and\n",
    "\t# return the value to main function.\n",
    "\tgm = (float)(math.pow(product, (1 / n)))\n",
    "\treturn (float)(gm)\n",
    "\t\n",
    "\t\n",
    "# Driver function\n",
    "arr = [ 1, 2, 3, 4, 5, 6, 7, 8]\n",
    "n = len(arr)\n",
    "\n",
    "# to print 6 digits after decimal\n",
    "print ('{0:.6f}'.format(geometricMean(arr, n)))\n",
    "\n",
    "\n",
    "# This code is contributed by Nikita Tiwari\n"
   ]
  },
  {
   "cell_type": "code",
   "execution_count": 7,
   "id": "9aaa7d6c",
   "metadata": {},
   "outputs": [
    {
     "name": "stdout",
     "output_type": "stream",
     "text": [
      "3.764350599503129\n"
     ]
    }
   ],
   "source": [
    "# Program to calculate the\n",
    "# geometric mean of the\n",
    "# given array elements.\n",
    "import math\n",
    "\n",
    "# function to calculate\n",
    "# geometric mean and\n",
    "# return float value.\n",
    "def geometricMean(arr, n):\n",
    "\t\n",
    "\t# declare sum variable and\n",
    "\t# initialize it to 1.\n",
    "\tsum = 0;\n",
    "\t\n",
    "\t# Compute the sum of all\n",
    "\t# the elements in the array.\n",
    "\tfor i in range(n):\n",
    "\t\tsum = sum + math.log(arr[i]);\n",
    "\t\n",
    "\t# compute geometric mean\n",
    "\t# through formula antilog\n",
    "\t# (((log(1) + log(2) + . .\n",
    "\t# ... + log(n))/n)\n",
    "\t# and return the value to\n",
    "\t# main function.\n",
    "\tsum = sum / n;\n",
    "\t\n",
    "\treturn math.exp(sum);\n",
    "\n",
    "# Driver Code\n",
    "arr= [ 1, 2, 3, 4, 5, 6, 7, 8 ];\n",
    "n = len(arr);\n",
    "\n",
    "# function call\n",
    "print(geometricMean(arr, n));\n",
    "\n",
    "# This code is contributed by mits.\n"
   ]
  },
  {
   "cell_type": "code",
   "execution_count": null,
   "id": "f790377e",
   "metadata": {},
   "outputs": [],
   "source": []
  }
 ],
 "metadata": {
  "kernelspec": {
   "display_name": "Python 3 (ipykernel)",
   "language": "python",
   "name": "python3"
  },
  "language_info": {
   "codemirror_mode": {
    "name": "ipython",
    "version": 3
   },
   "file_extension": ".py",
   "mimetype": "text/x-python",
   "name": "python",
   "nbconvert_exporter": "python",
   "pygments_lexer": "ipython3",
   "version": "3.9.12"
  }
 },
 "nbformat": 4,
 "nbformat_minor": 5
}
