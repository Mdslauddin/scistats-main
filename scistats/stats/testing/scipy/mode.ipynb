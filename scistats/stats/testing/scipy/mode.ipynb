{
 "cells": [
  {
   "cell_type": "code",
   "execution_count": 3,
   "id": "0cb48aba",
   "metadata": {},
   "outputs": [],
   "source": [
    "from collections import Counter\n",
    "\n",
    "def my_mode(sample):\n",
    "    c = Counter(sample)\n",
    "    return [k for k, v in c.items() if v == c.most_common(1)[0][1]]"
   ]
  },
  {
   "cell_type": "code",
   "execution_count": 4,
   "id": "41dc34b1",
   "metadata": {},
   "outputs": [
    {
     "data": {
      "text/plain": [
       "['male']"
      ]
     },
     "execution_count": 4,
     "metadata": {},
     "output_type": "execute_result"
    }
   ],
   "source": [
    "my_mode([\"male\", \"male\", \"female\", \"male\"])"
   ]
  },
  {
   "cell_type": "code",
   "execution_count": 5,
   "id": "e96ee2e4",
   "metadata": {},
   "outputs": [
    {
     "data": {
      "text/plain": [
       "['few', 'many']"
      ]
     },
     "execution_count": 5,
     "metadata": {},
     "output_type": "execute_result"
    }
   ],
   "source": [
    " my_mode([\"few\", \"few\", \"many\", \"some\", \"many\"])\n",
    "['few', 'many']"
   ]
  },
  {
   "cell_type": "code",
   "execution_count": 6,
   "id": "9794f062",
   "metadata": {},
   "outputs": [
    {
     "data": {
      "text/plain": [
       "[2]"
      ]
     },
     "execution_count": 6,
     "metadata": {},
     "output_type": "execute_result"
    }
   ],
   "source": [
    "my_mode([4, 1, 2, 2, 3, 5])"
   ]
  },
  {
   "cell_type": "code",
   "execution_count": 7,
   "id": "2ea4bace",
   "metadata": {},
   "outputs": [
    {
     "data": {
      "text/plain": [
       "[4, 2]"
      ]
     },
     "execution_count": 7,
     "metadata": {},
     "output_type": "execute_result"
    }
   ],
   "source": [
    "my_mode([4, 1, 2, 2, 3, 5, 4])"
   ]
  },
  {
   "cell_type": "code",
   "execution_count": null,
   "id": "f0260e00",
   "metadata": {},
   "outputs": [],
   "source": []
  }
 ],
 "metadata": {
  "kernelspec": {
   "display_name": "Python 3 (ipykernel)",
   "language": "python",
   "name": "python3"
  },
  "language_info": {
   "codemirror_mode": {
    "name": "ipython",
    "version": 3
   },
   "file_extension": ".py",
   "mimetype": "text/x-python",
   "name": "python",
   "nbconvert_exporter": "python",
   "pygments_lexer": "ipython3",
   "version": "3.9.12"
  }
 },
 "nbformat": 4,
 "nbformat_minor": 5
}
