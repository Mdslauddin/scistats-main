{
 "cells": [
  {
   "cell_type": "code",
   "execution_count": 8,
   "id": "a9099a5e",
   "metadata": {},
   "outputs": [
    {
     "data": {
      "text/plain": [
       "'\\nn = 2**10\\n\\ne = 1.0 # location\\nw = 2.0 # scale\\n\\nx = linspace(-10,10,n) \\n\\nfor a in range(-3,4):\\n    p = skew(x,e,w,a)\\n    plot(x,p)\\n\\nshow()\\n\\n'"
      ]
     },
     "execution_count": 8,
     "metadata": {},
     "output_type": "execute_result"
    }
   ],
   "source": [
    "\n",
    "from math import sqrt,pi,exp,erf\n",
    "\n",
    "def pdf(x):\n",
    "    return 1/sqrt(2*pi) * exp(-x**2/2)\n",
    "\n",
    "def cdf(x):\n",
    "    return (1 + erf(x/sqrt(2))) / 2\n",
    "\n",
    "def skew(x,e=0,w=1,a=0):\n",
    "    t = (x-e) / w\n",
    "    return 2 / w * pdf(t) * cdf(a*t)\n",
    "    # You can of course use the scipy.stats.norm versions\n",
    "    # return 2 * norm.pdf(t) * norm.cdf(a*t)\n",
    "\n",
    "\"\"\"\n",
    "n = 2**10\n",
    "\n",
    "e = 1.0 # location\n",
    "w = 2.0 # scale\n",
    "\n",
    "x = linspace(-10,10,n) \n",
    "\n",
    "for a in range(-3,4):\n",
    "    p = skew(x,e,w,a)\n",
    "    plot(x,p)\n",
    "\n",
    "show()\n",
    "\n",
    "\"\"\""
   ]
  },
  {
   "cell_type": "code",
   "execution_count": 9,
   "id": "da42ad54",
   "metadata": {},
   "outputs": [],
   "source": [
    "import scipy.stats as ss"
   ]
  },
  {
   "cell_type": "code",
   "execution_count": null,
   "id": "7a6be461",
   "metadata": {},
   "outputs": [],
   "source": []
  },
  {
   "cell_type": "code",
   "execution_count": 10,
   "id": "4b9681cc",
   "metadata": {},
   "outputs": [
    {
     "data": {
      "text/plain": [
       "0.0044318484119380075"
      ]
     },
     "execution_count": 10,
     "metadata": {},
     "output_type": "execute_result"
    }
   ],
   "source": [
    "pdf(3)"
   ]
  },
  {
   "cell_type": "code",
   "execution_count": 11,
   "id": "1f4b22e1",
   "metadata": {},
   "outputs": [
    {
     "data": {
      "text/plain": [
       "0.0767798534851267"
      ]
     },
     "execution_count": 11,
     "metadata": {},
     "output_type": "execute_result"
    }
   ],
   "source": [
    "skew(2,3,1,1)"
   ]
  },
  {
   "cell_type": "code",
   "execution_count": 12,
   "id": "727cced6",
   "metadata": {},
   "outputs": [
    {
     "data": {
      "text/plain": [
       "0.9986501019683699"
      ]
     },
     "execution_count": 12,
     "metadata": {},
     "output_type": "execute_result"
    }
   ],
   "source": [
    "cdf(3)"
   ]
  },
  {
   "cell_type": "code",
   "execution_count": null,
   "id": "d905ba77",
   "metadata": {},
   "outputs": [],
   "source": []
  }
 ],
 "metadata": {
  "kernelspec": {
   "display_name": "Python 3 (ipykernel)",
   "language": "python",
   "name": "python3"
  },
  "language_info": {
   "codemirror_mode": {
    "name": "ipython",
    "version": 3
   },
   "file_extension": ".py",
   "mimetype": "text/x-python",
   "name": "python",
   "nbconvert_exporter": "python",
   "pygments_lexer": "ipython3",
   "version": "3.9.12"
  }
 },
 "nbformat": 4,
 "nbformat_minor": 5
}
