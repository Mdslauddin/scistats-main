{
 "cells": [
  {
   "cell_type": "code",
   "execution_count": 1,
   "id": "b5ff50a4",
   "metadata": {},
   "outputs": [],
   "source": [
    "def my_median(sample):\n",
    "...     n = len(sample)\n",
    "...     index = n // 2\n",
    "...     # Sample with an odd number of observations\n",
    "...     if n % 2:\n",
    "...         return sorted(sample)[index]\n",
    "...     # Sample with an even number of observations\n",
    "...     return sum(sorted(sample)[index - 1:index + 1]) / 2\n",
    "..."
   ]
  },
  {
   "cell_type": "code",
   "execution_count": 2,
   "id": "975b9dc4",
   "metadata": {},
   "outputs": [
    {
     "data": {
      "text/plain": [
       "3"
      ]
     },
     "execution_count": 2,
     "metadata": {},
     "output_type": "execute_result"
    }
   ],
   "source": [
    "my_median([3, 5, 1, 4, 2])"
   ]
  },
  {
   "cell_type": "code",
   "execution_count": 3,
   "id": "4d47beea",
   "metadata": {},
   "outputs": [
    {
     "data": {
      "text/plain": [
       "3.5"
      ]
     },
     "execution_count": 3,
     "metadata": {},
     "output_type": "execute_result"
    }
   ],
   "source": [
    "my_median([3, 5, 1, 4, 2, 6])"
   ]
  },
  {
   "cell_type": "code",
   "execution_count": null,
   "id": "ac664125",
   "metadata": {},
   "outputs": [],
   "source": []
  }
 ],
 "metadata": {
  "kernelspec": {
   "display_name": "Python 3 (ipykernel)",
   "language": "python",
   "name": "python3"
  },
  "language_info": {
   "codemirror_mode": {
    "name": "ipython",
    "version": 3
   },
   "file_extension": ".py",
   "mimetype": "text/x-python",
   "name": "python",
   "nbconvert_exporter": "python",
   "pygments_lexer": "ipython3",
   "version": "3.9.12"
  }
 },
 "nbformat": 4,
 "nbformat_minor": 5
}
