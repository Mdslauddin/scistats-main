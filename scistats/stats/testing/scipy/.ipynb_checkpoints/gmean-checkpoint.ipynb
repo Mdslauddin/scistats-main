{
 "cells": [
  {
   "cell_type": "markdown",
   "id": "0d60978a",
   "metadata": {},
   "source": [
    "# Calculate Geometric Mean Using NumPy"
   ]
  },
  {
   "cell_type": "code",
   "execution_count": 5,
   "id": "9699841f",
   "metadata": {},
   "outputs": [],
   "source": [
    "def gmean(x):\n",
    "    a = log(x)\n",
    "    return exp(mean(a))\n"
   ]
  },
  {
   "cell_type": "code",
   "execution_count": 1,
   "id": "168105d9",
   "metadata": {},
   "outputs": [],
   "source": [
    "import numpy as np\n",
    "\n",
    "#define custom function\n",
    "def g_mean(x):\n",
    "    a = np.log(x)\n",
    "    return np.exp(a.mean())\n",
    "\n",
    "#calculate geometric mean \n",
    "\n",
    "# g_mean([value1, value2, value3, ...])"
   ]
  },
  {
   "cell_type": "code",
   "execution_count": 2,
   "id": "6d3c6913",
   "metadata": {},
   "outputs": [
    {
     "data": {
      "text/plain": [
       "3.9148676411688634"
      ]
     },
     "execution_count": 2,
     "metadata": {},
     "output_type": "execute_result"
    }
   ],
   "source": [
    "g_mean([3,4,5])"
   ]
  },
  {
   "cell_type": "markdown",
   "id": "b04fb53c",
   "metadata": {},
   "source": [
    "# Calculate Geometric Mean Using SciPy"
   ]
  },
  {
   "cell_type": "code",
   "execution_count": 3,
   "id": "02373b68",
   "metadata": {},
   "outputs": [],
   "source": [
    "from scipy.stats import gmean\n",
    "\n",
    "#calculate geometric mean\n",
    "# gmean([value1, value2, value3, ...])"
   ]
  },
  {
   "cell_type": "code",
   "execution_count": 4,
   "id": "cb78164d",
   "metadata": {},
   "outputs": [
    {
     "data": {
      "text/plain": [
       "3.9148676411688634"
      ]
     },
     "execution_count": 4,
     "metadata": {},
     "output_type": "execute_result"
    }
   ],
   "source": [
    "gmean([3,4,5])"
   ]
  },
  {
   "cell_type": "markdown",
   "id": "8974eed0",
   "metadata": {},
   "source": [
    "# How to Handle Zeros"
   ]
  },
  {
   "cell_type": "code",
   "execution_count": 5,
   "id": "cd239289",
   "metadata": {},
   "outputs": [
    {
     "name": "stdout",
     "output_type": "stream",
     "text": [
      "[1, 6, 6, 8, 9]\n"
     ]
    },
    {
     "data": {
      "text/plain": [
       "[1, 6, 6, 8, 9]"
      ]
     },
     "execution_count": 5,
     "metadata": {},
     "output_type": "execute_result"
    }
   ],
   "source": [
    "#create array with some zeros\n",
    "x = [1, 0, 0, 6, 6, 0, 8, 9]\n",
    "\n",
    "#remove zeros from array \n",
    "x_new = [i for i in x if i != 0]\n",
    "\n",
    "#view updated array\n",
    "print(x_new)\n",
    "\n",
    "[1, 6, 6, 8, 9]"
   ]
  },
  {
   "cell_type": "code",
   "execution_count": 6,
   "id": "5eaa4fd5",
   "metadata": {},
   "outputs": [
    {
     "name": "stdout",
     "output_type": "stream",
     "text": [
      "3.764351\n"
     ]
    }
   ],
   "source": [
    "# Python Program to calculate the\n",
    "# geometric mean of the given\n",
    "# array elements.\n",
    "import math\n",
    "\n",
    "# function to calculate geometric\n",
    "# mean and return float value.\n",
    "def geometricMean(arr, n) :\n",
    "\t\n",
    "\t# declare product variable and\n",
    "\t# initialize it to 1.\n",
    "\tproduct = 1\n",
    "\t\n",
    "\t# Compute the product of all the\n",
    "\t# elements in the array.\n",
    "\tfor i in range(0,n) :\n",
    "\t\tproduct = product * arr[i]\n",
    "\n",
    "\t# compute geometric mean through\n",
    "\t# formula pow(product, 1/n) and\n",
    "\t# return the value to main function.\n",
    "\tgm = (float)(math.pow(product, (1 / n)))\n",
    "\treturn (float)(gm)\n",
    "\t\n",
    "\t\n",
    "# Driver function\n",
    "arr = [ 1, 2, 3, 4, 5, 6, 7, 8]\n",
    "n = len(arr)\n",
    "\n",
    "# to print 6 digits after decimal\n",
    "print ('{0:.6f}'.format(geometricMean(arr, n)))\n",
    "\n",
    "\n",
    "# This code is contributed by Nikita Tiwari\n"
   ]
  },
  {
   "cell_type": "code",
   "execution_count": 7,
   "id": "9aaa7d6c",
   "metadata": {},
   "outputs": [
    {
     "name": "stdout",
     "output_type": "stream",
     "text": [
      "3.764350599503129\n"
     ]
    }
   ],
   "source": [
    "# Program to calculate the\n",
    "# geometric mean of the\n",
    "# given array elements.\n",
    "import math\n",
    "\n",
    "# function to calculate\n",
    "# geometric mean and\n",
    "# return float value.\n",
    "def geometricMean(arr, n):\n",
    "\t\n",
    "\t# declare sum variable and\n",
    "\t# initialize it to 1.\n",
    "\tsum = 0;\n",
    "\t\n",
    "\t# Compute the sum of all\n",
    "\t# the elements in the array.\n",
    "\tfor i in range(n):\n",
    "\t\tsum = sum + math.log(arr[i]);\n",
    "\t\n",
    "\t# compute geometric mean\n",
    "\t# through formula antilog\n",
    "\t# (((log(1) + log(2) + . .\n",
    "\t# ... + log(n))/n)\n",
    "\t# and return the value to\n",
    "\t# main function.\n",
    "\tsum = sum / n;\n",
    "\t\n",
    "\treturn math.exp(sum);\n",
    "\n",
    "# Driver Code\n",
    "arr= [ 1, 2, 3, 4, 5, 6, 7, 8 ];\n",
    "n = len(arr);\n",
    "\n",
    "# function call\n",
    "print(geometricMean(arr, n));\n",
    "\n",
    "# This code is contributed by mits.\n"
   ]
  },
  {
   "cell_type": "code",
   "execution_count": null,
   "id": "f790377e",
   "metadata": {},
   "outputs": [],
   "source": []
  }
 ],
 "metadata": {
  "kernelspec": {
   "display_name": "Python 3 (ipykernel)",
   "language": "python",
   "name": "python3"
  },
  "language_info": {
   "codemirror_mode": {
    "name": "ipython",
    "version": 3
   },
   "file_extension": ".py",
   "mimetype": "text/x-python",
   "name": "python",
   "nbconvert_exporter": "python",
   "pygments_lexer": "ipython3",
   "version": "3.9.12"
  }
 },
 "nbformat": 4,
 "nbformat_minor": 5
}
