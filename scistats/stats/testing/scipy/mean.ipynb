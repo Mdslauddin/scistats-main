{
 "cells": [
  {
   "cell_type": "code",
   "execution_count": 1,
   "id": "3fe2a07b",
   "metadata": {},
   "outputs": [],
   "source": [
    " def my_mean(sample):\n",
    "...     return sum(sample) / len(sample)"
   ]
  },
  {
   "cell_type": "code",
   "execution_count": 2,
   "id": "ad75ea2d",
   "metadata": {},
   "outputs": [
    {
     "data": {
      "text/plain": [
       "5.2"
      ]
     },
     "execution_count": 2,
     "metadata": {},
     "output_type": "execute_result"
    }
   ],
   "source": [
    "my_mean([4, 8, 6, 5, 3, 2, 8, 9, 2, 5])"
   ]
  },
  {
   "cell_type": "code",
   "execution_count": 3,
   "id": "3c6a33b5",
   "metadata": {},
   "outputs": [],
   "source": [
    "def mean(x,counts):\n",
    "    return np.sum(x*counts) / np.sum(counts)"
   ]
  },
  {
   "cell_type": "code",
   "execution_count": null,
   "id": "82edfb2c",
   "metadata": {},
   "outputs": [],
   "source": []
  }
 ],
 "metadata": {
  "kernelspec": {
   "display_name": "Python 3 (ipykernel)",
   "language": "python",
   "name": "python3"
  },
  "language_info": {
   "codemirror_mode": {
    "name": "ipython",
    "version": 3
   },
   "file_extension": ".py",
   "mimetype": "text/x-python",
   "name": "python",
   "nbconvert_exporter": "python",
   "pygments_lexer": "ipython3",
   "version": "3.9.12"
  }
 },
 "nbformat": 4,
 "nbformat_minor": 5
}
