{
 "cells": [
  {
   "cell_type": "code",
   "execution_count": 4,
   "id": "0fc07f8e",
   "metadata": {},
   "outputs": [
    {
     "name": "stdout",
     "output_type": "stream",
     "text": [
      "The original list is : [1, 4]\n",
      "The harmonic mean of list is : 1.6\n"
     ]
    }
   ],
   "source": [
    "# Python3 code to demonstrate working of\n",
    "# Harmonic Mean of List\n",
    "# using loop + formula\n",
    "\n",
    "# initialize list\n",
    "test_list = [1,4]\n",
    "\n",
    "# printing original list\n",
    "print(\"The original list is : \" + str(test_list))\n",
    "\n",
    "# Harmonic Mean of List\n",
    "# using loop + formula\n",
    "sum = 0\n",
    "for ele in test_list:\n",
    "\tsum += 1 / ele\t\n",
    "res = len(test_list)/sum\n",
    "\n",
    "# printing result\n",
    "print(\"The harmonic mean of list is : \" + str(res))\n"
   ]
  },
  {
   "cell_type": "code",
   "execution_count": 3,
   "id": "4dd664fc",
   "metadata": {},
   "outputs": [],
   "source": [
    "def hmeans(x):\n",
    "    sums = 0\n",
    "    for els in x:\n",
    "        sums += 1 / ele \n",
    "        res = len(x)/sums \n",
    "        return res "
   ]
  },
  {
   "cell_type": "code",
   "execution_count": null,
   "id": "9f5bff45",
   "metadata": {},
   "outputs": [],
   "source": []
  }
 ],
 "metadata": {
  "kernelspec": {
   "display_name": "Python 3 (ipykernel)",
   "language": "python",
   "name": "python3"
  },
  "language_info": {
   "codemirror_mode": {
    "name": "ipython",
    "version": 3
   },
   "file_extension": ".py",
   "mimetype": "text/x-python",
   "name": "python",
   "nbconvert_exporter": "python",
   "pygments_lexer": "ipython3",
   "version": "3.9.12"
  }
 },
 "nbformat": 4,
 "nbformat_minor": 5
}
