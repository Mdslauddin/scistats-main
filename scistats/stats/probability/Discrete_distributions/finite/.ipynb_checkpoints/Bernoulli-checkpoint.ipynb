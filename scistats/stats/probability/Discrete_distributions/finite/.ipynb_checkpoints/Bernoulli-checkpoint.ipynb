{
 "cells": [
  {
   "cell_type": "code",
   "execution_count": 1,
   "id": "1d2e7ec5",
   "metadata": {},
   "outputs": [
    {
     "data": {
      "text/plain": [
       "'\\n\\nBernoulli distribution\\nhttps://en.wikipedia.org/wiki/Bernoulli_distribution\\n\\n\\n'"
      ]
     },
     "execution_count": 1,
     "metadata": {},
     "output_type": "execute_result"
    }
   ],
   "source": [
    "\"\"\"\n",
    "\n",
    "Bernoulli distribution\n",
    "https://en.wikipedia.org/wiki/Bernoulli_distribution\n",
    "\n",
    "\n",
    "\"\"\""
   ]
  },
  {
   "cell_type": "code",
   "execution_count": 15,
   "id": "27ee29e0",
   "metadata": {},
   "outputs": [],
   "source": [
    "import math\n",
    "\n",
    "\n",
    "class Bernoulli:\n",
    "    \"\"\"\n",
    "    This class will be used to calculate different parameter associated with the bernoulli distribution\n",
    "    :param p: Probability of success (float)\n",
    "    \"\"\"\n",
    "\n",
    "    def __init__(self, p: float):\n",
    "        self.p = p\n",
    "        self.mean = p\n",
    "        # Probability of failure(q) is the same as 1 - probability of success; since they must both add up to 1\n",
    "        self.q = 1 - p\n",
    "\n",
    "    def __repr__(self):\n",
    "        \"\"\"\n",
    "        This function prints out the probability of success and the probability of failure\n",
    "        :return None:\n",
    "        \"\"\"\n",
    "        print(f\"Probability of success(p) = mean = {self.mean}, probability of failure = {self.q}\")\n",
    "\n",
    "    def std(self):\n",
    "        \"\"\"\n",
    "        This function calculates and returns the standard deviation of the distribution\n",
    "        :return std: Standard Deviation(float)\n",
    "        \"\"\"\n",
    "        std = math.sqrt(q * p)\n",
    "        return std\n",
    "\n",
    "    def pdf(self, success: bool = True):\n",
    "        \"\"\"\n",
    "        This function calculates the probability density function of the distribution for either success or failure\n",
    "        :param success: Indicate whether the calculation is for success or failure; with 'true' indicating success and\n",
    "        'false' indicating failure\n",
    "        :return pdf: probability density function (float)\n",
    "        \"\"\"\n",
    "        if success:\n",
    "            x = 1\n",
    "        else:\n",
    "            x = 0\n",
    "\n",
    "        pdf = round(self ** x * self ** (1 - x), 2)\n",
    "        return pdf\n"
   ]
  },
  {
   "cell_type": "markdown",
   "id": "fe0133cc",
   "metadata": {},
   "source": [
    "# [Bernoulli distribution](https://en.wikipedia.org/wiki/Bernoulli_distribution)"
   ]
  },
  {
   "cell_type": "code",
   "execution_count": 16,
   "id": "173a0691",
   "metadata": {},
   "outputs": [
    {
     "data": {
      "text/plain": [
       "5"
      ]
     },
     "execution_count": 16,
     "metadata": {},
     "output_type": "execute_result"
    }
   ],
   "source": [
    "Bernoulli.pdf(5)"
   ]
  },
  {
   "cell_type": "code",
   "execution_count": 17,
   "id": "83070b8e",
   "metadata": {},
   "outputs": [
    {
     "ename": "NameError",
     "evalue": "name 'q' is not defined",
     "output_type": "error",
     "traceback": [
      "\u001b[1;31m---------------------------------------------------------------------------\u001b[0m",
      "\u001b[1;31mNameError\u001b[0m                                 Traceback (most recent call last)",
      "Input \u001b[1;32mIn [17]\u001b[0m, in \u001b[0;36m<cell line: 1>\u001b[1;34m()\u001b[0m\n\u001b[1;32m----> 1\u001b[0m \u001b[43mBernoulli\u001b[49m\u001b[38;5;241;43m.\u001b[39;49m\u001b[43mstd\u001b[49m\u001b[43m(\u001b[49m\u001b[38;5;241;43m8\u001b[39;49m\u001b[43m)\u001b[49m\n",
      "Input \u001b[1;32mIn [15]\u001b[0m, in \u001b[0;36mBernoulli.std\u001b[1;34m(self)\u001b[0m\n\u001b[0;32m     23\u001b[0m \u001b[38;5;28;01mdef\u001b[39;00m \u001b[38;5;21mstd\u001b[39m(\u001b[38;5;28mself\u001b[39m):\n\u001b[0;32m     24\u001b[0m     \u001b[38;5;124;03m\"\"\"\u001b[39;00m\n\u001b[0;32m     25\u001b[0m \u001b[38;5;124;03m    This function calculates and returns the standard deviation of the distribution\u001b[39;00m\n\u001b[0;32m     26\u001b[0m \u001b[38;5;124;03m    :return std: Standard Deviation(float)\u001b[39;00m\n\u001b[0;32m     27\u001b[0m \u001b[38;5;124;03m    \"\"\"\u001b[39;00m\n\u001b[1;32m---> 28\u001b[0m     std \u001b[38;5;241m=\u001b[39m math\u001b[38;5;241m.\u001b[39msqrt(\u001b[43mq\u001b[49m \u001b[38;5;241m*\u001b[39m p)\n\u001b[0;32m     29\u001b[0m     \u001b[38;5;28;01mreturn\u001b[39;00m std\n",
      "\u001b[1;31mNameError\u001b[0m: name 'q' is not defined"
     ]
    }
   ],
   "source": [
    "Bernoulli.std(8)"
   ]
  },
  {
   "cell_type": "code",
   "execution_count": 18,
   "id": "1cb64ebb",
   "metadata": {},
   "outputs": [],
   "source": [
    "import math"
   ]
  },
  {
   "cell_type": "code",
   "execution_count": 19,
   "id": "3d9200a3",
   "metadata": {},
   "outputs": [],
   "source": [
    "def sigmoid(u):\n",
    "    return 1/(1+math.exp(-u))"
   ]
  },
  {
   "cell_type": "code",
   "execution_count": 21,
   "id": "63a1e613",
   "metadata": {},
   "outputs": [
    {
     "data": {
      "text/plain": [
       "0.04742587317756678"
      ]
     },
     "execution_count": 21,
     "metadata": {},
     "output_type": "execute_result"
    }
   ],
   "source": [
    "sigmoid(-3)"
   ]
  },
  {
   "cell_type": "code",
   "execution_count": 22,
   "id": "b74d1c45",
   "metadata": {},
   "outputs": [],
   "source": [
    "#bernoulli probability mass function:\n",
    "def pmf(x,p):\n",
    "    f = p**x*(1-p)**(1-x)\n",
    "    return f"
   ]
  },
  {
   "cell_type": "code",
   "execution_count": 23,
   "id": "8cc5e98d",
   "metadata": {},
   "outputs": [],
   "source": [
    "# expected value of x\n",
    "def mean(p):\n",
    "    return p"
   ]
  },
  {
   "cell_type": "code",
   "execution_count": 24,
   "id": "2f13ca03",
   "metadata": {},
   "outputs": [],
   "source": [
    "#variance of x\n",
    "def var(p):\n",
    "    return p*(1-p)\n",
    "#standard deviation is root of variance\n",
    "def std(p):\n",
    "    return var(p)**(1/2)"
   ]
  },
  {
   "cell_type": "code",
   "execution_count": 25,
   "id": "8741ccff",
   "metadata": {},
   "outputs": [],
   "source": [
    "import numpy as np\n",
    "#created a bernoulli class\n",
    " \n",
    "class bernoulli():\n",
    "    def pmf(x,p):\n",
    "        \"\"\"\n",
    "        probability mass function        \n",
    "        \"\"\"\n",
    "        f = p**x*(1-p)**(1-x)\n",
    "        return f\n",
    "    \n",
    "    def mean(p):\n",
    "        \"\"\"\n",
    "        expected value of bernoulli random variable\n",
    "        \"\"\"\n",
    "        return p\n",
    "    \n",
    "    def var(p):\n",
    "        \"\"\"\n",
    "        variance of bernoulli random variable\n",
    "        \"\"\"\n",
    "        return p*(1-p)\n",
    "    \n",
    "    def std(p):\n",
    "        \"\"\"\n",
    "        standart deviation of bernoulli random variable\n",
    "        \"\"\"\n",
    "        return bernoulli.var(p)**(1/2)\n",
    "    \n",
    "    def rvs(p,size=1):\n",
    "        \"\"\"\n",
    "        random variates\n",
    "        \"\"\"\n",
    "        rvs = np.array([])\n",
    "        for i in range(0,size):\n",
    "            if np.random.rand() <= p:\n",
    "                a=1\n",
    "                rvs = np.append(rvs,a)\n",
    "            else:\n",
    "                a=0\n",
    "                rvs = np.append(rvs,a)\n",
    "        return rvs"
   ]
  },
  {
   "cell_type": "code",
   "execution_count": 26,
   "id": "5da77ac2",
   "metadata": {},
   "outputs": [],
   "source": [
    "# https://towardsdatascience.com/bernoulli-distribution-with-python-from-scratch-89fda3c822b"
   ]
  },
  {
   "cell_type": "code",
   "execution_count": 29,
   "id": "dae5f137",
   "metadata": {},
   "outputs": [
    {
     "data": {
      "text/plain": [
       "(0.4,)"
      ]
     },
     "execution_count": 29,
     "metadata": {},
     "output_type": "execute_result"
    }
   ],
   "source": [
    "p=0.2 # probability of having an accident\n",
    "bernoulli.mean(p), # return -> 0.2\n",
    "bernoulli.var(p), # return -> 0.16\n",
    "bernoulli.std(p) # return -> 0.4\n",
    "#each execution generates random numbers, so array may be change\n",
    "bernoulli.rvs(p,size=10) \n",
    "#return-> array([0., 0., 0., 0., 1., 0., 1., 0., 0., 1.])"
   ]
  },
  {
   "cell_type": "code",
   "execution_count": null,
   "id": "9bcdd715",
   "metadata": {},
   "outputs": [],
   "source": [
    "class bernoulli_gen(binom_gen):\n",
    "    r\"\"\"A Bernoulli discrete random variable.\n",
    "    %(before_notes)s\n",
    "    Notes\n",
    "    -----\n",
    "    The probability mass function for `bernoulli` is:\n",
    "    .. math::\n",
    "       f(k) = \\begin{cases}1-p  &\\text{if } k = 0\\\\\n",
    "                           p    &\\text{if } k = 1\\end{cases}\n",
    "    for :math:`k` in :math:`\\{0, 1\\}`, :math:`0 \\leq p \\leq 1`\n",
    "    `bernoulli` takes :math:`p` as shape parameter,\n",
    "    where :math:`p` is the probability of a single success\n",
    "    and :math:`1-p` is the probability of a single failure.\n",
    "    %(after_notes)s\n",
    "    %(example)s\n",
    "    \"\"\"\n",
    "    def _shape_info(self):\n",
    "        return [_ShapeInfo(\"p\", False, (0, 1), (True, True))]\n",
    "\n",
    "    def _rvs(self, p, size=None, random_state=None):\n",
    "        return binom_gen._rvs(self, 1, p, size=size, random_state=random_state)\n",
    "\n",
    "    def _argcheck(self, p):\n",
    "        return (p >= 0) & (p <= 1)\n",
    "\n",
    "    def _get_support(self, p):\n",
    "        # Overrides binom_gen._get_support!x\n",
    "        return self.a, self.b\n",
    "\n",
    "    def _logpmf(self, x, p):\n",
    "        return binom._logpmf(x, 1, p)\n",
    "\n",
    "    def _pmf(self, x, p):\n",
    "        # bernoulli.pmf(k) = 1-p  if k = 0\n",
    "        #                  = p    if k = 1\n",
    "        return binom._pmf(x, 1, p)\n",
    "\n",
    "    def _cdf(self, x, p):\n",
    "        return binom._cdf(x, 1, p)\n",
    "\n",
    "    def _sf(self, x, p):\n",
    "        return binom._sf(x, 1, p)\n",
    "\n",
    "    def _isf(self, x, p):\n",
    "        return binom._isf(x, 1, p)\n",
    "\n",
    "    def _ppf(self, q, p):\n",
    "        return binom._ppf(q, 1, p)\n",
    "\n",
    "    def _stats(self, p):\n",
    "        return binom._stats(1, p)\n",
    "\n",
    "    def _entropy(self, p):\n",
    "        return entr(p) + entr(1-p)"
   ]
  },
  {
   "cell_type": "code",
   "execution_count": 30,
   "id": "40479ee9",
   "metadata": {},
   "outputs": [],
   "source": [
    "from scipy.stats import bernoulli"
   ]
  },
  {
   "cell_type": "code",
   "execution_count": 31,
   "id": "1619de05",
   "metadata": {},
   "outputs": [
    {
     "data": {
      "text/plain": [
       "0.4"
      ]
     },
     "execution_count": 31,
     "metadata": {},
     "output_type": "execute_result"
    }
   ],
   "source": [
    "bernoulli.std(0.2)"
   ]
  },
  {
   "cell_type": "code",
   "execution_count": 32,
   "id": "196af46d",
   "metadata": {},
   "outputs": [
    {
     "data": {
      "text/plain": [
       "0.2"
      ]
     },
     "execution_count": 32,
     "metadata": {},
     "output_type": "execute_result"
    }
   ],
   "source": [
    "bernoulli.mean(0.2)"
   ]
  },
  {
   "cell_type": "code",
   "execution_count": 33,
   "id": "e875a5e8",
   "metadata": {},
   "outputs": [
    {
     "data": {
      "text/plain": [
       "0.16000000000000003"
      ]
     },
     "execution_count": 33,
     "metadata": {},
     "output_type": "execute_result"
    }
   ],
   "source": [
    "bernoulli.var(0.2)"
   ]
  },
  {
   "cell_type": "code",
   "execution_count": 38,
   "id": "784b7044",
   "metadata": {},
   "outputs": [
    {
     "data": {
      "text/plain": [
       "10"
      ]
     },
     "execution_count": 38,
     "metadata": {},
     "output_type": "execute_result"
    }
   ],
   "source": [
    "bernoulli.rvs(0.2,10)"
   ]
  },
  {
   "cell_type": "code",
   "execution_count": 39,
   "id": "0bdc4f1b",
   "metadata": {},
   "outputs": [],
   "source": [
    "import Bernoulli_distributions as bd"
   ]
  },
  {
   "cell_type": "code",
   "execution_count": 42,
   "id": "b93ecd79",
   "metadata": {},
   "outputs": [
    {
     "data": {
      "text/plain": [
       "0.4"
      ]
     },
     "execution_count": 42,
     "metadata": {},
     "output_type": "execute_result"
    }
   ],
   "source": [
    "bd.bernoulli.std(0.2)"
   ]
  },
  {
   "cell_type": "code",
   "execution_count": null,
   "id": "ba226a31",
   "metadata": {},
   "outputs": [],
   "source": []
  },
  {
   "cell_type": "code",
   "execution_count": null,
   "id": "cfe20402",
   "metadata": {},
   "outputs": [],
   "source": []
  },
  {
   "cell_type": "code",
   "execution_count": null,
   "id": "d130db71",
   "metadata": {},
   "outputs": [],
   "source": []
  },
  {
   "cell_type": "code",
   "execution_count": null,
   "id": "4c31d8ed",
   "metadata": {},
   "outputs": [],
   "source": [
    "binom = binom_gen(name='binom')"
   ]
  }
 ],
 "metadata": {
  "kernelspec": {
   "display_name": "Python 3 (ipykernel)",
   "language": "python",
   "name": "python3"
  },
  "language_info": {
   "codemirror_mode": {
    "name": "ipython",
    "version": 3
   },
   "file_extension": ".py",
   "mimetype": "text/x-python",
   "name": "python",
   "nbconvert_exporter": "python",
   "pygments_lexer": "ipython3",
   "version": "3.9.12"
  }
 },
 "nbformat": 4,
 "nbformat_minor": 5
}
