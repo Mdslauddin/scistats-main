{
 "cells": [
  {
   "cell_type": "code",
   "execution_count": null,
   "id": "9b858660",
   "metadata": {},
   "outputs": [],
   "source": [
    "# https://www.tertiaryinfotech.com/compute-binomial-distribution-using-python-from-scratch/"
   ]
  },
  {
   "cell_type": "code",
   "execution_count": 1,
   "id": "646e4c5f",
   "metadata": {},
   "outputs": [
    {
     "data": {
      "image/png": "[encoded data removed]",
      "text/plain": [
       "<Figure size 432x288 with 1 Axes>"
      ]
     },
     "metadata": {
      "needs_background": "light"
     },
     "output_type": "display_data"
    }
   ],
   "source": [
    "from scipy.stats import binom\n",
    "\n",
    "n = 50\n",
    "p = 0.9\n",
    "\n",
    "r = list(range(n + 1))\n",
    "dist = binom.pmf(r, n, p)\n",
    "\n",
    "import matplotlib.pyplot as plt\n",
    "\n",
    "plt.bar(r, dist)\n",
    "plt.show()"
   ]
  },
  {
   "cell_type": "code",
   "execution_count": 8,
   "id": "96e971f3",
   "metadata": {},
   "outputs": [
    {
     "data": {
      "text/plain": [
       "45.0"
      ]
     },
     "execution_count": 8,
     "metadata": {},
     "output_type": "execute_result"
    }
   ],
   "source": [
    "binom.mean(n,p)"
   ]
  },
  {
   "cell_type": "code",
   "execution_count": null,
   "id": "4c2f6c42",
   "metadata": {},
   "outputs": [],
   "source": [
    " binom."
   ]
  },
  {
   "cell_type": "code",
   "execution_count": 16,
   "id": "362c9e11",
   "metadata": {},
   "outputs": [
    {
     "data": {
      "text/plain": [
       "2.1213203435596424"
      ]
     },
     "execution_count": 16,
     "metadata": {},
     "output_type": "execute_result"
    }
   ],
   "source": [
    "binom.std(n,p)"
   ]
  },
  {
   "cell_type": "code",
   "execution_count": 17,
   "id": "8532e376",
   "metadata": {},
   "outputs": [],
   "source": [
    "import math\n",
    "def  pmf(k,n,p):\n",
    "    return math.comb(n,k)*(p**k)*((1-p)**(n-k))\n",
    "def mean(n,p):\n",
    "    return (n*p)\n",
    "def std(n,p):\n",
    "        \"\"\"\n",
    "        Calculates the standard deviation\n",
    "        :return std:\n",
    "        \"\"\"\n",
    "        std = math.sqrt(n * p * (1-p))\n",
    "        return std"
   ]
  },
  {
   "cell_type": "code",
   "execution_count": 18,
   "id": "e2bef028",
   "metadata": {},
   "outputs": [
    {
     "data": {
      "text/plain": [
       "2.1213203435596424"
      ]
     },
     "execution_count": 18,
     "metadata": {},
     "output_type": "execute_result"
    }
   ],
   "source": [
    "std(n,p)"
   ]
  },
  {
   "cell_type": "code",
   "execution_count": 15,
   "id": "8305c202",
   "metadata": {},
   "outputs": [
    {
     "data": {
      "text/plain": [
       "45.0"
      ]
     },
     "execution_count": 15,
     "metadata": {},
     "output_type": "execute_result"
    }
   ],
   "source": [
    "n = 50\n",
    "p = 0.9\n",
    "mean(n,p)"
   ]
  },
  {
   "cell_type": "code",
   "execution_count": 1,
   "id": "44c75184",
   "metadata": {},
   "outputs": [
    {
     "data": {
      "image/png": "[encoded data removed]",
      "text/plain": [
       "<Figure size 432x288 with 1 Axes>"
      ]
     },
     "metadata": {
      "needs_background": "light"
     },
     "output_type": "display_data"
    }
   ],
   "source": [
    "import math\n",
    "class binom:\n",
    "\n",
    "    def  pmf(k,n,p):\n",
    "        return math.comb(n,k)\n",
    "    \n",
    "\n",
    "    \n",
    "\n",
    "   \n",
    "n=50 \n",
    "p = 0.9    \n",
    "r = list(range(n + 1))\n",
    "dist = [binom.pmf(k, n, p) for k in r]\n",
    "import matplotlib.pyplot as plt\n",
    "\n",
    "plt.bar(r, dist)\n",
    "plt.show() "
   ]
  },
  {
   "cell_type": "code",
   "execution_count": null,
   "id": "cd42fd0d",
   "metadata": {
    "scrolled": true
   },
   "outputs": [],
   "source": []
  },
  {
   "cell_type": "code",
   "execution_count": 4,
   "id": "22df746a",
   "metadata": {},
   "outputs": [
    {
     "data": {
      "image/png": "[encoded data removed]",
      "text/plain": [
       "<Figure size 432x288 with 1 Axes>"
      ]
     },
     "metadata": {
      "needs_background": "light"
     },
     "output_type": "display_data"
    }
   ],
   "source": [
    "def factorial(n):\n",
    "    x = 1\n",
    "    for i in range(1, n+1):\n",
    "        x *= i\n",
    "    return x\n",
    "\n",
    "def combination(n, k):\n",
    "    return factorial(n)/(factorial(k)*factorial(n-k))\n",
    "\n",
    "def  pmf(k,n,p):\n",
    "    return math.comb(n,k)*(p**k)*((1-p)**(n-k))\n",
    "\n",
    "\n",
    "r = list(range(n + 1))\n",
    "dist = [pmf(k, n, p) for k in r]\n",
    "import matplotlib.pyplot as plt\n",
    "\n",
    "plt.bar(r, dist)\n",
    "plt.show()"
   ]
  },
  {
   "cell_type": "code",
   "execution_count": 6,
   "id": "b6fcdd3d",
   "metadata": {},
   "outputs": [
    {
     "data": {
      "image/png": "[encoded data removed]",
      "text/plain": [
       "<Figure size 432x288 with 1 Axes>"
      ]
     },
     "metadata": {
      "needs_background": "light"
     },
     "output_type": "display_data"
    }
   ],
   "source": [
    "import math \n",
    "def  pmf(k,n,p):\n",
    "    return math.comb(n,k)*(p**k)*((1-p)**(n-k))\n",
    "\n",
    "\n",
    "n = 50\n",
    "p = 0.9\n",
    "r = list(range(n + 1))\n",
    "dist = [pmf(k, n, p) for k in r]\n",
    "import matplotlib.pyplot as plt\n",
    "\n",
    "plt.bar(r, dist)\n",
    "plt.show()"
   ]
  },
  {
   "cell_type": "code",
   "execution_count": null,
   "id": "f7521b18",
   "metadata": {},
   "outputs": [],
   "source": []
  },
  {
   "cell_type": "code",
   "execution_count": null,
   "id": "1ace1a8b",
   "metadata": {},
   "outputs": [],
   "source": []
  },
  {
   "cell_type": "code",
   "execution_count": null,
   "id": "2b8621ab",
   "metadata": {},
   "outputs": [],
   "source": [
    "# https://towardsdatascience.com/binomial-distribution-and-binomial-test-in-python-statistics-pyshark-91aa6403d674"
   ]
  },
  {
   "cell_type": "code",
   "execution_count": null,
   "id": "9f4183f5",
   "metadata": {},
   "outputs": [],
   "source": []
  },
  {
   "cell_type": "code",
   "execution_count": null,
   "id": "9b36d5a8",
   "metadata": {},
   "outputs": [],
   "source": []
  },
  {
   "cell_type": "code",
   "execution_count": null,
   "id": "d81a274b",
   "metadata": {},
   "outputs": [],
   "source": [
    "\"\"\"\n",
    "\n",
    "Binomial distribution\n",
    "https://en.wikipedia.org/wiki/Binomial_distribution\n",
    "\n",
    "\"\"\""
   ]
  },
  {
   "cell_type": "code",
   "execution_count": null,
   "id": "dbb5b592",
   "metadata": {},
   "outputs": [],
   "source": [
    "\n",
    "    def mean(self):\n",
    "        \"\"\"\n",
    "        Calculates the mean\n",
    "        :return mean:\n",
    "        \"\"\"\n",
    "        mean = n*p\n",
    "        return mean\n",
    "\n",
    "    def std(self):\n",
    "        \"\"\"\n",
    "        Calculates the standard deviation\n",
    "        :return std:\n",
    "        \"\"\"\n",
    "        std = math.sqrt(n * p * (1-p))\n",
    "        return std"
   ]
  },
  {
   "cell_type": "code",
   "execution_count": null,
   "id": "8273091f",
   "metadata": {},
   "outputs": [],
   "source": [
    "import math\n",
    "\n",
    "\n",
    "class Binomial:\n",
    "    \"\"\"\n",
    "    This class should be used to calculate parameters associated with a binomial distribution.\n",
    "\n",
    "    :param n_trials: This indicates the number of trails.\n",
    "    :param p_success: This indicates the probability of success\n",
    "    \"\"\"\n",
    "\n",
    "    def __init__(self, n_trials, p_success):\n",
    "        self.n_trials = n_trials\n",
    "        self.p_success = p_success\n",
    "        self.p_failure = 1 - p_success\n",
    "\n",
    "    def __repr__(self):\n",
    "        \"\"\"\n",
    "        This function prints out the initialized variables.\n",
    "        :return None:\n",
    "        \"\"\"\n",
    "        return f\"P_success = {self.p_success}, n_trials = {self.n_trials}, p_failure = {self.p_failure}\"\n",
    "\n",
    "    def calculate_mean(self):\n",
    "        \"\"\"\n",
    "        Calculates the mean\n",
    "        :return mean:\n",
    "        \"\"\"\n",
    "        mean = self.n_trials * self.p_success\n",
    "        return mean\n",
    "\n",
    "    def calculate_std(self):\n",
    "        \"\"\"\n",
    "        Calculates the standard deviation\n",
    "        :return std:\n",
    "        \"\"\"\n",
    "        std = math.sqrt(self.n_trials * self.p_success * self.p_failure)\n",
    "        return std\n",
    "\n",
    "    def binomial_distribution_formula(self, expected_success):\n",
    "        \"\"\"\n",
    "        This function calculates the bdf\n",
    "        :param expected_success: The number of times we expect the outcome to be success\n",
    "        :return bdf: The binomial distribution function of the expected value\n",
    "        \"\"\"\n",
    "        bdf = math.factorial(self) / (math.factorial(expected_success) *\n",
    "                                               math.factorial(self - expected_success)\n",
    "                                               ) * self ** \\\n",
    "              expected_success * self.p_failure ** self - expected_success\n",
    "        return bdf\n"
   ]
  },
  {
   "cell_type": "code",
   "execution_count": null,
   "id": "50a846c0",
   "metadata": {},
   "outputs": [],
   "source": [
    "binom.b()"
   ]
  },
  {
   "cell_type": "code",
   "execution_count": null,
   "id": "1ae512cd",
   "metadata": {},
   "outputs": [],
   "source": [
    "Binomial.binomial_distribution_formula(2,4)"
   ]
  },
  {
   "cell_type": "code",
   "execution_count": null,
   "id": "aa617457",
   "metadata": {},
   "outputs": [],
   "source": [
    "\n",
    "\n",
    "import numpy as np\n",
    "import scipy.special\n",
    "\n",
    "# Negative Binomial as defined in\n",
    "# https://mathworld.wolfram.com/NegativeBinomialDistribution.html\n",
    "def P(x, r, p):\n",
    "    return scipy.special.comb(x+r-1, r-1)*p**r*(1.0-p)**x\n",
    "\n",
    "def single_event(p, rng):\n",
    "    \"\"\"\n",
    "    Simulates single up-to-4-wins event,\n",
    "    returns who won and how many opponent got\n",
    "    \"\"\"\n",
    "    f = 0\n",
    "    u = 0\n",
    "    while True:\n",
    "        if rng.random() < p:\n",
    "            f += 1\n",
    "            if f == 4:\n",
    "                return (True,u) # favorite won\n",
    "        else:\n",
    "            u += 1\n",
    "            if u == 4:\n",
    "                return (False,f) # underdog won\n",
    "\n",
    "def sample(p, rng, N):\n",
    "    \"\"\"\n",
    "    Simulate N events and count all possible outcomes\n",
    "    \"\"\"\n",
    "\n",
    "    f = np.array([0, 0, 0, 0], dtype=np.float64) # favorite counter\n",
    "    u = np.array([0, 0, 0, 0], dtype=np.float64) # underdog counter\n",
    "\n",
    "    for _ in range(0, N):\n",
    "        w, i = single_event(p, rng)\n",
    "        if w:\n",
    "            f[i] += 1\n",
    "        else:\n",
    "            u[i] += 1\n",
    "\n",
    "    return (f/float(N), u/float(N)) # normalization\n",
    "\n",
    "def expected_nof_games(p, rng, N):\n",
    "    \"\"\"\n",
    "    Simulate N events and computes expected number of games\n",
    "    \"\"\"\n",
    "\n",
    "    Ng = 0\n",
    "    for _ in range(0, N):\n",
    "        w, i = single_event(p, rng)\n",
    "\n",
    "        Ng += 4 + i # 4 games won by winner and i by loser\n",
    "\n",
    "    return float(Ng)/float(N)\n",
    "\n",
    "\n",
    "p = 0.55\n",
    "\n",
    "# favorite\n",
    "p04 = P(0, 4, p)\n",
    "p14 = P(1, 4, p)\n",
    "p24 = P(2, 4, p)\n",
    "p34 = P(3, 4, p)\n",
    "\n",
    "print(p04, p14, p24, p34, p04+p14+p24+p34)\n",
    "\n",
    "# underdog\n",
    "x04 = P(0, 4, 1.0-p)\n",
    "x14 = P(1, 4, 1.0-p)\n",
    "x24 = P(2, 4, 1.0-p)\n",
    "x34 = P(3, 4, 1.0-p)\n",
    "print(x04, x14, x24, x34, x04+x14+x24+x34)\n",
    "\n",
    "# total probability\n",
    "print(p04+p14+p24+p34+x04+x14+x24+x34)\n",
    "\n",
    "# simulation of the games\n",
    "rng = np.random.default_rng()\n",
    "f, u = sample(p, rng, 200000)\n",
    "print(f)\n",
    "print(u)\n",
    "\n",
    "# compute expected number of games\n",
    "\n",
    "print(\"expected number of games\")\n",
    "E_ng = 4*p04 + 5*p14 + 6*p24 + 7*p34 + 4*x04 + 5*x14 + 6*x24 + 7*x34\n",
    "print(E_ng)\n",
    "# same result from Monte Carlo\n",
    "print(expected_nof_games(p, rng, 200000))"
   ]
  },
  {
   "cell_type": "code",
   "execution_count": null,
   "id": "45bb5624",
   "metadata": {},
   "outputs": [],
   "source": [
    "# https://stackoverflow.com/questions/63839778/binomial-distribution-simulation-python"
   ]
  },
  {
   "cell_type": "code",
   "execution_count": null,
   "id": "f3b5a6db",
   "metadata": {},
   "outputs": [],
   "source": [
    "# https://radzion.com/blog/probability/binomial\n",
    "def probability_to_occur(p, m, n):\n",
    "    c = factorial(n) / (factorial(m) * factorial(n - m))\n",
    "    return c * pow(p, m) * pow(1 - p, n - m)"
   ]
  },
  {
   "cell_type": "code",
   "execution_count": null,
   "id": "65e57cc3",
   "metadata": {},
   "outputs": [],
   "source": []
  },
  {
   "cell_type": "code",
   "execution_count": null,
   "id": "8ff27367",
   "metadata": {},
   "outputs": [],
   "source": [
    "binom."
   ]
  },
  {
   "cell_type": "code",
   "execution_count": 8,
   "id": "27476565",
   "metadata": {},
   "outputs": [],
   "source": [
    "from cmath import sqrt\n",
    "class binom:\n",
    "    \n",
    "    def  pmf(k,n,p):\n",
    "        \n",
    "        return math.comb(n,k)*(p**k)*((1-p)**(n-k))\n",
    "\n",
    "    def mean(n,p):\n",
    "        return (n*p)\n",
    "\n",
    "    def std(n,p):\n",
    "        \n",
    "        \"\"\"\n",
    "        Calculates the standard deviation\n",
    "        :return std:\n",
    "        \"\"\"\n",
    "        std = sqrt(n * p * (1-p))\n",
    "        return std"
   ]
  },
  {
   "cell_type": "code",
   "execution_count": 9,
   "id": "e589d779",
   "metadata": {},
   "outputs": [
    {
     "data": {
      "text/plain": [
       "0.6000000000000001"
      ]
     },
     "execution_count": 9,
     "metadata": {},
     "output_type": "execute_result"
    }
   ],
   "source": [
    "binom.mean(0.2,3)"
   ]
  },
  {
   "cell_type": "code",
   "execution_count": 10,
   "id": "3bbac367",
   "metadata": {},
   "outputs": [
    {
     "data": {
      "text/plain": [
       "3.4641016151377544j"
      ]
     },
     "execution_count": 10,
     "metadata": {},
     "output_type": "execute_result"
    }
   ],
   "source": [
    "binom.std(2,3)"
   ]
  },
  {
   "cell_type": "code",
   "execution_count": 14,
   "id": "497391d6",
   "metadata": {},
   "outputs": [
    {
     "data": {
      "text/plain": [
       "-0.0"
      ]
     },
     "execution_count": 14,
     "metadata": {},
     "output_type": "execute_result"
    }
   ],
   "source": [
    "binom.pmf(112,13,40)"
   ]
  },
  {
   "cell_type": "code",
   "execution_count": null,
   "id": "0be769b8",
   "metadata": {},
   "outputs": [],
   "source": []
  }
 ],
 "metadata": {
  "kernelspec": {
   "display_name": "Python 3 (ipykernel)",
   "language": "python",
   "name": "python3"
  },
  "language_info": {
   "codemirror_mode": {
    "name": "ipython",
    "version": 3
   },
   "file_extension": ".py",
   "mimetype": "text/x-python",
   "name": "python",
   "nbconvert_exporter": "python",
   "pygments_lexer": "ipython3",
   "version": "3.9.12"
  }
 },
 "nbformat": 4,
 "nbformat_minor": 5
}
