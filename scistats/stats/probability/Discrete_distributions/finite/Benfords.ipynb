{
 "cells": [
  {
   "cell_type": "code",
   "execution_count": null,
   "id": "3c2f9543",
   "metadata": {},
   "outputs": [],
   "source": [
    "\"\"\"\n",
    "Benford's law\n",
    "https://en.wikipedia.org/wiki/Benford%27s_law\n",
    "\"\"\""
   ]
  },
  {
   "cell_type": "code",
   "execution_count": 1,
   "id": "9677dce3",
   "metadata": {},
   "outputs": [],
   "source": [
    "# https://stackoverflow.com/questions/16248104/benfords-law-program"
   ]
  },
  {
   "cell_type": "code",
   "execution_count": null,
   "id": "bfc464fe",
   "metadata": {},
   "outputs": [],
   "source": []
  },
  {
   "cell_type": "code",
   "execution_count": null,
   "id": "4f2e2a27",
   "metadata": {},
   "outputs": [],
   "source": []
  }
 ],
 "metadata": {
  "kernelspec": {
   "display_name": "Python 3 (ipykernel)",
   "language": "python",
   "name": "python3"
  },
  "language_info": {
   "codemirror_mode": {
    "name": "ipython",
    "version": 3
   },
   "file_extension": ".py",
   "mimetype": "text/x-python",
   "name": "python",
   "nbconvert_exporter": "python",
   "pygments_lexer": "ipython3",
   "version": "3.9.12"
  }
 },
 "nbformat": 4,
 "nbformat_minor": 5
}
