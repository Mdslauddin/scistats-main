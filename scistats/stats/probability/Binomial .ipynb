{
 "cells": [
  {
   "cell_type": "markdown",
   "id": "b5271a82",
   "metadata": {},
   "source": [
    "# Binomial distributions\n"
   ]
  },
  {
   "cell_type": "code",
   "execution_count": null,
   "id": "029986f6",
   "metadata": {},
   "outputs": [],
   "source": []
  },
  {
   "cell_type": "code",
   "execution_count": null,
   "id": "88535735",
   "metadata": {},
   "outputs": [],
   "source": []
  },
  {
   "cell_type": "code",
   "execution_count": null,
   "id": "6211cbf2",
   "metadata": {},
   "outputs": [],
   "source": []
  },
  {
   "cell_type": "code",
   "execution_count": null,
   "id": "8ff6ae66",
   "metadata": {},
   "outputs": [],
   "source": [
    "def calculate_mean(self):\n",
    "    \n",
    "    \n",
    "    \"\"\"Function to calculate the mean from p and n\n",
    "        \n",
    "        Args: \n",
    "            None\n",
    "        \n",
    "        Returns: \n",
    "            float: mean of the data set\n",
    "    \n",
    "    \"\"\"\n",
    "        \n",
    "    self.mean = self.p * self.n\n",
    "                \n",
    "    return self.mean"
   ]
  },
  {
   "cell_type": "code",
   "execution_count": null,
   "id": "cf4d045a",
   "metadata": {},
   "outputs": [],
   "source": [
    "z"
   ]
  },
  {
   "cell_type": "code",
   "execution_count": null,
   "id": "c05cb990",
   "metadata": {},
   "outputs": [],
   "source": [
    "def calculate_stdev(self):\n",
    "\n",
    "        \"\"\"Function to calculate the standard deviation from p and n.\n",
    "        \n",
    "        Args: \n",
    "            None\n",
    "        \n",
    "        Returns: \n",
    "            float: standard deviation of the data set\n",
    "    \n",
    "        \"\"\"\n",
    "        \n",
    "        self.stdev = math.sqrt(self.n * self.p * (1 - self.p))\n",
    "        \n",
    "        return self.stdev\n",
    "        "
   ]
  },
  {
   "cell_type": "code",
   "execution_count": null,
   "id": "33cf67a4",
   "metadata": {},
   "outputs": [],
   "source": [
    "def replace_stats_with_data(self):\n",
    "    \n",
    "        \"\"\"Function to calculate p and n from the data set\n",
    "        \n",
    "        Args: \n",
    "            None\n",
    "        \n",
    "        Returns: \n",
    "            float: the p value\n",
    "            float: the n value\n",
    "    \n",
    "        \"\"\"\n",
    "    \n",
    "        self.n = len(self.data)\n",
    "        self.p = 1.0 * sum(self.data) / len(self.data)\n",
    "        self.mean = self.calculate_mean()\n",
    "        self.stdev = self.calculate_stdev()     "
   ]
  },
  {
   "cell_type": "code",
   "execution_count": null,
   "id": "55debe25",
   "metadata": {},
   "outputs": [],
   "source": [
    "def pdf(self, k):\n",
    "        \"\"\"Probability density function calculator for the gaussian distribution.\n",
    "        \n",
    "        Args:\n",
    "            x (float): point for calculating the probability density function\n",
    "            \n",
    "        \n",
    "        Returns:\n",
    "            float: probability density function output\n",
    "        \"\"\"\n",
    "        \n",
    "        a = math.factorial(self.n) / (math.factorial(k) * (math.factorial(self.n - k)))\n",
    "        b = (self.p ** k) * (1 - self.p) ** (self.n - k)\n",
    "        \n",
    "        return a * b"
   ]
  },
  {
   "cell_type": "code",
   "execution_count": null,
   "id": "7750d087",
   "metadata": {},
   "outputs": [],
   "source": [
    "def plot_bar(self):\n",
    "        \"\"\"Function to output a histogram of the instance variable data using \n",
    "        matplotlib pyplot library.\n",
    "        \n",
    "        Args:\n",
    "            None\n",
    "            \n",
    "        Returns:\n",
    "            None\n",
    "        \"\"\"\n",
    "                \n",
    "        plt.bar(x = ['0', '1'], height = [(1 - self.p) * self.n, self.p * self.n])\n",
    "        plt.title('Bar Chart of Data')\n",
    "        plt.xlabel('outcome')\n",
    "        plt.ylabel('count')"
   ]
  },
  {
   "cell_type": "code",
   "execution_count": null,
   "id": "709d6969",
   "metadata": {},
   "outputs": [],
   "source": [
    "def pdf(self, k):\n",
    "        \"\"\"Probability density function calculator for the gaussian distribution.\n",
    "        \n",
    "        Args:\n",
    "            x (float): point for calculating the probability density function\n",
    "            \n",
    "        \n",
    "        Returns:\n",
    "            float: probability density function output\n",
    "        \"\"\"\n",
    "        \n",
    "        a = math.factorial(self.n) / (math.factorial(k) * (math.factorial(self.n - k)))\n",
    "        b = (self.p ** k) * (1 - self.p) ** (self.n - k)\n",
    "        \n",
    "        return a * b"
   ]
  },
  {
   "cell_type": "code",
   "execution_count": null,
   "id": "894b9e41",
   "metadata": {},
   "outputs": [],
   "source": [
    "def plot_bar_pdf(self):\n",
    "\n",
    "        \"\"\"Function to plot the pdf of the binomial distribution\n",
    "        \n",
    "        Args:\n",
    "            None\n",
    "        \n",
    "        Returns:\n",
    "            list: x values for the pdf plot\n",
    "            list: y values for the pdf plot\n",
    "            \n",
    "        \"\"\"\n",
    "        \n",
    "        x = []\n",
    "        y = []\n",
    "        \n",
    "        # calculate the x values to visualize\n",
    "        for i in range(self.n + 1):\n",
    "            x.append(i)\n",
    "            y.append(self.pdf(i))\n",
    "\n",
    "        # make the plots\n",
    "        plt.bar(x, y)\n",
    "        plt.title('Distribution of Outcomes')\n",
    "        plt.ylabel('Probability')\n",
    "        plt.xlabel('Outcome')\n",
    "\n",
    "        plt.show()\n",
    "\n",
    "        return x, y"
   ]
  },
  {
   "cell_type": "code",
   "execution_count": null,
   "id": "5315bf94",
   "metadata": {},
   "outputs": [],
   "source": []
  }
 ],
 "metadata": {
  "kernelspec": {
   "display_name": "Python 3 (ipykernel)",
   "language": "python",
   "name": "python3"
  },
  "language_info": {
   "codemirror_mode": {
    "name": "ipython",
    "version": 3
   },
   "file_extension": ".py",
   "mimetype": "text/x-python",
   "name": "python",
   "nbconvert_exporter": "python",
   "pygments_lexer": "ipython3",
   "version": "3.9.12"
  }
 },
 "nbformat": 4,
 "nbformat_minor": 5
}
