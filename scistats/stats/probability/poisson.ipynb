{
 "cells": [
  {
   "cell_type": "markdown",
   "id": "75ec85a1",
   "metadata": {},
   "source": [
    "# poisson distributions"
   ]
  },
  {
   "cell_type": "code",
   "execution_count": 1,
   "id": "ebcd905e",
   "metadata": {},
   "outputs": [],
   "source": [
    "import numpy as np "
   ]
  },
  {
   "cell_type": "code",
   "execution_count": null,
   "id": "e1465bbf",
   "metadata": {},
   "outputs": [],
   "source": []
  },
  {
   "cell_type": "code",
   "execution_count": 2,
   "id": "c5463697",
   "metadata": {},
   "outputs": [],
   "source": [
    "import math\n",
    "\n",
    "\n",
    "class Poisson:\n",
    "\n",
    "    def __init__(self, mean, expected_outcome):\n",
    "        self.mean = mean\n",
    "        self.expected_outcome = expected_outcome\n",
    "\n",
    "    def pmf(self):\n",
    "        mass_function = (math.e ** self.mean * self.mean ** self.expected_outcome) / \\\n",
    "                        math.factorial(self.expected_outcome)\n",
    "        return mass_function\n"
   ]
  },
  {
   "cell_type": "code",
   "execution_count": 3,
   "id": "b6a3ecfa",
   "metadata": {},
   "outputs": [
    {
     "ename": "AttributeError",
     "evalue": "'int' object has no attribute 'mean'",
     "output_type": "error",
     "traceback": [
      "\u001b[1;31m---------------------------------------------------------------------------\u001b[0m",
      "\u001b[1;31mAttributeError\u001b[0m                            Traceback (most recent call last)",
      "Input \u001b[1;32mIn [3]\u001b[0m, in \u001b[0;36m<cell line: 1>\u001b[1;34m()\u001b[0m\n\u001b[1;32m----> 1\u001b[0m \u001b[43mPoisson\u001b[49m\u001b[38;5;241;43m.\u001b[39;49m\u001b[43mpmf\u001b[49m\u001b[43m(\u001b[49m\u001b[38;5;241;43m5\u001b[39;49m\u001b[43m)\u001b[49m\n",
      "Input \u001b[1;32mIn [2]\u001b[0m, in \u001b[0;36mPoisson.pmf\u001b[1;34m(self)\u001b[0m\n\u001b[0;32m     10\u001b[0m \u001b[38;5;28;01mdef\u001b[39;00m \u001b[38;5;21mpmf\u001b[39m(\u001b[38;5;28mself\u001b[39m):\n\u001b[1;32m---> 11\u001b[0m     mass_function \u001b[38;5;241m=\u001b[39m (math\u001b[38;5;241m.\u001b[39me \u001b[38;5;241m*\u001b[39m\u001b[38;5;241m*\u001b[39m \u001b[38;5;28;43mself\u001b[39;49m\u001b[38;5;241;43m.\u001b[39;49m\u001b[43mmean\u001b[49m \u001b[38;5;241m*\u001b[39m \u001b[38;5;28mself\u001b[39m\u001b[38;5;241m.\u001b[39mmean \u001b[38;5;241m*\u001b[39m\u001b[38;5;241m*\u001b[39m \u001b[38;5;28mself\u001b[39m\u001b[38;5;241m.\u001b[39mexpected_outcome) \u001b[38;5;241m/\u001b[39m \\\n\u001b[0;32m     12\u001b[0m                     math\u001b[38;5;241m.\u001b[39mfactorial(\u001b[38;5;28mself\u001b[39m\u001b[38;5;241m.\u001b[39mexpected_outcome)\n\u001b[0;32m     13\u001b[0m     \u001b[38;5;28;01mreturn\u001b[39;00m mass_function\n",
      "\u001b[1;31mAttributeError\u001b[0m: 'int' object has no attribute 'mean'"
     ]
    }
   ],
   "source": [
    "Poisson.pmf(5)"
   ]
  },
  {
   "cell_type": "code",
   "execution_count": 11,
   "id": "5348508f",
   "metadata": {},
   "outputs": [],
   "source": [
    "import math\n",
    "\n",
    "\n",
    "class Poisson:\n",
    "\n",
    "    def pmf(mean, expected_outcome):\n",
    "        mass_function = (math.e ** mean * mean ** expected_outcome) /  math.factorial(expected_outcome)\n",
    "        return mass_function"
   ]
  },
  {
   "cell_type": "code",
   "execution_count": 12,
   "id": "ee343fd5",
   "metadata": {},
   "outputs": [
    {
     "data": {
      "text/plain": [
       "3220.7716819135544"
      ]
     },
     "execution_count": 12,
     "metadata": {},
     "output_type": "execute_result"
    }
   ],
   "source": [
    "Poisson.pmf(5,6)"
   ]
  },
  {
   "cell_type": "code",
   "execution_count": 4,
   "id": "86fea7b8",
   "metadata": {},
   "outputs": [
    {
     "data": {
      "image/png": "[encoded data removed]",
      "text/plain": [
       "<Figure size 432x288 with 1 Axes>"
      ]
     },
     "metadata": {
      "needs_background": "light"
     },
     "output_type": "display_data"
    }
   ],
   "source": [
    "from scipy.stats import poisson\n",
    "import matplotlib.pyplot as plt\n",
    "import numpy as np\n",
    "\n",
    "#creating an array of values between\n",
    "#0 to 20 with a difference of 1\n",
    "x = np.arange(0, 20, 1)\n",
    "   \n",
    "y = poisson.pmf(x, 10, 0)\n",
    "   \n",
    "plt.plot(x, y, 'bo') \n",
    "plt.show()"
   ]
  },
  {
   "cell_type": "code",
   "execution_count": 6,
   "id": "328bd4a5",
   "metadata": {},
   "outputs": [
    {
     "data": {
      "text/plain": [
       "0.16062314104797995"
      ]
     },
     "execution_count": 6,
     "metadata": {},
     "output_type": "execute_result"
    }
   ],
   "source": [
    "poisson.pmf(5,6)"
   ]
  },
  {
   "cell_type": "code",
   "execution_count": null,
   "id": "a2dc3bc1",
   "metadata": {},
   "outputs": [],
   "source": []
  }
 ],
 "metadata": {
  "kernelspec": {
   "display_name": "Python 3 (ipykernel)",
   "language": "python",
   "name": "python3"
  },
  "language_info": {
   "codemirror_mode": {
    "name": "ipython",
    "version": 3
   },
   "file_extension": ".py",
   "mimetype": "text/x-python",
   "name": "python",
   "nbconvert_exporter": "python",
   "pygments_lexer": "ipython3",
   "version": "3.9.12"
  }
 },
 "nbformat": 4,
 "nbformat_minor": 5
}
