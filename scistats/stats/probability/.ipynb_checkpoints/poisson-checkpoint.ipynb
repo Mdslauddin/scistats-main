{
 "cells": [
  {
   "cell_type": "markdown",
   "id": "75ec85a1",
   "metadata": {},
   "source": [
    "# poisson distributions"
   ]
  },
  {
   "cell_type": "code",
   "execution_count": 1,
   "id": "c5463697",
   "metadata": {},
   "outputs": [],
   "source": [
    "import math\n",
    "\n",
    "\n",
    "class Poisson:\n",
    "\n",
    "    def __init__(self, mean, expected_outcome):\n",
    "        self.mean = mean\n",
    "        self.expected_outcome = expected_outcome\n",
    "\n",
    "    def pmf(self):\n",
    "        mass_function = (math.e ** self.mean * self.mean ** self.expected_outcome) / \\\n",
    "                        math.factorial(self.expected_outcome)\n",
    "        return mass_function\n"
   ]
  },
  {
   "cell_type": "code",
   "execution_count": null,
   "id": "5348508f",
   "metadata": {},
   "outputs": [],
   "source": []
  }
 ],
 "metadata": {
  "kernelspec": {
   "display_name": "Python 3 (ipykernel)",
   "language": "python",
   "name": "python3"
  },
  "language_info": {
   "codemirror_mode": {
    "name": "ipython",
    "version": 3
   },
   "file_extension": ".py",
   "mimetype": "text/x-python",
   "name": "python",
   "nbconvert_exporter": "python",
   "pygments_lexer": "ipython3",
   "version": "3.9.12"
  }
 },
 "nbformat": 4,
 "nbformat_minor": 5
}
