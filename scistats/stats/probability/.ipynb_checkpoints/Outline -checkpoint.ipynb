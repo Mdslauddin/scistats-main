{
 "cells": [
  {
   "cell_type": "markdown",
   "id": "ebc588b6",
   "metadata": {},
   "source": [
    "\n",
    "\n",
    "\n",
    "# [List of probability distributions](https://en.wikipedia.org/wiki/List_of_probability_distributions)"
   ]
  },
  {
   "cell_type": "code",
   "execution_count": null,
   "id": "7946bcd5",
   "metadata": {},
   "outputs": [],
   "source": []
  }
 ],
 "metadata": {
  "kernelspec": {
   "display_name": "Python 3 (ipykernel)",
   "language": "python",
   "name": "python3"
  },
  "language_info": {
   "codemirror_mode": {
    "name": "ipython",
    "version": 3
   },
   "file_extension": ".py",
   "mimetype": "text/x-python",
   "name": "python",
   "nbconvert_exporter": "python",
   "pygments_lexer": "ipython3",
   "version": "3.9.12"
  }
 },
 "nbformat": 4,
 "nbformat_minor": 5
}
