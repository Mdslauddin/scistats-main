{
 "cells": [
  {
   "cell_type": "markdown",
   "id": "5bee9a7c",
   "metadata": {},
   "source": [
    "# Normal or Gaussian distribution "
   ]
  },
  {
   "cell_type": "code",
   "execution_count": null,
   "id": "a1100d99",
   "metadata": {},
   "outputs": [],
   "source": [
    "def gauss_distr(mu, sigmaSquare, x):\n",
    "    from math import sqrt, pi, e\n",
    "    return (1 / sqrt(2 * pi * sigmaSquare)) * e ** ((-0.5) * (x - mu) ** 2 / sigmaSquare)"
   ]
  },
  {
   "cell_type": "code",
   "execution_count": 1,
   "id": "b2dd5c35",
   "metadata": {},
   "outputs": [],
   "source": [
    "from math import sqrt, pi, e\n",
    "import matplotlib.pyplot as plt\n",
    "import numpy as np\n",
    "\n",
    "\n",
    "class Gaussian:\n",
    "    \"\"\"\n",
    "    This class will be used to calculate different parameter associated with the gaussian distribution\n",
    "    :param data: The continuous distribution (list or n.array) .\n",
    "\n",
    "\n",
    "    salary (float)\n",
    "    \"\"\"\n",
    "\n",
    "    def __init__(self, data: float):\n",
    "        \"\"\"\n",
    "        This function initializes the variables hence making them available for every function under this class.\n",
    "        The data will be converted into a numpy array to improve speed and calculation efficiency.\n",
    "        The standard deviation and the mean are also calculated and stored.\n",
    "        \"\"\"\n",
    "        self.data = np.array(data)\n",
    "        self.mean = self.data.mean()\n",
    "        self.std = self.data.std()\n",
    "\n",
    "    def __repr__(self):\n",
    "        \"\"\"\n",
    "        This function displays the mean and the standard deviation of any given distribution\n",
    "        :return None:\n",
    "        \"\"\"\n",
    "        print(f\"The data distribution has a mean of {self.mean} and a standard deviation of {self.std}\")\n",
    "\n",
    "    def get_std(self):\n",
    "        \"\"\"\n",
    "        This function returns the standard deviation of the distribution\n",
    "        :return std: The standard deviation of the distribution (np.array)\n",
    "        \"\"\"\n",
    "        std = self.std\n",
    "        return std\n",
    "\n",
    "    def get_mean(self):\n",
    "        \"\"\"\n",
    "        This function returns the mean of the distribution\n",
    "        :return mean: The mean of the distribution (np.array)\n",
    "        \"\"\"\n",
    "        mean = self.mean\n",
    "        return mean\n",
    "\n",
    "    def plot_histogram(self):\n",
    "        \"\"\"\n",
    "        :return: A histogram plot of the gaussian distribution:\n",
    "        \"\"\"\n",
    "        plt.hist(self.data)\n",
    "        plt.title(\"An histogram plot of the data\", font_size=19)\n",
    "        plt.xlabel(\"The Values\", font_size=16)\n",
    "        plt.ylabel(\"Counts\", font_size=16)\n",
    "        plt.show()\n",
    "\n",
    "    def calculate_pdf(self, obs):\n",
    "        \"\"\"\n",
    "        This function calculates the probability distribution function of an observation\n",
    "        :param obs: The number of which its probability distribution function is required (int)\n",
    "        :return pdf: The calculated pdf of the obs (float)\n",
    "        \"\"\"\n",
    "        pdf = round((1 / (self.std * sqrt(2 * pi))) *\n",
    "                    (e ** -0.5 * ((obs - self.mean) / self.std) ** 2), 2)\n",
    "        return pdf\n"
   ]
  },
  {
   "cell_type": "code",
   "execution_count": null,
   "id": "c8427f83",
   "metadata": {},
   "outputs": [],
   "source": []
  }
 ],
 "metadata": {
  "kernelspec": {
   "display_name": "Python 3 (ipykernel)",
   "language": "python",
   "name": "python3"
  },
  "language_info": {
   "codemirror_mode": {
    "name": "ipython",
    "version": 3
   },
   "file_extension": ".py",
   "mimetype": "text/x-python",
   "name": "python",
   "nbconvert_exporter": "python",
   "pygments_lexer": "ipython3",
   "version": "3.9.12"
  }
 },
 "nbformat": 4,
 "nbformat_minor": 5
}
