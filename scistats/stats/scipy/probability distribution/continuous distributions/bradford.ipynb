{
 "cells": [
  {
   "cell_type": "markdown",
   "id": "fd9e4554",
   "metadata": {},
   "source": [
    "### A Bradford continuous random variable."
   ]
  },
  {
   "cell_type": "code",
   "execution_count": null,
   "id": "fdc639c4",
   "metadata": {},
   "outputs": [],
   "source": []
  }
 ],
 "metadata": {
  "kernelspec": {
   "display_name": "Python 3 (ipykernel)",
   "language": "python",
   "name": "python3"
  },
  "language_info": {
   "codemirror_mode": {
    "name": "ipython",
    "version": 3
   },
   "file_extension": ".py",
   "mimetype": "text/x-python",
   "name": "python",
   "nbconvert_exporter": "python",
   "pygments_lexer": "ipython3",
   "version": "3.9.12"
  }
 },
 "nbformat": 4,
 "nbformat_minor": 5
}
