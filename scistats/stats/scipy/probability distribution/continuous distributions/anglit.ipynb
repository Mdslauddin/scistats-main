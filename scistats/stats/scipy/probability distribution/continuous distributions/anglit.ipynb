{
 "cells": [
  {
   "cell_type": "code",
   "execution_count": 1,
   "id": "7623d438",
   "metadata": {},
   "outputs": [],
   "source": [
    "import scipy.stats as st"
   ]
  },
  {
   "cell_type": "code",
   "execution_count": 19,
   "id": "a3a6eef4",
   "metadata": {},
   "outputs": [
    {
     "data": {
      "text/plain": [
       "array(0.30685282)"
      ]
     },
     "execution_count": 19,
     "metadata": {},
     "output_type": "execute_result"
    }
   ],
   "source": [
    "st.anglit.entropy(223)"
   ]
  },
  {
   "cell_type": "code",
   "execution_count": 10,
   "id": "bdc24c13",
   "metadata": {},
   "outputs": [
    {
     "ename": "TypeError",
     "evalue": "'NoneType' object is not callable",
     "output_type": "error",
     "traceback": [
      "\u001b[1;31m---------------------------------------------------------------------------\u001b[0m",
      "\u001b[1;31mTypeError\u001b[0m                                 Traceback (most recent call last)",
      "Input \u001b[1;32mIn [10]\u001b[0m, in \u001b[0;36m<cell line: 1>\u001b[1;34m()\u001b[0m\n\u001b[1;32m----> 1\u001b[0m \u001b[43mst\u001b[49m\u001b[38;5;241;43m.\u001b[39;49m\u001b[43manglit\u001b[49m\u001b[38;5;241;43m.\u001b[39;49m\u001b[43mshapes\u001b[49m\u001b[43m(\u001b[49m\u001b[38;5;241;43m3\u001b[39;49m\u001b[43m,\u001b[49m\u001b[38;5;241;43m4\u001b[39;49m\u001b[43m)\u001b[49m\n",
      "\u001b[1;31mTypeError\u001b[0m: 'NoneType' object is not callable"
     ]
    }
   ],
   "source": [
    "st.anglit.entropy"
   ]
  },
  {
   "cell_type": "code",
   "execution_count": 20,
   "id": "f94fa102",
   "metadata": {},
   "outputs": [],
   "source": [
    "from math import log\n",
    "def entropy(x):\n",
    "    return 1-log(2)"
   ]
  },
  {
   "cell_type": "code",
   "execution_count": 21,
   "id": "6c40b379",
   "metadata": {},
   "outputs": [
    {
     "data": {
      "text/plain": [
       "0.3068528194400547"
      ]
     },
     "execution_count": 21,
     "metadata": {},
     "output_type": "execute_result"
    }
   ],
   "source": [
    "entropy(22)"
   ]
  },
  {
   "cell_type": "code",
   "execution_count": 22,
   "id": "044e832f",
   "metadata": {},
   "outputs": [],
   "source": [
    "class rv_continuous:\n",
    "    pass"
   ]
  },
  {
   "cell_type": "code",
   "execution_count": 23,
   "id": "70a4d651",
   "metadata": {},
   "outputs": [],
   "source": [
    "class arcsine_gen(rv_continuous):\n",
    "    pass"
   ]
  },
  {
   "cell_type": "code",
   "execution_count": null,
   "id": "06101df6",
   "metadata": {},
   "outputs": [],
   "source": []
  }
 ],
 "metadata": {
  "kernelspec": {
   "display_name": "Python 3 (ipykernel)",
   "language": "python",
   "name": "python3"
  },
  "language_info": {
   "codemirror_mode": {
    "name": "ipython",
    "version": 3
   },
   "file_extension": ".py",
   "mimetype": "text/x-python",
   "name": "python",
   "nbconvert_exporter": "python",
   "pygments_lexer": "ipython3",
   "version": "3.9.12"
  }
 },
 "nbformat": 4,
 "nbformat_minor": 5
}
