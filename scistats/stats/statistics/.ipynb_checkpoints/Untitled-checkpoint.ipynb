{
 "cells": [
  {
   "cell_type": "markdown",
   "id": "2139c9cb",
   "metadata": {},
   "source": [
    "# [Lists of statistics topics](https://en.wikipedia.org/wiki/Lists_of_statistics_topics)\n",
    "\n",
    "  "
   ]
  },
  {
   "cell_type": "markdown",
   "id": "eb886f0c",
   "metadata": {},
   "source": [
    "## Statistics\n",
    " \n",
    "  - [Outline of statistics](https://en.wikipedia.org/wiki/Outline_of_statistics)\n",
    "  - [Outline of regression analysis](https://en.wikipedia.org/wiki/Outline_of_regression_analysis)\n",
    "  - [Index of statistics articles](https://en.wikipedia.org/wiki/List_of_statistics_articles)\n",
    "  - [List of scientific method topics](https://en.wikipedia.org/wiki/Outline_of_scientific_method)\n",
    "  - List of analyses of categorical data\n",
    "  - List of fields of application of statistics\n",
    "  - List of graphical methods\n",
    "  - List of statistical software\n",
    "     - Comparison of statistical packages\n",
    "     - List of graphing software\n",
    "     - Comparison of Gaussian process software\n",
    "\n",
    "  - List of stochastic processes topics\n",
    "  - List of matrices used in statistics\n",
    "  - Timeline of probability and statistics\n",
    "  - List of unsolved problems in statistics"
   ]
  },
  {
   "cell_type": "code",
   "execution_count": null,
   "id": "55e710cf",
   "metadata": {},
   "outputs": [],
   "source": []
  }
 ],
 "metadata": {
  "kernelspec": {
   "display_name": "Python 3 (ipykernel)",
   "language": "python",
   "name": "python3"
  },
  "language_info": {
   "codemirror_mode": {
    "name": "ipython",
    "version": 3
   },
   "file_extension": ".py",
   "mimetype": "text/x-python",
   "name": "python",
   "nbconvert_exporter": "python",
   "pygments_lexer": "ipython3",
   "version": "3.9.12"
  }
 },
 "nbformat": 4,
 "nbformat_minor": 5
}
