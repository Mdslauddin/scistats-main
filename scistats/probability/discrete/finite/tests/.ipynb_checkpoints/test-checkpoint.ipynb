{
 "cells": [
  {
   "cell_type": "code",
   "execution_count": 1,
   "id": "46707851",
   "metadata": {},
   "outputs": [],
   "source": [
    "import math\n",
    "\n",
    "def binomial_cdf(x, n, p):\n",
    "    cdf = 0\n",
    "    for i in range(0, x + 1):\n",
    "        cdf += math.comb(n, i) * (p ** i) * ((1 - p) ** (n - i))\n",
    "    return cdf\n"
   ]
  },
  {
   "cell_type": "code",
   "execution_count": 9,
   "id": "17cdcf2b",
   "metadata": {},
   "outputs": [
    {
     "data": {
      "text/plain": [
       "1.0"
      ]
     },
     "execution_count": 9,
     "metadata": {},
     "output_type": "execute_result"
    }
   ],
   "source": [
    "x = 2\n",
    "mu = 1;\n",
    "sigma = 5;\n",
    "binomial_cdf(x,mu,sigma)"
   ]
  },
  {
   "cell_type": "code",
   "execution_count": null,
   "id": "db47122a",
   "metadata": {},
   "outputs": [],
   "source": [
    "mu = 1;\n",
    "sigma = 5;\n",
    "y = cdf('Normal',x,mu,sigma)"
   ]
  }
 ],
 "metadata": {
  "kernelspec": {
   "display_name": "Python 3 (ipykernel)",
   "language": "python",
   "name": "python3"
  },
  "language_info": {
   "codemirror_mode": {
    "name": "ipython",
    "version": 3
   },
   "file_extension": ".py",
   "mimetype": "text/x-python",
   "name": "python",
   "nbconvert_exporter": "python",
   "pygments_lexer": "ipython3",
   "version": "3.9.12"
  }
 },
 "nbformat": 4,
 "nbformat_minor": 5
}
