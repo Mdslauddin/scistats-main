{
 "cells": [
  {
   "cell_type": "code",
   "execution_count": null,
   "id": "6093620b",
   "metadata": {},
   "outputs": [],
   "source": [
    "import numpy as np \n",
    "import scipy.special as sc \n"
   ]
  },
  {
   "cell_type": "code",
   "execution_count": null,
   "id": "962a1240",
   "metadata": {},
   "outputs": [],
   "source": [
    "def _shape_info(self):\n",
    "        return []\n",
    "\n",
    "def _rvs(self, size=None, random_state=None):\n",
    "        return random_state.standard_exponential(size)\n",
    "\n",
    "def _pdf(self, x):\n",
    "        # expon.pdf(x) = exp(-x)\n",
    "        return np.exp(-x)\n",
    "\n",
    "def _logpdf(self, x):\n",
    "        return -x    \n",
    "\n",
    "def _cdf(self, x):\n",
    "        return -sc.expm1(-x)\n",
    "\n",
    "def _ppf(self, q):\n",
    "        return -sc.log1p(-q)\n",
    "\n",
    "def _sf(self, x):\n",
    "        return np.exp(-x)\n",
    "\n",
    "def _logsf(self, x):\n",
    "        return -x\n",
    "\n",
    "def _isf(self, q):\n",
    "    return -np.log(q)\n",
    "\n",
    "def _stats(self):\n",
    "    return 1.0, 1.0, 2.0, 6.0\n",
    "\n",
    "def _entropy(self):\n",
    "    return 1.0"
   ]
  },
  {
   "cell_type": "code",
   "execution_count": 41,
   "id": "e5ccd00c",
   "metadata": {},
   "outputs": [],
   "source": [
    "class rv_generic:\n",
    "    pass"
   ]
  },
  {
   "cell_type": "code",
   "execution_count": 42,
   "id": "f42840ff",
   "metadata": {},
   "outputs": [],
   "source": [
    "class rv_continuous(rv_generic):\n",
    "    \"\"\"\n",
    "    \n",
    "    Methods\n",
    "    -------\n",
    "    rvs\n",
    "    pdf\n",
    "    logpdf\n",
    "    cdf\n",
    "    logcdf\n",
    "    sf\n",
    "    logsf\n",
    "    ppf\n",
    "    isf\n",
    "    moment\n",
    "    stats\n",
    "    entropy\n",
    "    expect\n",
    "    median\n",
    "    mean\n",
    "    std\n",
    "    var\n",
    "    interval\n",
    "    __call__\n",
    "    fit\n",
    "    fit_loc_scale\n",
    "    nnlf\n",
    "    support\n",
    "    \"\"\"\n",
    "    "
   ]
  },
  {
   "cell_type": "code",
   "execution_count": null,
   "id": "6f6646cf",
   "metadata": {},
   "outputs": [],
   "source": []
  },
  {
   "cell_type": "code",
   "execution_count": null,
   "id": "6f05c204",
   "metadata": {},
   "outputs": [],
   "source": []
  },
  {
   "cell_type": "code",
   "execution_count": null,
   "id": "72c052cb",
   "metadata": {},
   "outputs": [],
   "source": []
  },
  {
   "cell_type": "code",
   "execution_count": null,
   "id": "25fd8ded",
   "metadata": {},
   "outputs": [],
   "source": []
  },
  {
   "cell_type": "code",
   "execution_count": null,
   "id": "509be472",
   "metadata": {},
   "outputs": [],
   "source": []
  },
  {
   "cell_type": "code",
   "execution_count": null,
   "id": "0521aee8",
   "metadata": {},
   "outputs": [],
   "source": []
  },
  {
   "cell_type": "code",
   "execution_count": null,
   "id": "91ad30b9",
   "metadata": {},
   "outputs": [],
   "source": []
  },
  {
   "cell_type": "code",
   "execution_count": null,
   "id": "e20a7b44",
   "metadata": {},
   "outputs": [],
   "source": []
  },
  {
   "cell_type": "code",
   "execution_count": null,
   "id": "b68ec4b1",
   "metadata": {},
   "outputs": [],
   "source": []
  },
  {
   "cell_type": "code",
   "execution_count": null,
   "id": "e4b24422",
   "metadata": {},
   "outputs": [],
   "source": []
  },
  {
   "cell_type": "code",
   "execution_count": null,
   "id": "58880a49",
   "metadata": {},
   "outputs": [],
   "source": [
    "class alpha_gen(rv_continuous):\n",
    "    def _shape_info(self):\n",
    "        return [_ShapeInfo(\"a\", False, (0, np.inf), (False, False))]\n",
    "\n",
    "    def _pdf(self, x, a):\n",
    "        # alpha.pdf(x, a) = 1/(x**2*Phi(a)*sqrt(2*pi)) * exp(-1/2 * (a-1/x)**2)\n",
    "        return 1.0/(x**2)/_norm_cdf(a)*_norm_pdf(a-1.0/x)\n",
    "\n",
    "    def _logpdf(self, x, a):\n",
    "        return -2*np.log(x) + _norm_logpdf(a-1.0/x) - np.log(_norm_cdf(a))\n",
    "\n",
    "    def _cdf(self, x, a):\n",
    "        return _norm_cdf(a-1.0/x) / _norm_cdf(a)\n",
    "\n",
    "    def _ppf(self, q, a):\n",
    "        return 1.0/np.asarray(a-sc.ndtri(q*_norm_cdf(a)))\n",
    "\n",
    "    def _stats(self, a):\n",
    "        return [np.inf]*2 + [np.nan]*2"
   ]
  },
  {
   "cell_type": "code",
   "execution_count": 1,
   "id": "5a6a05e6",
   "metadata": {},
   "outputs": [],
   "source": [
    "from scipy.stats import rv_continuous"
   ]
  },
  {
   "cell_type": "code",
   "execution_count": 2,
   "id": "ff4daea8",
   "metadata": {},
   "outputs": [
    {
     "ename": "SyntaxError",
     "evalue": "invalid syntax (1872960670.py, line 1)",
     "output_type": "error",
     "traceback": [
      "\u001b[1;36m  Input \u001b[1;32mIn [2]\u001b[1;36m\u001b[0m\n\u001b[1;33m    rv_continuous.\u001b[0m\n\u001b[1;37m                  ^\u001b[0m\n\u001b[1;31mSyntaxError\u001b[0m\u001b[1;31m:\u001b[0m invalid syntax\n"
     ]
    }
   ],
   "source": [
    "rv_continuous.r"
   ]
  },
  {
   "cell_type": "code",
   "execution_count": 3,
   "id": "616a03d7",
   "metadata": {},
   "outputs": [],
   "source": [
    "import scipy.stats as st"
   ]
  },
  {
   "cell_type": "code",
   "execution_count": 11,
   "id": "d8ff0e87",
   "metadata": {},
   "outputs": [
    {
     "data": {
      "text/plain": [
       "0.0"
      ]
     },
     "execution_count": 11,
     "metadata": {},
     "output_type": "execute_result"
    }
   ],
   "source": [
    "st.alpha.a\n"
   ]
  },
  {
   "cell_type": "code",
   "execution_count": 12,
   "id": "be674f77",
   "metadata": {},
   "outputs": [
    {
     "data": {
      "text/plain": [
       "inf"
      ]
     },
     "execution_count": 12,
     "metadata": {},
     "output_type": "execute_result"
    }
   ],
   "source": [
    "st.alpha.b"
   ]
  },
  {
   "cell_type": "code",
   "execution_count": 13,
   "id": "fe9d0f82",
   "metadata": {},
   "outputs": [
    {
     "data": {
      "text/plain": [
       "nan"
      ]
     },
     "execution_count": 13,
     "metadata": {},
     "output_type": "execute_result"
    }
   ],
   "source": [
    "st.alpha.badvalue"
   ]
  },
  {
   "cell_type": "code",
   "execution_count": 21,
   "id": "3b40ccab",
   "metadata": {},
   "outputs": [
    {
     "data": {
      "text/plain": [
       "0.9987931385613216"
      ]
     },
     "execution_count": 21,
     "metadata": {},
     "output_type": "execute_result"
    }
   ],
   "source": [
    "st.alpha.cdf(5,3)"
   ]
  },
  {
   "cell_type": "code",
   "execution_count": 28,
   "id": "c5d363c8",
   "metadata": {},
   "outputs": [
    {
     "data": {
      "text/plain": [
       "array(-0.65155913)"
      ]
     },
     "execution_count": 28,
     "metadata": {},
     "output_type": "execute_result"
    }
   ],
   "source": [
    "st.alpha.entropy(3)"
   ]
  },
  {
   "cell_type": "code",
   "execution_count": null,
   "id": "bf7cc6da",
   "metadata": {},
   "outputs": [],
   "source": [
    "import scipy.special as sc\n",
    "def _norm_cdf(x):\n",
    "    return sc.ndtr(x)"
   ]
  },
  {
   "cell_type": "code",
   "execution_count": 46,
   "id": "159440f2",
   "metadata": {},
   "outputs": [],
   "source": [
    "__all__ =['alpha']\n",
    "from math import inf,nan\n",
    "import scipy.special as sc\n",
    "class alpha_gen(rv_continuous):\n",
    "    a = 0.0\n",
    "    b = inf\n",
    "    badvalue=nan\n",
    "    def cdf( x, a):\n",
    "        return sc.ndtr(a-1.0/x) /sc.ndtr(a)\n",
    "      \n",
    "        \n",
    "alpha = alpha_gen()   \n",
    "    "
   ]
  },
  {
   "cell_type": "code",
   "execution_count": 47,
   "id": "d29b1c3a",
   "metadata": {},
   "outputs": [
    {
     "data": {
      "text/plain": [
       "0.0"
      ]
     },
     "execution_count": 47,
     "metadata": {},
     "output_type": "execute_result"
    }
   ],
   "source": [
    "alpha_gen.a"
   ]
  },
  {
   "cell_type": "code",
   "execution_count": null,
   "id": "4635ca1b",
   "metadata": {},
   "outputs": [],
   "source": [
    "alpha()"
   ]
  },
  {
   "cell_type": "code",
   "execution_count": 30,
   "id": "c9e7519e",
   "metadata": {},
   "outputs": [
    {
     "data": {
      "text/plain": [
       "0.3068528194400547"
      ]
     },
     "execution_count": 30,
     "metadata": {},
     "output_type": "execute_result"
    }
   ],
   "source": [
    "import math\n",
    "1-math.log(2)"
   ]
  },
  {
   "cell_type": "code",
   "execution_count": 35,
   "id": "bd92283e",
   "metadata": {},
   "outputs": [],
   "source": [
    "import numpy as np\n",
    "def entry(self):\n",
    "    return 1-np.log(self)"
   ]
  },
  {
   "cell_type": "code",
   "execution_count": 36,
   "id": "4ee78ba4",
   "metadata": {},
   "outputs": [
    {
     "data": {
      "text/plain": [
       "-0.09861228866810978"
      ]
     },
     "execution_count": 36,
     "metadata": {},
     "output_type": "execute_result"
    }
   ],
   "source": [
    "entry(3)"
   ]
  },
  {
   "cell_type": "code",
   "execution_count": 39,
   "id": "e0373a0f",
   "metadata": {},
   "outputs": [
    {
     "data": {
      "text/plain": [
       "-0.5849625007211561"
      ]
     },
     "execution_count": 39,
     "metadata": {},
     "output_type": "execute_result"
    }
   ],
   "source": [
    "1-math.log2(3)"
   ]
  },
  {
   "cell_type": "code",
   "execution_count": 27,
   "id": "12eeadc0",
   "metadata": {},
   "outputs": [
    {
     "data": {
      "text/plain": [
       "0.9987931385613216"
      ]
     },
     "execution_count": 27,
     "metadata": {},
     "output_type": "execute_result"
    }
   ],
   "source": [
    "alpha.cdf(5,3)"
   ]
  },
  {
   "cell_type": "code",
   "execution_count": 9,
   "id": "6e9f2f7a",
   "metadata": {},
   "outputs": [
    {
     "data": {
      "text/plain": [
       "0.0"
      ]
     },
     "execution_count": 9,
     "metadata": {},
     "output_type": "execute_result"
    }
   ],
   "source": [
    "alpha.a"
   ]
  },
  {
   "cell_type": "code",
   "execution_count": 10,
   "id": "7b6cfd8b",
   "metadata": {},
   "outputs": [
    {
     "data": {
      "text/plain": [
       "inf"
      ]
     },
     "execution_count": 10,
     "metadata": {},
     "output_type": "execute_result"
    }
   ],
   "source": [
    "alpha.b"
   ]
  },
  {
   "cell_type": "code",
   "execution_count": 16,
   "id": "da65a622",
   "metadata": {},
   "outputs": [
    {
     "data": {
      "text/plain": [
       "nan"
      ]
     },
     "execution_count": 16,
     "metadata": {},
     "output_type": "execute_result"
    }
   ],
   "source": [
    "alpha.badvalue"
   ]
  },
  {
   "cell_type": "code",
   "execution_count": null,
   "id": "d400cea0",
   "metadata": {},
   "outputs": [],
   "source": []
  },
  {
   "cell_type": "code",
   "execution_count": null,
   "id": "56d41243",
   "metadata": {},
   "outputs": [],
   "source": []
  }
 ],
 "metadata": {
  "kernelspec": {
   "display_name": "Python 3 (ipykernel)",
   "language": "python",
   "name": "python3"
  },
  "language_info": {
   "codemirror_mode": {
    "name": "ipython",
    "version": 3
   },
   "file_extension": ".py",
   "mimetype": "text/x-python",
   "name": "python",
   "nbconvert_exporter": "python",
   "pygments_lexer": "ipython3",
   "version": "3.9.12"
  }
 },
 "nbformat": 4,
 "nbformat_minor": 5
}
