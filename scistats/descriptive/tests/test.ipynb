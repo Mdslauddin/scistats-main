{
 "cells": [
  {
   "cell_type": "code",
   "execution_count": 3,
   "id": "66bc9f8e",
   "metadata": {},
   "outputs": [],
   "source": [
    "def mean_abs_deviation(data):\n",
    "    mean = sum(data) / len(data)\n",
    "    deviation = [abs(x - mean) for x in data]\n",
    "    return sum(deviation) / len(data)\n",
    "\n",
    "def median_abs_deviation(data):\n",
    "    median = sorted(data)[len(data) // 2]\n",
    "    deviation = [abs(x - median) for x in data]\n",
    "    return median(deviation)\n",
    "\n",
    "\n",
    "\n"
   ]
  },
  {
   "cell_type": "code",
   "execution_count": 5,
   "id": "11bfc4a4",
   "metadata": {},
   "outputs": [
    {
     "data": {
      "text/plain": [
       "1.2"
      ]
     },
     "execution_count": 5,
     "metadata": {},
     "output_type": "execute_result"
    }
   ],
   "source": [
    "# example usage\n",
    "data = [1, 2, 3, 4, 5]\n",
    "\n",
    "mad = mean_abs_deviation(data)\n",
    "mad"
   ]
  },
  {
   "cell_type": "code",
   "execution_count": 6,
   "id": "6f388aeb",
   "metadata": {},
   "outputs": [
    {
     "ename": "TypeError",
     "evalue": "'int' object is not callable",
     "output_type": "error",
     "traceback": [
      "\u001b[1;31m---------------------------------------------------------------------------\u001b[0m",
      "\u001b[1;31mTypeError\u001b[0m                                 Traceback (most recent call last)",
      "Input \u001b[1;32mIn [6]\u001b[0m, in \u001b[0;36m<cell line: 1>\u001b[1;34m()\u001b[0m\n\u001b[1;32m----> 1\u001b[0m medad \u001b[38;5;241m=\u001b[39m \u001b[43mmedian_abs_deviation\u001b[49m\u001b[43m(\u001b[49m\u001b[43mdata\u001b[49m\u001b[43m)\u001b[49m\n",
      "Input \u001b[1;32mIn [3]\u001b[0m, in \u001b[0;36mmedian_abs_deviation\u001b[1;34m(data)\u001b[0m\n\u001b[0;32m      7\u001b[0m median \u001b[38;5;241m=\u001b[39m \u001b[38;5;28msorted\u001b[39m(data)[\u001b[38;5;28mlen\u001b[39m(data) \u001b[38;5;241m/\u001b[39m\u001b[38;5;241m/\u001b[39m \u001b[38;5;241m2\u001b[39m]\n\u001b[0;32m      8\u001b[0m deviation \u001b[38;5;241m=\u001b[39m [\u001b[38;5;28mabs\u001b[39m(x \u001b[38;5;241m-\u001b[39m median) \u001b[38;5;28;01mfor\u001b[39;00m x \u001b[38;5;129;01min\u001b[39;00m data]\n\u001b[1;32m----> 9\u001b[0m \u001b[38;5;28;01mreturn\u001b[39;00m \u001b[43mmedian\u001b[49m\u001b[43m(\u001b[49m\u001b[43mdeviation\u001b[49m\u001b[43m)\u001b[49m\n",
      "\u001b[1;31mTypeError\u001b[0m: 'int' object is not callable"
     ]
    }
   ],
   "source": [
    "medad = median_abs_deviation(data)"
   ]
  },
  {
   "cell_type": "code",
   "execution_count": 7,
   "id": "0fcbd405",
   "metadata": {},
   "outputs": [
    {
     "name": "stdout",
     "output_type": "stream",
     "text": [
      "Pearson Correlation: 0.12499999999999997\n",
      "Spearman Correlation: 0.09999999999999998\n"
     ]
    }
   ],
   "source": [
    "import numpy as np\n",
    "\n",
    "def pearson_correlation(x, y):\n",
    "    x_mean = np.mean(x)\n",
    "    y_mean = np.mean(y)\n",
    "    x_std = np.std(x)\n",
    "    y_std = np.std(y)\n",
    "    cov = np.cov(x, y)[0][1]\n",
    "    return cov / (x_std * y_std)\n",
    "\n",
    "def spearman_correlation(x, y):\n",
    "    x_rank = np.argsort(x)\n",
    "    y_rank = np.argsort(y)\n",
    "    x_d = np.array([x_rank[i] - y_rank[i] for i in range(len(x))])\n",
    "    return 1 - (6 * np.sum(x_d**2)) / (len(x) * (len(x)**2 - 1))\n",
    "\n",
    "# example usage\n",
    "x = [1, 2, 3, 4, 5]\n",
    "y = [1, 4, 5, 3, 2]\n",
    "\n",
    "pearson = pearson_correlation(x, y)\n",
    "print(\"Pearson Correlation:\", pearson)\n",
    "\n",
    "spearman = spearman_correlation(x, y)\n",
    "print(\"Spearman Correlation:\", spearman)\n"
   ]
  },
  {
   "cell_type": "code",
   "execution_count": 8,
   "id": "128dfdc4",
   "metadata": {},
   "outputs": [
    {
     "name": "stdout",
     "output_type": "stream",
     "text": [
      "Kendall Correlation: 0.0\n"
     ]
    }
   ],
   "source": [
    "def kendall_correlation(x, y):\n",
    "    n = len(x)\n",
    "    x_rank = sorted(range(len(x)), key=lambda i: x[i])\n",
    "    y_rank = sorted(range(len(y)), key=lambda i: y[i])\n",
    "    concordant_pairs = 0\n",
    "    discordant_pairs = 0\n",
    "    for i in range(n):\n",
    "        for j in range(i+1, n):\n",
    "            if (x_rank[i] < x_rank[j] and y_rank[i] < y_rank[j]) or (x_rank[i] > x_rank[j] and y_rank[i] > y_rank[j]):\n",
    "                concordant_pairs += 1\n",
    "            else:\n",
    "                discordant_pairs += 1\n",
    "    return (concordant_pairs - discordant_pairs) / (n * (n - 1) / 2)\n",
    "\n",
    "# example usage\n",
    "x = [1, 2, 3, 4, 5]\n",
    "y = [1, 4, 5, 3, 2]\n",
    "\n",
    "kendall = kendall_correlation(x, y)\n",
    "print(\"Kendall Correlation:\", kendall)\n"
   ]
  },
  {
   "cell_type": "code",
   "execution_count": 9,
   "id": "340c0dd3",
   "metadata": {},
   "outputs": [
    {
     "name": "stdout",
     "output_type": "stream",
     "text": [
      "Covariance:\n",
      " [[11.25 11.25 11.25]\n",
      " [11.25 11.25 11.25]\n",
      " [11.25 11.25 11.25]]\n",
      "Mean:\n",
      " [5.5 6.5 7.5]\n"
     ]
    },
    {
     "name": "stderr",
     "output_type": "stream",
     "text": [
      "D:\\Anaconda\\lib\\site-packages\\sklearn\\covariance\\_robust_covariance.py:738: UserWarning: The covariance matrix associated to your dataset is not full rank\n",
      "  warnings.warn(\n"
     ]
    }
   ],
   "source": [
    "import numpy as np\n",
    "from sklearn.covariance import EmpiricalCovariance, MinCovDet\n",
    "\n",
    "def robust_covariance(X):\n",
    "    mcd = MinCovDet().fit(X)\n",
    "    return mcd.covariance_, mcd.location_\n",
    "\n",
    "# example usage\n",
    "X = np.array([[1, 2, 3], [4, 5, 6], [7, 8, 9], [10, 11, 12]])\n",
    "cov, mean = robust_covariance(X)\n",
    "print(\"Covariance:\\n\", cov)\n",
    "print(\"Mean:\\n\", mean)\n"
   ]
  },
  {
   "cell_type": "code",
   "execution_count": 10,
   "id": "922877c5",
   "metadata": {},
   "outputs": [
    {
     "name": "stdout",
     "output_type": "stream",
     "text": [
      "Cholesky Decomposition:\n",
      " [[1.         0.         0.        ]\n",
      " [0.5        0.8660254  0.        ]\n",
      " [0.2        0.23094011 0.95219046]]\n"
     ]
    }
   ],
   "source": [
    "import numpy as np\n",
    "\n",
    "def cholesky_decomposition(covariance_matrix):\n",
    "    n = covariance_matrix.shape[0]\n",
    "    L = np.zeros((n, n))\n",
    "    for i in range(n):\n",
    "        for j in range(i + 1):\n",
    "            s = sum(L[i, k] * L[j, k] for k in range(j))\n",
    "            if i == j:\n",
    "                L[i, j] = np.sqrt(covariance_matrix[i, i] - s)\n",
    "            else:\n",
    "                L[i, j] = (covariance_matrix[i, j] - s) / L[j, j]\n",
    "    return L\n",
    "\n",
    "# example usage\n",
    "cov = np.array([[1, 0.5, 0.2], [0.5, 1, 0.3], [0.2, 0.3, 1]])\n",
    "L = cholesky_decomposition(cov)\n",
    "print(\"Cholesky Decomposition:\\n\", L)\n"
   ]
  },
  {
   "cell_type": "code",
   "execution_count": 11,
   "id": "e0d6e6cf",
   "metadata": {},
   "outputs": [
    {
     "name": "stdout",
     "output_type": "stream",
     "text": [
      "Correlation Matrix:\n",
      " [[1.  0.5 0.2]\n",
      " [0.5 1.  0.3]\n",
      " [0.2 0.3 1. ]]\n"
     ]
    }
   ],
   "source": [
    "import numpy as np\n",
    "\n",
    "def covariance_to_correlation(covariance_matrix):\n",
    "    n = covariance_matrix.shape[0]\n",
    "    correlation_matrix = np.zeros((n, n))\n",
    "    for i in range(n):\n",
    "        for j in range(n):\n",
    "            correlation_matrix[i, j] = covariance_matrix[i, j] / np.sqrt(covariance_matrix[i, i] * covariance_matrix[j, j])\n",
    "    return correlation_matrix\n",
    "\n",
    "# example usage\n",
    "cov = np.array([[1, 0.5, 0.2], [0.5, 1, 0.3], [0.2, 0.3, 1]])\n",
    "corr = covariance_to_correlation(cov)\n",
    "print(\"Correlation Matrix:\\n\", corr)\n"
   ]
  },
  {
   "cell_type": "code",
   "execution_count": 12,
   "id": "dfbe8aee",
   "metadata": {},
   "outputs": [
    {
     "name": "stdout",
     "output_type": "stream",
     "text": [
      "Partial Correlation Coefficient: -1.0\n"
     ]
    }
   ],
   "source": [
    "import numpy as np\n",
    "from scipy.linalg import inv\n",
    "\n",
    "def partial_correlation(data, var1, var2, controlling_vars):\n",
    "    X = np.column_stack((data[:, controlling_vars], data[:, [var1, var2]]))\n",
    "    cov = np.cov(X, rowvar=False)\n",
    "    n = X.shape[1]\n",
    "    partial_correlation = -cov[n - 2, n - 1] / np.sqrt(cov[n - 2, n - 2] * cov[n - 1, n - 1])\n",
    "    return partial_correlation\n",
    "\n",
    "# example usage\n",
    "data = np.array([[1, 2, 3, 4, 5], [2, 3, 4, 5, 6], [3, 4, 5, 6, 7], [4, 5, 6, 7, 8]])\n",
    "pcorr = partial_correlation(data, 3, 4, [0, 1, 2])\n",
    "print(\"Partial Correlation Coefficient:\", pcorr)\n"
   ]
  },
  {
   "cell_type": "code",
   "execution_count": 13,
   "id": "f549f629",
   "metadata": {},
   "outputs": [],
   "source": [
    "import numpy as np\n",
    "from scipy.stats import pearsonr\n",
    "\n",
    "def partial_corr(x, y, covars):\n",
    "    \"\"\"\n",
    "    Calculate the partial correlation coefficient between two variables x and y, \n",
    "    adjusting for the effect of a set of covariates.\n",
    "    \n",
    "    Parameters:\n",
    "        x, y (np.array): arrays of the two variables to be correlated\n",
    "        covars (np.array): array of covariates\n",
    "    \n",
    "    Returns:\n",
    "        tuple: Pearson's correlation coefficient and p-value\n",
    "    \"\"\"\n",
    "    # Calculate the residuals for x and y after regressing out the effect of the covariates\n",
    "    X = np.column_stack((covars, x))\n",
    "    beta_x = np.linalg.lstsq(X, y, rcond=None)[0]\n",
    "    res_x = y - X @ beta_x\n",
    "    Y = np.column_stack((covars, y))\n",
    "    beta_y = np.linalg.lstsq(Y, x, rcond=None)[0]\n",
    "    res_y = x - Y @ beta_y\n",
    "    \n",
    "    # Calculate the partial correlation coefficient between the residuals\n",
    "    corr, p_value = pearsonr(res_x, res_y)\n",
    "    return corr, p_value\n"
   ]
  },
  {
   "cell_type": "code",
   "execution_count": 14,
   "id": "e1521fac",
   "metadata": {},
   "outputs": [],
   "source": [
    "import numpy as np\n",
    "from scipy.optimize import minimize\n",
    "\n",
    "def nearest_corr_matrix(matrix):\n",
    "    \"\"\"\n",
    "    Compute the nearest correlation matrix for a given matrix by minimizing the Frobenius distance.\n",
    "    \n",
    "    Parameters:\n",
    "        matrix (np.array): The input matrix to find the nearest correlation matrix for.\n",
    "        \n",
    "    Returns:\n",
    "        np.array: The nearest correlation matrix.\n",
    "    \"\"\"\n",
    "    n = matrix.shape[0]\n",
    "    \n",
    "    # Constraints for optimization\n",
    "    bounds = [(1e-15, 1 - 1e-15) for i in range(n * (n - 1) // 2)]\n",
    "    \n",
    "    # Minimize the Frobenius distance between the input matrix and the nearest correlation matrix\n",
    "    def frobenius_distance(x):\n",
    "        k = 0\n",
    "        nearest_matrix = np.zeros((n, n))\n",
    "        for i in range(n):\n",
    "            for j in range(i+1, n):\n",
    "                nearest_matrix[i, j] = x[k]\n",
    "                nearest_matrix[j, i] = x[k]\n",
    "                k += 1\n",
    "        nearest_matrix = (nearest_matrix + nearest_matrix.T) / 2\n",
    "        nearest_matrix = nearest_matrix + np.eye(n)\n",
    "        return np.linalg.norm(nearest_matrix - matrix, 'fro')\n",
    "    \n",
    "    result = minimize(frobenius_distance, [0.5 for i in range(n * (n - 1) // 2)], bounds=bounds)\n",
    "    x = result.x\n",
    "    k = 0\n",
    "    nearest_matrix = np.zeros((n, n))\n",
    "    for i in range(n):\n",
    "        for j in range(i+1, n):\n",
    "            nearest_matrix[i, j] = x[k]\n",
    "            nearest_matrix[j, i] = x[k]\n",
    "            k += 1\n",
    "    nearest_matrix = (nearest_matrix + nearest_matrix.T) / 2\n",
    "    nearest_matrix = nearest_matrix + np.eye(n)\n",
    "    return nearest_matrix\n"
   ]
  },
  {
   "cell_type": "code",
   "execution_count": null,
   "id": "76092405",
   "metadata": {},
   "outputs": [],
   "source": []
  }
 ],
 "metadata": {
  "kernelspec": {
   "display_name": "Python 3 (ipykernel)",
   "language": "python",
   "name": "python3"
  },
  "language_info": {
   "codemirror_mode": {
    "name": "ipython",
    "version": 3
   },
   "file_extension": ".py",
   "mimetype": "text/x-python",
   "name": "python",
   "nbconvert_exporter": "python",
   "pygments_lexer": "ipython3",
   "version": "3.9.12"
  }
 },
 "nbformat": 4,
 "nbformat_minor": 5
}
