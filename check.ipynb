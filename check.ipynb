{
 "cells": [
  {
   "cell_type": "code",
   "execution_count": 1,
   "id": "56096d0b",
   "metadata": {},
   "outputs": [],
   "source": [
    "import scistats as stat"
   ]
  },
  {
   "cell_type": "code",
   "execution_count": 2,
   "id": "c46703bc",
   "metadata": {
    "scrolled": true
   },
   "outputs": [
    {
     "data": {
      "text/plain": [
       "4.242640687119285"
      ]
     },
     "execution_count": 2,
     "metadata": {},
     "output_type": "execute_result"
    }
   ],
   "source": [
    "stat.zscore(9,[1,2,3,4,5,])"
   ]
  },
  {
   "cell_type": "code",
   "execution_count": 3,
   "id": "f88c9539",
   "metadata": {},
   "outputs": [
    {
     "name": "stdout",
     "output_type": "stream",
     "text": [
      "0.0\n"
     ]
    }
   ],
   "source": [
    "def z_score(x, mean, stddev):\n",
    "    z = (x - mean) / stddev\n",
    "    return z\n",
    "\n",
    "# example usage\n",
    "data = [1, 2, 3, 4, 5]\n",
    "mean = sum(data) / len(data)\n",
    "stddev = (sum([(x - mean)**2 for x in data]) / len(data))**0.5\n",
    "\n",
    "x = 3\n",
    "z = z_score(x, mean, stddev)\n",
    "print(z)\n"
   ]
  },
  {
   "cell_type": "code",
   "execution_count": 3,
   "id": "99a0b52a",
   "metadata": {},
   "outputs": [],
   "source": [
    "import scistats.stats as stat"
   ]
  },
  {
   "cell_type": "code",
   "execution_count": null,
   "id": "74a03d7c",
   "metadata": {},
   "outputs": [],
   "source": [
    "stat."
   ]
  },
  {
   "cell_type": "code",
   "execution_count": null,
   "id": "708e2c74",
   "metadata": {},
   "outputs": [],
   "source": [
    "stat.__"
   ]
  },
  {
   "cell_type": "code",
   "execution_count": null,
   "id": "9e16beca",
   "metadata": {},
   "outputs": [],
   "source": [
    "stat.__author__"
   ]
  },
  {
   "cell_type": "code",
   "execution_count": null,
   "id": "802b6c76",
   "metadata": {},
   "outputs": [],
   "source": [
    "stat.__package__"
   ]
  },
  {
   "cell_type": "code",
   "execution_count": null,
   "id": "524322d5",
   "metadata": {},
   "outputs": [],
   "source": [
    "stat.__version__"
   ]
  },
  {
   "cell_type": "code",
   "execution_count": null,
   "id": "fddc9596",
   "metadata": {},
   "outputs": [],
   "source": [
    "stat.__email__"
   ]
  },
  {
   "cell_type": "code",
   "execution_count": null,
   "id": "f72565aa",
   "metadata": {},
   "outputs": [],
   "source": [
    "stat.__name__"
   ]
  },
  {
   "cell_type": "code",
   "execution_count": null,
   "id": "f25543ce",
   "metadata": {},
   "outputs": [],
   "source": [
    "stat.geomean([1,2,3,4,5,5])"
   ]
  },
  {
   "cell_type": "code",
   "execution_count": null,
   "id": "628cfdce",
   "metadata": {},
   "outputs": [],
   "source": [
    "import statistics"
   ]
  },
  {
   "cell_type": "code",
   "execution_count": null,
   "id": "9fe1b087",
   "metadata": {},
   "outputs": [],
   "source": [
    "statistics.geometric_mean([1,2,3,4,5,5],2)"
   ]
  },
  {
   "cell_type": "code",
   "execution_count": null,
   "id": "c04f3c6c",
   "metadata": {},
   "outputs": [],
   "source": [
    "stat.harmmean([3,4,5,6,6])"
   ]
  },
  {
   "cell_type": "code",
   "execution_count": null,
   "id": "f8183425",
   "metadata": {
    "scrolled": true
   },
   "outputs": [],
   "source": [
    "statistics.harmonic_mean([3,4,5,6,6])"
   ]
  },
  {
   "cell_type": "code",
   "execution_count": null,
   "id": "f368238b",
   "metadata": {},
   "outputs": [],
   "source": [
    "statistics.geometric_mean()"
   ]
  },
  {
   "cell_type": "code",
   "execution_count": null,
   "id": "0e7ec7da",
   "metadata": {},
   "outputs": [],
   "source": [
    "Return the harmonic mean of data.\n",
    "\n",
    "The harmonic mean, sometimes called the subcontrary mean, is the\n",
    "reciprocal of the arithmetic mean of the reciprocals of the data,\n",
    "and is often appropriate when averaging quantities which are rates\n",
    "or ratios, for example speeds. Example:\n",
    "\n",
    "Suppose an investor purchases an equal value of shares in each of\n",
    "three companies, with P/E (price/earning) ratios of 2.5, 3 and 10.\n",
    "What is the average P/E ratio for the investor's portfolio?\n",
    "\n",
    ">>> harmonic_mean([2.5, 3, 10])  # For an equal investment portfolio.\n",
    "3.6\n",
    "\n",
    "Using the arithmetic mean would give an average of about 5.167, which\n",
    "is too high.\n",
    "\n",
    "If ``data`` is empty, or any element is less than zero,\n",
    "``harmonic_mean`` will raise ``StatisticsError``."
   ]
  },
  {
   "cell_type": "code",
   "execution_count": null,
   "id": "749d9e05",
   "metadata": {},
   "outputs": [],
   "source": [
    "statistics.tau"
   ]
  },
  {
   "cell_type": "code",
   "execution_count": null,
   "id": "f626ef49",
   "metadata": {},
   "outputs": [],
   "source": [
    "statistics.__name__"
   ]
  },
  {
   "cell_type": "code",
   "execution_count": null,
   "id": "8290e7b8",
   "metadata": {
    "scrolled": true
   },
   "outputs": [],
   "source": [
    "statistics.__all__"
   ]
  },
  {
   "cell_type": "code",
   "execution_count": null,
   "id": "8f143ddc",
   "metadata": {},
   "outputs": [],
   "source": [
    "import os "
   ]
  },
  {
   "cell_type": "code",
   "execution_count": null,
   "id": "da90e547",
   "metadata": {
    "scrolled": true
   },
   "outputs": [],
   "source": [
    "dir(statistics)"
   ]
  },
  {
   "cell_type": "code",
   "execution_count": null,
   "id": "8358718b",
   "metadata": {},
   "outputs": [],
   "source": [
    "__all__ = [dir(stat)]"
   ]
  },
  {
   "cell_type": "code",
   "execution_count": null,
   "id": "22da0eba",
   "metadata": {},
   "outputs": [],
   "source": [
    "__all__"
   ]
  },
  {
   "cell_type": "code",
   "execution_count": null,
   "id": "2617c2d7",
   "metadata": {},
   "outputs": [],
   "source": [
    "stat.kurtosis"
   ]
  }
 ],
 "metadata": {
  "kernelspec": {
   "display_name": "Python 3 (ipykernel)",
   "language": "python",
   "name": "python3"
  },
  "language_info": {
   "codemirror_mode": {
    "name": "ipython",
    "version": 3
   },
   "file_extension": ".py",
   "mimetype": "text/x-python",
   "name": "python",
   "nbconvert_exporter": "python",
   "pygments_lexer": "ipython3",
   "version": "3.9.12"
  }
 },
 "nbformat": 4,
 "nbformat_minor": 5
}
